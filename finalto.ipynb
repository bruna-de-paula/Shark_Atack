{
 "cells": [
  {
   "cell_type": "code",
   "execution_count": 1,
   "metadata": {
    "ExecuteTime": {
     "end_time": "2020-12-30T20:11:36.777763Z",
     "start_time": "2020-12-30T20:11:36.772783Z"
    },
    "cell_style": "center",
    "code_folding": []
   },
   "outputs": [],
   "source": [
    "#PROJETO2: SHARK ATTACKS"
   ]
  },
  {
   "cell_type": "code",
   "execution_count": 311,
   "metadata": {
    "ExecuteTime": {
     "end_time": "2021-01-06T14:07:35.359294Z",
     "start_time": "2021-01-06T14:07:33.753425Z"
    }
   },
   "outputs": [],
   "source": [
    "#importar bibliotecas\n",
    "import numpy as np\n",
    "import pandas as pd\n",
    "import sys\n",
    "import re\n",
    "import random\n",
    "import os\n",
    "import unicodedata\n",
    "import pymysql"
   ]
  },
  {
   "cell_type": "code",
   "execution_count": 277,
   "metadata": {
    "ExecuteTime": {
     "end_time": "2021-01-06T13:45:42.056242Z",
     "start_time": "2021-01-06T13:45:41.310933Z"
    }
   },
   "outputs": [],
   "source": [
    "#importar o arquivo csv\n",
    "df=pd.read_csv('../PROJETO2/attacks.csv', encoding='latin-1')\n"
   ]
  },
  {
   "cell_type": "code",
   "execution_count": 278,
   "metadata": {
    "ExecuteTime": {
     "end_time": "2021-01-06T13:45:43.368262Z",
     "start_time": "2021-01-06T13:45:43.360262Z"
    }
   },
   "outputs": [
    {
     "data": {
      "text/plain": [
       "(25723, 24)"
      ]
     },
     "execution_count": 278,
     "metadata": {},
     "output_type": "execute_result"
    }
   ],
   "source": [
    "df.shape"
   ]
  },
  {
   "cell_type": "code",
   "execution_count": 279,
   "metadata": {
    "ExecuteTime": {
     "end_time": "2021-01-06T13:45:44.601890Z",
     "start_time": "2021-01-06T13:45:44.441904Z"
    }
   },
   "outputs": [
    {
     "data": {
      "text/html": [
       "<div>\n",
       "<style scoped>\n",
       "    .dataframe tbody tr th:only-of-type {\n",
       "        vertical-align: middle;\n",
       "    }\n",
       "\n",
       "    .dataframe tbody tr th {\n",
       "        vertical-align: top;\n",
       "    }\n",
       "\n",
       "    .dataframe thead th {\n",
       "        text-align: right;\n",
       "    }\n",
       "</style>\n",
       "<table border=\"1\" class=\"dataframe\">\n",
       "  <thead>\n",
       "    <tr style=\"text-align: right;\">\n",
       "      <th></th>\n",
       "      <th>Case Number</th>\n",
       "      <th>Date</th>\n",
       "      <th>Year</th>\n",
       "      <th>Type</th>\n",
       "      <th>Country</th>\n",
       "      <th>Area</th>\n",
       "      <th>Location</th>\n",
       "      <th>Activity</th>\n",
       "      <th>Name</th>\n",
       "      <th>Sex</th>\n",
       "      <th>...</th>\n",
       "      <th>Species</th>\n",
       "      <th>Investigator or Source</th>\n",
       "      <th>pdf</th>\n",
       "      <th>href formula</th>\n",
       "      <th>href</th>\n",
       "      <th>Case Number.1</th>\n",
       "      <th>Case Number.2</th>\n",
       "      <th>original order</th>\n",
       "      <th>Unnamed: 22</th>\n",
       "      <th>Unnamed: 23</th>\n",
       "    </tr>\n",
       "  </thead>\n",
       "  <tbody>\n",
       "    <tr>\n",
       "      <th>0</th>\n",
       "      <td>2018.06.25</td>\n",
       "      <td>25-Jun-2018</td>\n",
       "      <td>2018.0</td>\n",
       "      <td>Boating</td>\n",
       "      <td>USA</td>\n",
       "      <td>California</td>\n",
       "      <td>Oceanside, San Diego County</td>\n",
       "      <td>Paddling</td>\n",
       "      <td>Julie Wolfe</td>\n",
       "      <td>F</td>\n",
       "      <td>...</td>\n",
       "      <td>White shark</td>\n",
       "      <td>R. Collier, GSAF</td>\n",
       "      <td>2018.06.25-Wolfe.pdf</td>\n",
       "      <td>http://sharkattackfile.net/spreadsheets/pdf_di...</td>\n",
       "      <td>http://sharkattackfile.net/spreadsheets/pdf_di...</td>\n",
       "      <td>2018.06.25</td>\n",
       "      <td>2018.06.25</td>\n",
       "      <td>6303.0</td>\n",
       "      <td>NaN</td>\n",
       "      <td>NaN</td>\n",
       "    </tr>\n",
       "    <tr>\n",
       "      <th>1</th>\n",
       "      <td>2018.06.18</td>\n",
       "      <td>18-Jun-2018</td>\n",
       "      <td>2018.0</td>\n",
       "      <td>Unprovoked</td>\n",
       "      <td>USA</td>\n",
       "      <td>Georgia</td>\n",
       "      <td>St. Simon Island, Glynn County</td>\n",
       "      <td>Standing</td>\n",
       "      <td>Adyson McNeely</td>\n",
       "      <td>F</td>\n",
       "      <td>...</td>\n",
       "      <td>NaN</td>\n",
       "      <td>K.McMurray, TrackingSharks.com</td>\n",
       "      <td>2018.06.18-McNeely.pdf</td>\n",
       "      <td>http://sharkattackfile.net/spreadsheets/pdf_di...</td>\n",
       "      <td>http://sharkattackfile.net/spreadsheets/pdf_di...</td>\n",
       "      <td>2018.06.18</td>\n",
       "      <td>2018.06.18</td>\n",
       "      <td>6302.0</td>\n",
       "      <td>NaN</td>\n",
       "      <td>NaN</td>\n",
       "    </tr>\n",
       "    <tr>\n",
       "      <th>2</th>\n",
       "      <td>2018.06.09</td>\n",
       "      <td>09-Jun-2018</td>\n",
       "      <td>2018.0</td>\n",
       "      <td>Invalid</td>\n",
       "      <td>USA</td>\n",
       "      <td>Hawaii</td>\n",
       "      <td>Habush, Oahu</td>\n",
       "      <td>Surfing</td>\n",
       "      <td>John Denges</td>\n",
       "      <td>M</td>\n",
       "      <td>...</td>\n",
       "      <td>NaN</td>\n",
       "      <td>K.McMurray, TrackingSharks.com</td>\n",
       "      <td>2018.06.09-Denges.pdf</td>\n",
       "      <td>http://sharkattackfile.net/spreadsheets/pdf_di...</td>\n",
       "      <td>http://sharkattackfile.net/spreadsheets/pdf_di...</td>\n",
       "      <td>2018.06.09</td>\n",
       "      <td>2018.06.09</td>\n",
       "      <td>6301.0</td>\n",
       "      <td>NaN</td>\n",
       "      <td>NaN</td>\n",
       "    </tr>\n",
       "    <tr>\n",
       "      <th>3</th>\n",
       "      <td>2018.06.08</td>\n",
       "      <td>08-Jun-2018</td>\n",
       "      <td>2018.0</td>\n",
       "      <td>Unprovoked</td>\n",
       "      <td>AUSTRALIA</td>\n",
       "      <td>New South Wales</td>\n",
       "      <td>Arrawarra Headland</td>\n",
       "      <td>Surfing</td>\n",
       "      <td>male</td>\n",
       "      <td>M</td>\n",
       "      <td>...</td>\n",
       "      <td>2 m shark</td>\n",
       "      <td>B. Myatt, GSAF</td>\n",
       "      <td>2018.06.08-Arrawarra.pdf</td>\n",
       "      <td>http://sharkattackfile.net/spreadsheets/pdf_di...</td>\n",
       "      <td>http://sharkattackfile.net/spreadsheets/pdf_di...</td>\n",
       "      <td>2018.06.08</td>\n",
       "      <td>2018.06.08</td>\n",
       "      <td>6300.0</td>\n",
       "      <td>NaN</td>\n",
       "      <td>NaN</td>\n",
       "    </tr>\n",
       "    <tr>\n",
       "      <th>4</th>\n",
       "      <td>2018.06.04</td>\n",
       "      <td>04-Jun-2018</td>\n",
       "      <td>2018.0</td>\n",
       "      <td>Provoked</td>\n",
       "      <td>MEXICO</td>\n",
       "      <td>Colima</td>\n",
       "      <td>La Ticla</td>\n",
       "      <td>Free diving</td>\n",
       "      <td>Gustavo Ramos</td>\n",
       "      <td>M</td>\n",
       "      <td>...</td>\n",
       "      <td>Tiger shark, 3m</td>\n",
       "      <td>A .Kipper</td>\n",
       "      <td>2018.06.04-Ramos.pdf</td>\n",
       "      <td>http://sharkattackfile.net/spreadsheets/pdf_di...</td>\n",
       "      <td>http://sharkattackfile.net/spreadsheets/pdf_di...</td>\n",
       "      <td>2018.06.04</td>\n",
       "      <td>2018.06.04</td>\n",
       "      <td>6299.0</td>\n",
       "      <td>NaN</td>\n",
       "      <td>NaN</td>\n",
       "    </tr>\n",
       "    <tr>\n",
       "      <th>...</th>\n",
       "      <td>...</td>\n",
       "      <td>...</td>\n",
       "      <td>...</td>\n",
       "      <td>...</td>\n",
       "      <td>...</td>\n",
       "      <td>...</td>\n",
       "      <td>...</td>\n",
       "      <td>...</td>\n",
       "      <td>...</td>\n",
       "      <td>...</td>\n",
       "      <td>...</td>\n",
       "      <td>...</td>\n",
       "      <td>...</td>\n",
       "      <td>...</td>\n",
       "      <td>...</td>\n",
       "      <td>...</td>\n",
       "      <td>...</td>\n",
       "      <td>...</td>\n",
       "      <td>...</td>\n",
       "      <td>...</td>\n",
       "      <td>...</td>\n",
       "    </tr>\n",
       "    <tr>\n",
       "      <th>6300</th>\n",
       "      <td>ND.0002</td>\n",
       "      <td>1883-1889</td>\n",
       "      <td>0.0</td>\n",
       "      <td>Unprovoked</td>\n",
       "      <td>PANAMA</td>\n",
       "      <td>NaN</td>\n",
       "      <td>Panama Bay 8ºN, 79ºW</td>\n",
       "      <td>NaN</td>\n",
       "      <td>Jules Patterson</td>\n",
       "      <td>M</td>\n",
       "      <td>...</td>\n",
       "      <td>NaN</td>\n",
       "      <td>The Sun, 10/20/1938</td>\n",
       "      <td>ND-0002-JulesPatterson.pdf</td>\n",
       "      <td>http://sharkattackfile.net/spreadsheets/pdf_di...</td>\n",
       "      <td>http://sharkattackfile.net/spreadsheets/pdf_di...</td>\n",
       "      <td>ND.0002</td>\n",
       "      <td>ND.0002</td>\n",
       "      <td>3.0</td>\n",
       "      <td>NaN</td>\n",
       "      <td>NaN</td>\n",
       "    </tr>\n",
       "    <tr>\n",
       "      <th>6301</th>\n",
       "      <td>ND.0001</td>\n",
       "      <td>1845-1853</td>\n",
       "      <td>0.0</td>\n",
       "      <td>Unprovoked</td>\n",
       "      <td>CEYLON (SRI LANKA)</td>\n",
       "      <td>Eastern Province</td>\n",
       "      <td>Below the English fort, Trincomalee</td>\n",
       "      <td>Swimming</td>\n",
       "      <td>male</td>\n",
       "      <td>M</td>\n",
       "      <td>...</td>\n",
       "      <td>NaN</td>\n",
       "      <td>S.W. Baker</td>\n",
       "      <td>ND-0001-Ceylon.pdf</td>\n",
       "      <td>http://sharkattackfile.net/spreadsheets/pdf_di...</td>\n",
       "      <td>http://sharkattackfile.net/spreadsheets/pdf_di...</td>\n",
       "      <td>ND.0001</td>\n",
       "      <td>ND.0001</td>\n",
       "      <td>2.0</td>\n",
       "      <td>NaN</td>\n",
       "      <td>NaN</td>\n",
       "    </tr>\n",
       "    <tr>\n",
       "      <th>6302</th>\n",
       "      <td>0</td>\n",
       "      <td>NaN</td>\n",
       "      <td>NaN</td>\n",
       "      <td>NaN</td>\n",
       "      <td>NaN</td>\n",
       "      <td>NaN</td>\n",
       "      <td>NaN</td>\n",
       "      <td>NaN</td>\n",
       "      <td>NaN</td>\n",
       "      <td>NaN</td>\n",
       "      <td>...</td>\n",
       "      <td>NaN</td>\n",
       "      <td>NaN</td>\n",
       "      <td>NaN</td>\n",
       "      <td>NaN</td>\n",
       "      <td>NaN</td>\n",
       "      <td>NaN</td>\n",
       "      <td>NaN</td>\n",
       "      <td>6304.0</td>\n",
       "      <td>NaN</td>\n",
       "      <td>NaN</td>\n",
       "    </tr>\n",
       "    <tr>\n",
       "      <th>6303</th>\n",
       "      <td>0</td>\n",
       "      <td>NaN</td>\n",
       "      <td>NaN</td>\n",
       "      <td>NaN</td>\n",
       "      <td>NaN</td>\n",
       "      <td>NaN</td>\n",
       "      <td>NaN</td>\n",
       "      <td>NaN</td>\n",
       "      <td>NaN</td>\n",
       "      <td>NaN</td>\n",
       "      <td>...</td>\n",
       "      <td>NaN</td>\n",
       "      <td>NaN</td>\n",
       "      <td>NaN</td>\n",
       "      <td>NaN</td>\n",
       "      <td>NaN</td>\n",
       "      <td>NaN</td>\n",
       "      <td>NaN</td>\n",
       "      <td>6305.0</td>\n",
       "      <td>NaN</td>\n",
       "      <td>NaN</td>\n",
       "    </tr>\n",
       "    <tr>\n",
       "      <th>6304</th>\n",
       "      <td>0</td>\n",
       "      <td>NaN</td>\n",
       "      <td>NaN</td>\n",
       "      <td>NaN</td>\n",
       "      <td>NaN</td>\n",
       "      <td>NaN</td>\n",
       "      <td>NaN</td>\n",
       "      <td>NaN</td>\n",
       "      <td>NaN</td>\n",
       "      <td>NaN</td>\n",
       "      <td>...</td>\n",
       "      <td>NaN</td>\n",
       "      <td>NaN</td>\n",
       "      <td>NaN</td>\n",
       "      <td>NaN</td>\n",
       "      <td>NaN</td>\n",
       "      <td>NaN</td>\n",
       "      <td>NaN</td>\n",
       "      <td>6306.0</td>\n",
       "      <td>NaN</td>\n",
       "      <td>NaN</td>\n",
       "    </tr>\n",
       "  </tbody>\n",
       "</table>\n",
       "<p>6305 rows × 24 columns</p>\n",
       "</div>"
      ],
      "text/plain": [
       "     Case Number         Date    Year        Type             Country  \\\n",
       "0     2018.06.25  25-Jun-2018  2018.0     Boating                 USA   \n",
       "1     2018.06.18  18-Jun-2018  2018.0  Unprovoked                 USA   \n",
       "2     2018.06.09  09-Jun-2018  2018.0     Invalid                 USA   \n",
       "3     2018.06.08  08-Jun-2018  2018.0  Unprovoked           AUSTRALIA   \n",
       "4     2018.06.04  04-Jun-2018  2018.0    Provoked              MEXICO   \n",
       "...          ...          ...     ...         ...                 ...   \n",
       "6300     ND.0002    1883-1889     0.0  Unprovoked              PANAMA   \n",
       "6301     ND.0001    1845-1853     0.0  Unprovoked  CEYLON (SRI LANKA)   \n",
       "6302           0          NaN     NaN         NaN                 NaN   \n",
       "6303           0          NaN     NaN         NaN                 NaN   \n",
       "6304           0          NaN     NaN         NaN                 NaN   \n",
       "\n",
       "                  Area                             Location     Activity  \\\n",
       "0           California          Oceanside, San Diego County     Paddling   \n",
       "1              Georgia       St. Simon Island, Glynn County     Standing   \n",
       "2               Hawaii                         Habush, Oahu      Surfing   \n",
       "3      New South Wales                   Arrawarra Headland      Surfing   \n",
       "4               Colima                             La Ticla  Free diving   \n",
       "...                ...                                  ...          ...   \n",
       "6300               NaN                 Panama Bay 8ºN, 79ºW          NaN   \n",
       "6301  Eastern Province  Below the English fort, Trincomalee     Swimming   \n",
       "6302               NaN                                  NaN          NaN   \n",
       "6303               NaN                                  NaN          NaN   \n",
       "6304               NaN                                  NaN          NaN   \n",
       "\n",
       "                 Name Sex   ...         Species   \\\n",
       "0         Julie Wolfe    F  ...      White shark   \n",
       "1     Adyson McNeely     F  ...              NaN   \n",
       "2         John Denges    M  ...              NaN   \n",
       "3                male    M  ...        2 m shark   \n",
       "4      Gustavo Ramos     M  ...  Tiger shark, 3m   \n",
       "...               ...  ...  ...              ...   \n",
       "6300  Jules Patterson    M  ...              NaN   \n",
       "6301             male    M  ...              NaN   \n",
       "6302              NaN  NaN  ...              NaN   \n",
       "6303              NaN  NaN  ...              NaN   \n",
       "6304              NaN  NaN  ...              NaN   \n",
       "\n",
       "              Investigator or Source                         pdf  \\\n",
       "0                   R. Collier, GSAF        2018.06.25-Wolfe.pdf   \n",
       "1     K.McMurray, TrackingSharks.com      2018.06.18-McNeely.pdf   \n",
       "2     K.McMurray, TrackingSharks.com       2018.06.09-Denges.pdf   \n",
       "3                     B. Myatt, GSAF    2018.06.08-Arrawarra.pdf   \n",
       "4                          A .Kipper        2018.06.04-Ramos.pdf   \n",
       "...                              ...                         ...   \n",
       "6300             The Sun, 10/20/1938  ND-0002-JulesPatterson.pdf   \n",
       "6301                      S.W. Baker          ND-0001-Ceylon.pdf   \n",
       "6302                             NaN                         NaN   \n",
       "6303                             NaN                         NaN   \n",
       "6304                             NaN                         NaN   \n",
       "\n",
       "                                           href formula  \\\n",
       "0     http://sharkattackfile.net/spreadsheets/pdf_di...   \n",
       "1     http://sharkattackfile.net/spreadsheets/pdf_di...   \n",
       "2     http://sharkattackfile.net/spreadsheets/pdf_di...   \n",
       "3     http://sharkattackfile.net/spreadsheets/pdf_di...   \n",
       "4     http://sharkattackfile.net/spreadsheets/pdf_di...   \n",
       "...                                                 ...   \n",
       "6300  http://sharkattackfile.net/spreadsheets/pdf_di...   \n",
       "6301  http://sharkattackfile.net/spreadsheets/pdf_di...   \n",
       "6302                                                NaN   \n",
       "6303                                                NaN   \n",
       "6304                                                NaN   \n",
       "\n",
       "                                                   href Case Number.1  \\\n",
       "0     http://sharkattackfile.net/spreadsheets/pdf_di...    2018.06.25   \n",
       "1     http://sharkattackfile.net/spreadsheets/pdf_di...    2018.06.18   \n",
       "2     http://sharkattackfile.net/spreadsheets/pdf_di...    2018.06.09   \n",
       "3     http://sharkattackfile.net/spreadsheets/pdf_di...    2018.06.08   \n",
       "4     http://sharkattackfile.net/spreadsheets/pdf_di...    2018.06.04   \n",
       "...                                                 ...           ...   \n",
       "6300  http://sharkattackfile.net/spreadsheets/pdf_di...       ND.0002   \n",
       "6301  http://sharkattackfile.net/spreadsheets/pdf_di...       ND.0001   \n",
       "6302                                                NaN           NaN   \n",
       "6303                                                NaN           NaN   \n",
       "6304                                                NaN           NaN   \n",
       "\n",
       "     Case Number.2 original order Unnamed: 22 Unnamed: 23  \n",
       "0       2018.06.25         6303.0         NaN         NaN  \n",
       "1       2018.06.18         6302.0         NaN         NaN  \n",
       "2       2018.06.09         6301.0         NaN         NaN  \n",
       "3       2018.06.08         6300.0         NaN         NaN  \n",
       "4       2018.06.04         6299.0         NaN         NaN  \n",
       "...            ...            ...         ...         ...  \n",
       "6300       ND.0002            3.0         NaN         NaN  \n",
       "6301       ND.0001            2.0         NaN         NaN  \n",
       "6302           NaN         6304.0         NaN         NaN  \n",
       "6303           NaN         6305.0         NaN         NaN  \n",
       "6304           NaN         6306.0         NaN         NaN  \n",
       "\n",
       "[6305 rows x 24 columns]"
      ]
     },
     "execution_count": 279,
     "metadata": {},
     "output_type": "execute_result"
    }
   ],
   "source": [
    "df.head(6305)"
   ]
  },
  {
   "cell_type": "code",
   "execution_count": 280,
   "metadata": {
    "ExecuteTime": {
     "end_time": "2021-01-06T13:45:47.749512Z",
     "start_time": "2021-01-06T13:45:47.677518Z"
    }
   },
   "outputs": [
    {
     "data": {
      "text/plain": [
       "Case Number               17021\n",
       "Date                      19421\n",
       "Year                      19423\n",
       "Type                      19425\n",
       "Country                   19471\n",
       "Area                      19876\n",
       "Location                  19961\n",
       "Activity                  19965\n",
       "Name                      19631\n",
       "Sex                       19986\n",
       "Age                       22252\n",
       "Injury                    19449\n",
       "Fatal (Y/N)               19960\n",
       "Time                      22775\n",
       "Species                   22259\n",
       "Investigator or Source    19438\n",
       "pdf                       19421\n",
       "href formula              19422\n",
       "href                      19421\n",
       "Case Number.1             19421\n",
       "Case Number.2             19421\n",
       "original order            19414\n",
       "Unnamed: 22               25722\n",
       "Unnamed: 23               25721\n",
       "dtype: int64"
      ]
     },
     "execution_count": 280,
     "metadata": {},
     "output_type": "execute_result"
    }
   ],
   "source": [
    "#valores ausentes por coluna\n",
    "df.isnull().sum()"
   ]
  },
  {
   "cell_type": "code",
   "execution_count": 281,
   "metadata": {
    "ExecuteTime": {
     "end_time": "2021-01-06T13:45:49.460106Z",
     "start_time": "2021-01-06T13:45:49.396069Z"
    }
   },
   "outputs": [
    {
     "data": {
      "text/plain": [
       "488276"
      ]
     },
     "execution_count": 281,
     "metadata": {},
     "output_type": "execute_result"
    }
   ],
   "source": [
    "#valores ausentes, total\n",
    "df.isnull().sum().sum()"
   ]
  },
  {
   "cell_type": "code",
   "execution_count": 282,
   "metadata": {
    "ExecuteTime": {
     "end_time": "2021-01-06T13:45:52.111682Z",
     "start_time": "2021-01-06T13:45:52.103684Z"
    }
   },
   "outputs": [],
   "source": [
    "#criando uma lista de possíveis valores vazios\n",
    "missing_values = ['n/a','na','--','.','xx','NaN','0.0', '0']"
   ]
  },
  {
   "cell_type": "code",
   "execution_count": 283,
   "metadata": {
    "ExecuteTime": {
     "end_time": "2021-01-06T13:45:53.402077Z",
     "start_time": "2021-01-06T13:45:53.109326Z"
    }
   },
   "outputs": [],
   "source": [
    "#importando novamente o arquivo com a lista\n",
    "df = pd.read_csv('../PROJETO2/attacks.csv', encoding='latin-1', na_values=missing_values)"
   ]
  },
  {
   "cell_type": "code",
   "execution_count": 284,
   "metadata": {
    "ExecuteTime": {
     "end_time": "2021-01-06T13:45:54.824260Z",
     "start_time": "2021-01-06T13:45:54.704271Z"
    }
   },
   "outputs": [
    {
     "data": {
      "text/html": [
       "<div>\n",
       "<style scoped>\n",
       "    .dataframe tbody tr th:only-of-type {\n",
       "        vertical-align: middle;\n",
       "    }\n",
       "\n",
       "    .dataframe tbody tr th {\n",
       "        vertical-align: top;\n",
       "    }\n",
       "\n",
       "    .dataframe thead th {\n",
       "        text-align: right;\n",
       "    }\n",
       "</style>\n",
       "<table border=\"1\" class=\"dataframe\">\n",
       "  <thead>\n",
       "    <tr style=\"text-align: right;\">\n",
       "      <th></th>\n",
       "      <th>Case Number</th>\n",
       "      <th>Date</th>\n",
       "      <th>Year</th>\n",
       "      <th>Type</th>\n",
       "      <th>Country</th>\n",
       "      <th>Area</th>\n",
       "      <th>Location</th>\n",
       "      <th>Activity</th>\n",
       "      <th>Name</th>\n",
       "      <th>Sex</th>\n",
       "      <th>...</th>\n",
       "      <th>Species</th>\n",
       "      <th>Investigator or Source</th>\n",
       "      <th>pdf</th>\n",
       "      <th>href formula</th>\n",
       "      <th>href</th>\n",
       "      <th>Case Number.1</th>\n",
       "      <th>Case Number.2</th>\n",
       "      <th>original order</th>\n",
       "      <th>Unnamed: 22</th>\n",
       "      <th>Unnamed: 23</th>\n",
       "    </tr>\n",
       "  </thead>\n",
       "  <tbody>\n",
       "    <tr>\n",
       "      <th>0</th>\n",
       "      <td>2018.06.25</td>\n",
       "      <td>25-Jun-2018</td>\n",
       "      <td>2018.0</td>\n",
       "      <td>Boating</td>\n",
       "      <td>USA</td>\n",
       "      <td>California</td>\n",
       "      <td>Oceanside, San Diego County</td>\n",
       "      <td>Paddling</td>\n",
       "      <td>Julie Wolfe</td>\n",
       "      <td>F</td>\n",
       "      <td>...</td>\n",
       "      <td>White shark</td>\n",
       "      <td>R. Collier, GSAF</td>\n",
       "      <td>2018.06.25-Wolfe.pdf</td>\n",
       "      <td>http://sharkattackfile.net/spreadsheets/pdf_di...</td>\n",
       "      <td>http://sharkattackfile.net/spreadsheets/pdf_di...</td>\n",
       "      <td>2018.06.25</td>\n",
       "      <td>2018.06.25</td>\n",
       "      <td>6303.0</td>\n",
       "      <td>NaN</td>\n",
       "      <td>NaN</td>\n",
       "    </tr>\n",
       "    <tr>\n",
       "      <th>1</th>\n",
       "      <td>2018.06.18</td>\n",
       "      <td>18-Jun-2018</td>\n",
       "      <td>2018.0</td>\n",
       "      <td>Unprovoked</td>\n",
       "      <td>USA</td>\n",
       "      <td>Georgia</td>\n",
       "      <td>St. Simon Island, Glynn County</td>\n",
       "      <td>Standing</td>\n",
       "      <td>Adyson McNeely</td>\n",
       "      <td>F</td>\n",
       "      <td>...</td>\n",
       "      <td>NaN</td>\n",
       "      <td>K.McMurray, TrackingSharks.com</td>\n",
       "      <td>2018.06.18-McNeely.pdf</td>\n",
       "      <td>http://sharkattackfile.net/spreadsheets/pdf_di...</td>\n",
       "      <td>http://sharkattackfile.net/spreadsheets/pdf_di...</td>\n",
       "      <td>2018.06.18</td>\n",
       "      <td>2018.06.18</td>\n",
       "      <td>6302.0</td>\n",
       "      <td>NaN</td>\n",
       "      <td>NaN</td>\n",
       "    </tr>\n",
       "    <tr>\n",
       "      <th>2</th>\n",
       "      <td>2018.06.09</td>\n",
       "      <td>09-Jun-2018</td>\n",
       "      <td>2018.0</td>\n",
       "      <td>Invalid</td>\n",
       "      <td>USA</td>\n",
       "      <td>Hawaii</td>\n",
       "      <td>Habush, Oahu</td>\n",
       "      <td>Surfing</td>\n",
       "      <td>John Denges</td>\n",
       "      <td>M</td>\n",
       "      <td>...</td>\n",
       "      <td>NaN</td>\n",
       "      <td>K.McMurray, TrackingSharks.com</td>\n",
       "      <td>2018.06.09-Denges.pdf</td>\n",
       "      <td>http://sharkattackfile.net/spreadsheets/pdf_di...</td>\n",
       "      <td>http://sharkattackfile.net/spreadsheets/pdf_di...</td>\n",
       "      <td>2018.06.09</td>\n",
       "      <td>2018.06.09</td>\n",
       "      <td>6301.0</td>\n",
       "      <td>NaN</td>\n",
       "      <td>NaN</td>\n",
       "    </tr>\n",
       "    <tr>\n",
       "      <th>3</th>\n",
       "      <td>2018.06.08</td>\n",
       "      <td>08-Jun-2018</td>\n",
       "      <td>2018.0</td>\n",
       "      <td>Unprovoked</td>\n",
       "      <td>AUSTRALIA</td>\n",
       "      <td>New South Wales</td>\n",
       "      <td>Arrawarra Headland</td>\n",
       "      <td>Surfing</td>\n",
       "      <td>male</td>\n",
       "      <td>M</td>\n",
       "      <td>...</td>\n",
       "      <td>2 m shark</td>\n",
       "      <td>B. Myatt, GSAF</td>\n",
       "      <td>2018.06.08-Arrawarra.pdf</td>\n",
       "      <td>http://sharkattackfile.net/spreadsheets/pdf_di...</td>\n",
       "      <td>http://sharkattackfile.net/spreadsheets/pdf_di...</td>\n",
       "      <td>2018.06.08</td>\n",
       "      <td>2018.06.08</td>\n",
       "      <td>6300.0</td>\n",
       "      <td>NaN</td>\n",
       "      <td>NaN</td>\n",
       "    </tr>\n",
       "    <tr>\n",
       "      <th>4</th>\n",
       "      <td>2018.06.04</td>\n",
       "      <td>04-Jun-2018</td>\n",
       "      <td>2018.0</td>\n",
       "      <td>Provoked</td>\n",
       "      <td>MEXICO</td>\n",
       "      <td>Colima</td>\n",
       "      <td>La Ticla</td>\n",
       "      <td>Free diving</td>\n",
       "      <td>Gustavo Ramos</td>\n",
       "      <td>M</td>\n",
       "      <td>...</td>\n",
       "      <td>Tiger shark, 3m</td>\n",
       "      <td>A .Kipper</td>\n",
       "      <td>2018.06.04-Ramos.pdf</td>\n",
       "      <td>http://sharkattackfile.net/spreadsheets/pdf_di...</td>\n",
       "      <td>http://sharkattackfile.net/spreadsheets/pdf_di...</td>\n",
       "      <td>2018.06.04</td>\n",
       "      <td>2018.06.04</td>\n",
       "      <td>6299.0</td>\n",
       "      <td>NaN</td>\n",
       "      <td>NaN</td>\n",
       "    </tr>\n",
       "    <tr>\n",
       "      <th>...</th>\n",
       "      <td>...</td>\n",
       "      <td>...</td>\n",
       "      <td>...</td>\n",
       "      <td>...</td>\n",
       "      <td>...</td>\n",
       "      <td>...</td>\n",
       "      <td>...</td>\n",
       "      <td>...</td>\n",
       "      <td>...</td>\n",
       "      <td>...</td>\n",
       "      <td>...</td>\n",
       "      <td>...</td>\n",
       "      <td>...</td>\n",
       "      <td>...</td>\n",
       "      <td>...</td>\n",
       "      <td>...</td>\n",
       "      <td>...</td>\n",
       "      <td>...</td>\n",
       "      <td>...</td>\n",
       "      <td>...</td>\n",
       "      <td>...</td>\n",
       "    </tr>\n",
       "    <tr>\n",
       "      <th>6300</th>\n",
       "      <td>ND.0002</td>\n",
       "      <td>1883-1889</td>\n",
       "      <td>NaN</td>\n",
       "      <td>Unprovoked</td>\n",
       "      <td>PANAMA</td>\n",
       "      <td>NaN</td>\n",
       "      <td>Panama Bay 8ºN, 79ºW</td>\n",
       "      <td>NaN</td>\n",
       "      <td>Jules Patterson</td>\n",
       "      <td>M</td>\n",
       "      <td>...</td>\n",
       "      <td>NaN</td>\n",
       "      <td>The Sun, 10/20/1938</td>\n",
       "      <td>ND-0002-JulesPatterson.pdf</td>\n",
       "      <td>http://sharkattackfile.net/spreadsheets/pdf_di...</td>\n",
       "      <td>http://sharkattackfile.net/spreadsheets/pdf_di...</td>\n",
       "      <td>ND.0002</td>\n",
       "      <td>ND.0002</td>\n",
       "      <td>3.0</td>\n",
       "      <td>NaN</td>\n",
       "      <td>NaN</td>\n",
       "    </tr>\n",
       "    <tr>\n",
       "      <th>6301</th>\n",
       "      <td>ND.0001</td>\n",
       "      <td>1845-1853</td>\n",
       "      <td>NaN</td>\n",
       "      <td>Unprovoked</td>\n",
       "      <td>CEYLON (SRI LANKA)</td>\n",
       "      <td>Eastern Province</td>\n",
       "      <td>Below the English fort, Trincomalee</td>\n",
       "      <td>Swimming</td>\n",
       "      <td>male</td>\n",
       "      <td>M</td>\n",
       "      <td>...</td>\n",
       "      <td>NaN</td>\n",
       "      <td>S.W. Baker</td>\n",
       "      <td>ND-0001-Ceylon.pdf</td>\n",
       "      <td>http://sharkattackfile.net/spreadsheets/pdf_di...</td>\n",
       "      <td>http://sharkattackfile.net/spreadsheets/pdf_di...</td>\n",
       "      <td>ND.0001</td>\n",
       "      <td>ND.0001</td>\n",
       "      <td>2.0</td>\n",
       "      <td>NaN</td>\n",
       "      <td>NaN</td>\n",
       "    </tr>\n",
       "    <tr>\n",
       "      <th>6302</th>\n",
       "      <td>NaN</td>\n",
       "      <td>NaN</td>\n",
       "      <td>NaN</td>\n",
       "      <td>NaN</td>\n",
       "      <td>NaN</td>\n",
       "      <td>NaN</td>\n",
       "      <td>NaN</td>\n",
       "      <td>NaN</td>\n",
       "      <td>NaN</td>\n",
       "      <td>NaN</td>\n",
       "      <td>...</td>\n",
       "      <td>NaN</td>\n",
       "      <td>NaN</td>\n",
       "      <td>NaN</td>\n",
       "      <td>NaN</td>\n",
       "      <td>NaN</td>\n",
       "      <td>NaN</td>\n",
       "      <td>NaN</td>\n",
       "      <td>6304.0</td>\n",
       "      <td>NaN</td>\n",
       "      <td>NaN</td>\n",
       "    </tr>\n",
       "    <tr>\n",
       "      <th>6303</th>\n",
       "      <td>NaN</td>\n",
       "      <td>NaN</td>\n",
       "      <td>NaN</td>\n",
       "      <td>NaN</td>\n",
       "      <td>NaN</td>\n",
       "      <td>NaN</td>\n",
       "      <td>NaN</td>\n",
       "      <td>NaN</td>\n",
       "      <td>NaN</td>\n",
       "      <td>NaN</td>\n",
       "      <td>...</td>\n",
       "      <td>NaN</td>\n",
       "      <td>NaN</td>\n",
       "      <td>NaN</td>\n",
       "      <td>NaN</td>\n",
       "      <td>NaN</td>\n",
       "      <td>NaN</td>\n",
       "      <td>NaN</td>\n",
       "      <td>6305.0</td>\n",
       "      <td>NaN</td>\n",
       "      <td>NaN</td>\n",
       "    </tr>\n",
       "    <tr>\n",
       "      <th>6304</th>\n",
       "      <td>NaN</td>\n",
       "      <td>NaN</td>\n",
       "      <td>NaN</td>\n",
       "      <td>NaN</td>\n",
       "      <td>NaN</td>\n",
       "      <td>NaN</td>\n",
       "      <td>NaN</td>\n",
       "      <td>NaN</td>\n",
       "      <td>NaN</td>\n",
       "      <td>NaN</td>\n",
       "      <td>...</td>\n",
       "      <td>NaN</td>\n",
       "      <td>NaN</td>\n",
       "      <td>NaN</td>\n",
       "      <td>NaN</td>\n",
       "      <td>NaN</td>\n",
       "      <td>NaN</td>\n",
       "      <td>NaN</td>\n",
       "      <td>6306.0</td>\n",
       "      <td>NaN</td>\n",
       "      <td>NaN</td>\n",
       "    </tr>\n",
       "  </tbody>\n",
       "</table>\n",
       "<p>6305 rows × 24 columns</p>\n",
       "</div>"
      ],
      "text/plain": [
       "     Case Number         Date    Year        Type             Country  \\\n",
       "0     2018.06.25  25-Jun-2018  2018.0     Boating                 USA   \n",
       "1     2018.06.18  18-Jun-2018  2018.0  Unprovoked                 USA   \n",
       "2     2018.06.09  09-Jun-2018  2018.0     Invalid                 USA   \n",
       "3     2018.06.08  08-Jun-2018  2018.0  Unprovoked           AUSTRALIA   \n",
       "4     2018.06.04  04-Jun-2018  2018.0    Provoked              MEXICO   \n",
       "...          ...          ...     ...         ...                 ...   \n",
       "6300     ND.0002    1883-1889     NaN  Unprovoked              PANAMA   \n",
       "6301     ND.0001    1845-1853     NaN  Unprovoked  CEYLON (SRI LANKA)   \n",
       "6302         NaN          NaN     NaN         NaN                 NaN   \n",
       "6303         NaN          NaN     NaN         NaN                 NaN   \n",
       "6304         NaN          NaN     NaN         NaN                 NaN   \n",
       "\n",
       "                  Area                             Location     Activity  \\\n",
       "0           California          Oceanside, San Diego County     Paddling   \n",
       "1              Georgia       St. Simon Island, Glynn County     Standing   \n",
       "2               Hawaii                         Habush, Oahu      Surfing   \n",
       "3      New South Wales                   Arrawarra Headland      Surfing   \n",
       "4               Colima                             La Ticla  Free diving   \n",
       "...                ...                                  ...          ...   \n",
       "6300               NaN                 Panama Bay 8ºN, 79ºW          NaN   \n",
       "6301  Eastern Province  Below the English fort, Trincomalee     Swimming   \n",
       "6302               NaN                                  NaN          NaN   \n",
       "6303               NaN                                  NaN          NaN   \n",
       "6304               NaN                                  NaN          NaN   \n",
       "\n",
       "                 Name Sex   ...         Species   \\\n",
       "0         Julie Wolfe    F  ...      White shark   \n",
       "1     Adyson McNeely     F  ...              NaN   \n",
       "2         John Denges    M  ...              NaN   \n",
       "3                male    M  ...        2 m shark   \n",
       "4      Gustavo Ramos     M  ...  Tiger shark, 3m   \n",
       "...               ...  ...  ...              ...   \n",
       "6300  Jules Patterson    M  ...              NaN   \n",
       "6301             male    M  ...              NaN   \n",
       "6302              NaN  NaN  ...              NaN   \n",
       "6303              NaN  NaN  ...              NaN   \n",
       "6304              NaN  NaN  ...              NaN   \n",
       "\n",
       "              Investigator or Source                         pdf  \\\n",
       "0                   R. Collier, GSAF        2018.06.25-Wolfe.pdf   \n",
       "1     K.McMurray, TrackingSharks.com      2018.06.18-McNeely.pdf   \n",
       "2     K.McMurray, TrackingSharks.com       2018.06.09-Denges.pdf   \n",
       "3                     B. Myatt, GSAF    2018.06.08-Arrawarra.pdf   \n",
       "4                          A .Kipper        2018.06.04-Ramos.pdf   \n",
       "...                              ...                         ...   \n",
       "6300             The Sun, 10/20/1938  ND-0002-JulesPatterson.pdf   \n",
       "6301                      S.W. Baker          ND-0001-Ceylon.pdf   \n",
       "6302                             NaN                         NaN   \n",
       "6303                             NaN                         NaN   \n",
       "6304                             NaN                         NaN   \n",
       "\n",
       "                                           href formula  \\\n",
       "0     http://sharkattackfile.net/spreadsheets/pdf_di...   \n",
       "1     http://sharkattackfile.net/spreadsheets/pdf_di...   \n",
       "2     http://sharkattackfile.net/spreadsheets/pdf_di...   \n",
       "3     http://sharkattackfile.net/spreadsheets/pdf_di...   \n",
       "4     http://sharkattackfile.net/spreadsheets/pdf_di...   \n",
       "...                                                 ...   \n",
       "6300  http://sharkattackfile.net/spreadsheets/pdf_di...   \n",
       "6301  http://sharkattackfile.net/spreadsheets/pdf_di...   \n",
       "6302                                                NaN   \n",
       "6303                                                NaN   \n",
       "6304                                                NaN   \n",
       "\n",
       "                                                   href Case Number.1  \\\n",
       "0     http://sharkattackfile.net/spreadsheets/pdf_di...    2018.06.25   \n",
       "1     http://sharkattackfile.net/spreadsheets/pdf_di...    2018.06.18   \n",
       "2     http://sharkattackfile.net/spreadsheets/pdf_di...    2018.06.09   \n",
       "3     http://sharkattackfile.net/spreadsheets/pdf_di...    2018.06.08   \n",
       "4     http://sharkattackfile.net/spreadsheets/pdf_di...    2018.06.04   \n",
       "...                                                 ...           ...   \n",
       "6300  http://sharkattackfile.net/spreadsheets/pdf_di...       ND.0002   \n",
       "6301  http://sharkattackfile.net/spreadsheets/pdf_di...       ND.0001   \n",
       "6302                                                NaN           NaN   \n",
       "6303                                                NaN           NaN   \n",
       "6304                                                NaN           NaN   \n",
       "\n",
       "     Case Number.2 original order Unnamed: 22 Unnamed: 23  \n",
       "0       2018.06.25         6303.0         NaN         NaN  \n",
       "1       2018.06.18         6302.0         NaN         NaN  \n",
       "2       2018.06.09         6301.0         NaN         NaN  \n",
       "3       2018.06.08         6300.0         NaN         NaN  \n",
       "4       2018.06.04         6299.0         NaN         NaN  \n",
       "...            ...            ...         ...         ...  \n",
       "6300       ND.0002            3.0         NaN         NaN  \n",
       "6301       ND.0001            2.0         NaN         NaN  \n",
       "6302           NaN         6304.0         NaN         NaN  \n",
       "6303           NaN         6305.0         NaN         NaN  \n",
       "6304           NaN         6306.0         NaN         NaN  \n",
       "\n",
       "[6305 rows x 24 columns]"
      ]
     },
     "execution_count": 284,
     "metadata": {},
     "output_type": "execute_result"
    }
   ],
   "source": [
    "df.head(6305)"
   ]
  },
  {
   "cell_type": "code",
   "execution_count": 285,
   "metadata": {
    "ExecuteTime": {
     "end_time": "2021-01-06T13:45:57.654409Z",
     "start_time": "2021-01-06T13:45:57.590414Z"
    }
   },
   "outputs": [
    {
     "data": {
      "text/plain": [
       "490811"
      ]
     },
     "execution_count": 285,
     "metadata": {},
     "output_type": "execute_result"
    }
   ],
   "source": [
    "#valores ausentes, total\n",
    "df.isnull().sum().sum()"
   ]
  },
  {
   "cell_type": "code",
   "execution_count": 286,
   "metadata": {
    "ExecuteTime": {
     "end_time": "2021-01-06T13:45:58.931642Z",
     "start_time": "2021-01-06T13:45:58.860245Z"
    }
   },
   "outputs": [
    {
     "data": {
      "text/plain": [
       "Case Number               19422\n",
       "Date                      19421\n",
       "Year                      19548\n",
       "Type                      19425\n",
       "Country                   19471\n",
       "Area                      19876\n",
       "Location                  19961\n",
       "Activity                  19968\n",
       "Name                      19631\n",
       "Sex                       19987\n",
       "Age                       22252\n",
       "Injury                    19449\n",
       "Fatal (Y/N)               19960\n",
       "Time                      22780\n",
       "Species                   22259\n",
       "Investigator or Source    19438\n",
       "pdf                       19421\n",
       "href formula              19422\n",
       "href                      19421\n",
       "Case Number.1             19421\n",
       "Case Number.2             19421\n",
       "original order            19414\n",
       "Unnamed: 22               25722\n",
       "Unnamed: 23               25721\n",
       "dtype: int64"
      ]
     },
     "execution_count": 286,
     "metadata": {},
     "output_type": "execute_result"
    }
   ],
   "source": [
    "#valores ausentes por coluna\n",
    "df_null=df.isnull().sum()\n",
    "df_null"
   ]
  },
  {
   "cell_type": "code",
   "execution_count": 287,
   "metadata": {
    "ExecuteTime": {
     "end_time": "2021-01-06T13:46:01.808284Z",
     "start_time": "2021-01-06T13:46:01.768268Z"
    },
    "code_folding": []
   },
   "outputs": [],
   "source": [
    "#deletei as colunas praticamente zeradas\n",
    "drop_cols = list(df_null[df_null > 25000].index)\n",
    "df = df.drop(drop_cols, axis=1)\n"
   ]
  },
  {
   "cell_type": "code",
   "execution_count": 288,
   "metadata": {
    "ExecuteTime": {
     "end_time": "2021-01-06T13:46:09.096302Z",
     "start_time": "2021-01-06T13:46:09.064306Z"
    }
   },
   "outputs": [
    {
     "data": {
      "text/plain": [
       "True     25704\n",
       "False       19\n",
       "Name: Case Number.1, dtype: int64"
      ]
     },
     "execution_count": 288,
     "metadata": {},
     "output_type": "execute_result"
    }
   ],
   "source": [
    "#comparar colunas semelhantes\n",
    "df['Case Number.1'].isin(df['Case Number.2']).value_counts()\n"
   ]
  },
  {
   "cell_type": "code",
   "execution_count": 289,
   "metadata": {
    "ExecuteTime": {
     "end_time": "2021-01-06T13:46:11.830004Z",
     "start_time": "2021-01-06T13:46:11.798006Z"
    }
   },
   "outputs": [],
   "source": [
    "#deletei as colunas semelhantes com valores c/ pouca diferença\n",
    "drop_cols = ['Case Number.1','Case Number.2']\n",
    "df = df.drop(drop_cols, axis=1)"
   ]
  },
  {
   "cell_type": "code",
   "execution_count": 290,
   "metadata": {
    "ExecuteTime": {
     "end_time": "2021-01-06T13:46:12.995661Z",
     "start_time": "2021-01-06T13:46:12.971664Z"
    }
   },
   "outputs": [
    {
     "data": {
      "text/plain": [
       "True     25666\n",
       "False       57\n",
       "Name: href, dtype: int64"
      ]
     },
     "execution_count": 290,
     "metadata": {},
     "output_type": "execute_result"
    }
   ],
   "source": [
    "df['href'].isin(df['href formula']).value_counts()"
   ]
  },
  {
   "cell_type": "code",
   "execution_count": 291,
   "metadata": {
    "ExecuteTime": {
     "end_time": "2021-01-06T13:46:14.575122Z",
     "start_time": "2021-01-06T13:46:14.543114Z"
    }
   },
   "outputs": [],
   "source": [
    "#deletei as colunas semelhantes com valores c/ pouca diferença\n",
    "drop_cols = ['href','href formula']\n",
    "df = df.drop(drop_cols, axis=1)"
   ]
  },
  {
   "cell_type": "code",
   "execution_count": 292,
   "metadata": {
    "ExecuteTime": {
     "end_time": "2021-01-06T13:46:16.604638Z",
     "start_time": "2021-01-06T13:46:16.580656Z"
    }
   },
   "outputs": [],
   "source": [
    "# E as colunas que não interessavam para a análise\n",
    "df = df.drop(['pdf','original order'], axis=1)\n"
   ]
  },
  {
   "cell_type": "code",
   "execution_count": 294,
   "metadata": {
    "ExecuteTime": {
     "end_time": "2021-01-06T13:46:23.329290Z",
     "start_time": "2021-01-06T13:46:23.258034Z"
    }
   },
   "outputs": [],
   "source": [
    "# removi do df linhas que continham mais de 5 colunas com NAN\n",
    "df= df.dropna(thresh=5)"
   ]
  },
  {
   "cell_type": "code",
   "execution_count": 295,
   "metadata": {
    "ExecuteTime": {
     "end_time": "2021-01-06T13:46:32.711820Z",
     "start_time": "2021-01-06T13:46:32.627445Z"
    }
   },
   "outputs": [],
   "source": [
    "df = df.convert_dtypes(\"Year\")"
   ]
  },
  {
   "cell_type": "code",
   "execution_count": 296,
   "metadata": {
    "ExecuteTime": {
     "end_time": "2021-01-06T13:46:34.340179Z",
     "start_time": "2021-01-06T13:46:34.284180Z"
    }
   },
   "outputs": [
    {
     "data": {
      "text/plain": [
       "{' N', '2017', <NA>, 'M', 'N', 'N ', 'UNKNOWN', 'Y', 'y'}"
      ]
     },
     "execution_count": 296,
     "metadata": {},
     "output_type": "execute_result"
    }
   ],
   "source": [
    "# a coluna Fatal tinha informações além de Y/N\n",
    "set(df['Fatal (Y/N)'])"
   ]
  },
  {
   "cell_type": "code",
   "execution_count": 297,
   "metadata": {
    "ExecuteTime": {
     "end_time": "2021-01-06T13:46:36.535368Z",
     "start_time": "2021-01-06T13:46:36.431374Z"
    }
   },
   "outputs": [
    {
     "name": "stdout",
     "output_type": "stream",
     "text": [
      "{'U', 'N', 'Y'}\n"
     ]
    }
   ],
   "source": [
    "#transformei as informações NaN em U(desconhecida)\n",
    "df['Fatal (Y/N)'] = df['Fatal (Y/N)'].str.strip()\n",
    "df['Fatal (Y/N)'] = df['Fatal (Y/N)'].fillna('U')\n",
    "df['Fatal (Y/N)'] = df['Fatal (Y/N)'].str.replace('2017', 'U')\n",
    "df['Fatal (Y/N)'] = df['Fatal (Y/N)'].str.replace('M', 'U')\n",
    "df['Fatal (Y/N)'] = df['Fatal (Y/N)'].str.replace('UNKNOWN', 'U')\n",
    "df['Fatal (Y/N)'] = df['Fatal (Y/N)'].str.replace('y', 'Y')\n",
    "df['Fatal (Y/N)'] = df['Fatal (Y/N)'].str.replace('nan', 'U')\n",
    "\n",
    "df.rename(columns={'Fatal (Y/N)': 'Fatal (Y/N/U)'}, inplace=True)\n",
    "\n",
    "print(set(df['Fatal (Y/N/U)']))"
   ]
  },
  {
   "cell_type": "code",
   "execution_count": 298,
   "metadata": {
    "ExecuteTime": {
     "end_time": "2021-01-06T13:46:38.721810Z",
     "start_time": "2021-01-06T13:46:38.641819Z"
    },
    "scrolled": true
   },
   "outputs": [
    {
     "data": {
      "text/html": [
       "<div>\n",
       "<style scoped>\n",
       "    .dataframe tbody tr th:only-of-type {\n",
       "        vertical-align: middle;\n",
       "    }\n",
       "\n",
       "    .dataframe tbody tr th {\n",
       "        vertical-align: top;\n",
       "    }\n",
       "\n",
       "    .dataframe thead th {\n",
       "        text-align: right;\n",
       "    }\n",
       "</style>\n",
       "<table border=\"1\" class=\"dataframe\">\n",
       "  <thead>\n",
       "    <tr style=\"text-align: right;\">\n",
       "      <th></th>\n",
       "      <th>Case Number</th>\n",
       "      <th>Date</th>\n",
       "      <th>Year</th>\n",
       "      <th>Type</th>\n",
       "      <th>Country</th>\n",
       "      <th>Area</th>\n",
       "      <th>Location</th>\n",
       "      <th>Activity</th>\n",
       "      <th>Name</th>\n",
       "      <th>Sex</th>\n",
       "      <th>Age</th>\n",
       "      <th>Injury</th>\n",
       "      <th>Fatal (Y/N/U)</th>\n",
       "      <th>Time</th>\n",
       "      <th>Species</th>\n",
       "      <th>Investigator or Source</th>\n",
       "    </tr>\n",
       "  </thead>\n",
       "  <tbody>\n",
       "    <tr>\n",
       "      <th>0</th>\n",
       "      <td>2018.06.25</td>\n",
       "      <td>25-Jun-2018</td>\n",
       "      <td>2018</td>\n",
       "      <td>Boating</td>\n",
       "      <td>USA</td>\n",
       "      <td>California</td>\n",
       "      <td>Oceanside, San Diego County</td>\n",
       "      <td>Paddling</td>\n",
       "      <td>Julie Wolfe</td>\n",
       "      <td>F</td>\n",
       "      <td>57</td>\n",
       "      <td>No injury to occupant, outrigger canoe and pad...</td>\n",
       "      <td>N</td>\n",
       "      <td>18h00</td>\n",
       "      <td>White shark</td>\n",
       "      <td>R. Collier, GSAF</td>\n",
       "    </tr>\n",
       "    <tr>\n",
       "      <th>1</th>\n",
       "      <td>2018.06.18</td>\n",
       "      <td>18-Jun-2018</td>\n",
       "      <td>2018</td>\n",
       "      <td>Unprovoked</td>\n",
       "      <td>USA</td>\n",
       "      <td>Georgia</td>\n",
       "      <td>St. Simon Island, Glynn County</td>\n",
       "      <td>Standing</td>\n",
       "      <td>Adyson McNeely</td>\n",
       "      <td>F</td>\n",
       "      <td>11</td>\n",
       "      <td>Minor injury to left thigh</td>\n",
       "      <td>N</td>\n",
       "      <td>14h00  -15h00</td>\n",
       "      <td>&lt;NA&gt;</td>\n",
       "      <td>K.McMurray, TrackingSharks.com</td>\n",
       "    </tr>\n",
       "    <tr>\n",
       "      <th>2</th>\n",
       "      <td>2018.06.09</td>\n",
       "      <td>09-Jun-2018</td>\n",
       "      <td>2018</td>\n",
       "      <td>Invalid</td>\n",
       "      <td>USA</td>\n",
       "      <td>Hawaii</td>\n",
       "      <td>Habush, Oahu</td>\n",
       "      <td>Surfing</td>\n",
       "      <td>John Denges</td>\n",
       "      <td>M</td>\n",
       "      <td>48</td>\n",
       "      <td>Injury to left lower leg from surfboard skeg</td>\n",
       "      <td>N</td>\n",
       "      <td>07h45</td>\n",
       "      <td>&lt;NA&gt;</td>\n",
       "      <td>K.McMurray, TrackingSharks.com</td>\n",
       "    </tr>\n",
       "    <tr>\n",
       "      <th>3</th>\n",
       "      <td>2018.06.08</td>\n",
       "      <td>08-Jun-2018</td>\n",
       "      <td>2018</td>\n",
       "      <td>Unprovoked</td>\n",
       "      <td>AUSTRALIA</td>\n",
       "      <td>New South Wales</td>\n",
       "      <td>Arrawarra Headland</td>\n",
       "      <td>Surfing</td>\n",
       "      <td>male</td>\n",
       "      <td>M</td>\n",
       "      <td>&lt;NA&gt;</td>\n",
       "      <td>Minor injury to lower leg</td>\n",
       "      <td>N</td>\n",
       "      <td>&lt;NA&gt;</td>\n",
       "      <td>2 m shark</td>\n",
       "      <td>B. Myatt, GSAF</td>\n",
       "    </tr>\n",
       "    <tr>\n",
       "      <th>4</th>\n",
       "      <td>2018.06.04</td>\n",
       "      <td>04-Jun-2018</td>\n",
       "      <td>2018</td>\n",
       "      <td>Provoked</td>\n",
       "      <td>MEXICO</td>\n",
       "      <td>Colima</td>\n",
       "      <td>La Ticla</td>\n",
       "      <td>Free diving</td>\n",
       "      <td>Gustavo Ramos</td>\n",
       "      <td>M</td>\n",
       "      <td>&lt;NA&gt;</td>\n",
       "      <td>Lacerations to leg &amp; hand shark PROVOKED INCIDENT</td>\n",
       "      <td>N</td>\n",
       "      <td>&lt;NA&gt;</td>\n",
       "      <td>Tiger shark, 3m</td>\n",
       "      <td>A .Kipper</td>\n",
       "    </tr>\n",
       "    <tr>\n",
       "      <th>...</th>\n",
       "      <td>...</td>\n",
       "      <td>...</td>\n",
       "      <td>...</td>\n",
       "      <td>...</td>\n",
       "      <td>...</td>\n",
       "      <td>...</td>\n",
       "      <td>...</td>\n",
       "      <td>...</td>\n",
       "      <td>...</td>\n",
       "      <td>...</td>\n",
       "      <td>...</td>\n",
       "      <td>...</td>\n",
       "      <td>...</td>\n",
       "      <td>...</td>\n",
       "      <td>...</td>\n",
       "      <td>...</td>\n",
       "    </tr>\n",
       "    <tr>\n",
       "      <th>6297</th>\n",
       "      <td>ND.0005</td>\n",
       "      <td>Before 1903</td>\n",
       "      <td>&lt;NA&gt;</td>\n",
       "      <td>Unprovoked</td>\n",
       "      <td>AUSTRALIA</td>\n",
       "      <td>Western Australia</td>\n",
       "      <td>Roebuck Bay</td>\n",
       "      <td>Diving</td>\n",
       "      <td>male</td>\n",
       "      <td>M</td>\n",
       "      <td>&lt;NA&gt;</td>\n",
       "      <td>FATAL</td>\n",
       "      <td>Y</td>\n",
       "      <td>&lt;NA&gt;</td>\n",
       "      <td>&lt;NA&gt;</td>\n",
       "      <td>H. Taunton; N. Bartlett,  p. 234</td>\n",
       "    </tr>\n",
       "    <tr>\n",
       "      <th>6298</th>\n",
       "      <td>ND.0004</td>\n",
       "      <td>Before 1903</td>\n",
       "      <td>&lt;NA&gt;</td>\n",
       "      <td>Unprovoked</td>\n",
       "      <td>AUSTRALIA</td>\n",
       "      <td>Western Australia</td>\n",
       "      <td>&lt;NA&gt;</td>\n",
       "      <td>Pearl diving</td>\n",
       "      <td>Ahmun</td>\n",
       "      <td>M</td>\n",
       "      <td>&lt;NA&gt;</td>\n",
       "      <td>FATAL</td>\n",
       "      <td>Y</td>\n",
       "      <td>&lt;NA&gt;</td>\n",
       "      <td>&lt;NA&gt;</td>\n",
       "      <td>H. Taunton; N. Bartlett,  pp. 233-234</td>\n",
       "    </tr>\n",
       "    <tr>\n",
       "      <th>6299</th>\n",
       "      <td>ND.0003</td>\n",
       "      <td>1900-1905</td>\n",
       "      <td>&lt;NA&gt;</td>\n",
       "      <td>Unprovoked</td>\n",
       "      <td>USA</td>\n",
       "      <td>North Carolina</td>\n",
       "      <td>Ocracoke Inlet</td>\n",
       "      <td>Swimming</td>\n",
       "      <td>Coast Guard personnel</td>\n",
       "      <td>M</td>\n",
       "      <td>&lt;NA&gt;</td>\n",
       "      <td>FATAL</td>\n",
       "      <td>Y</td>\n",
       "      <td>&lt;NA&gt;</td>\n",
       "      <td>&lt;NA&gt;</td>\n",
       "      <td>F. Schwartz, p.23; C. Creswell, GSAF</td>\n",
       "    </tr>\n",
       "    <tr>\n",
       "      <th>6300</th>\n",
       "      <td>ND.0002</td>\n",
       "      <td>1883-1889</td>\n",
       "      <td>&lt;NA&gt;</td>\n",
       "      <td>Unprovoked</td>\n",
       "      <td>PANAMA</td>\n",
       "      <td>&lt;NA&gt;</td>\n",
       "      <td>Panama Bay 8ºN, 79ºW</td>\n",
       "      <td>&lt;NA&gt;</td>\n",
       "      <td>Jules Patterson</td>\n",
       "      <td>M</td>\n",
       "      <td>&lt;NA&gt;</td>\n",
       "      <td>FATAL</td>\n",
       "      <td>Y</td>\n",
       "      <td>&lt;NA&gt;</td>\n",
       "      <td>&lt;NA&gt;</td>\n",
       "      <td>The Sun, 10/20/1938</td>\n",
       "    </tr>\n",
       "    <tr>\n",
       "      <th>6301</th>\n",
       "      <td>ND.0001</td>\n",
       "      <td>1845-1853</td>\n",
       "      <td>&lt;NA&gt;</td>\n",
       "      <td>Unprovoked</td>\n",
       "      <td>CEYLON (SRI LANKA)</td>\n",
       "      <td>Eastern Province</td>\n",
       "      <td>Below the English fort, Trincomalee</td>\n",
       "      <td>Swimming</td>\n",
       "      <td>male</td>\n",
       "      <td>M</td>\n",
       "      <td>15</td>\n",
       "      <td>FATAL. \"Shark bit him in half, carrying away t...</td>\n",
       "      <td>Y</td>\n",
       "      <td>&lt;NA&gt;</td>\n",
       "      <td>&lt;NA&gt;</td>\n",
       "      <td>S.W. Baker</td>\n",
       "    </tr>\n",
       "  </tbody>\n",
       "</table>\n",
       "<p>6302 rows × 16 columns</p>\n",
       "</div>"
      ],
      "text/plain": [
       "     Case Number         Date  Year        Type             Country  \\\n",
       "0     2018.06.25  25-Jun-2018  2018     Boating                 USA   \n",
       "1     2018.06.18  18-Jun-2018  2018  Unprovoked                 USA   \n",
       "2     2018.06.09  09-Jun-2018  2018     Invalid                 USA   \n",
       "3     2018.06.08  08-Jun-2018  2018  Unprovoked           AUSTRALIA   \n",
       "4     2018.06.04  04-Jun-2018  2018    Provoked              MEXICO   \n",
       "...          ...          ...   ...         ...                 ...   \n",
       "6297     ND.0005  Before 1903  <NA>  Unprovoked           AUSTRALIA   \n",
       "6298     ND.0004  Before 1903  <NA>  Unprovoked           AUSTRALIA   \n",
       "6299     ND.0003    1900-1905  <NA>  Unprovoked                 USA   \n",
       "6300     ND.0002    1883-1889  <NA>  Unprovoked              PANAMA   \n",
       "6301     ND.0001    1845-1853  <NA>  Unprovoked  CEYLON (SRI LANKA)   \n",
       "\n",
       "                   Area                             Location      Activity  \\\n",
       "0            California          Oceanside, San Diego County      Paddling   \n",
       "1               Georgia       St. Simon Island, Glynn County      Standing   \n",
       "2                Hawaii                         Habush, Oahu       Surfing   \n",
       "3       New South Wales                   Arrawarra Headland       Surfing   \n",
       "4                Colima                             La Ticla   Free diving   \n",
       "...                 ...                                  ...           ...   \n",
       "6297  Western Australia                          Roebuck Bay        Diving   \n",
       "6298  Western Australia                                 <NA>  Pearl diving   \n",
       "6299     North Carolina                       Ocracoke Inlet      Swimming   \n",
       "6300               <NA>                 Panama Bay 8ºN, 79ºW          <NA>   \n",
       "6301   Eastern Province  Below the English fort, Trincomalee      Swimming   \n",
       "\n",
       "                       Name Sex    Age  \\\n",
       "0               Julie Wolfe    F    57   \n",
       "1           Adyson McNeely     F    11   \n",
       "2               John Denges    M    48   \n",
       "3                      male    M  <NA>   \n",
       "4            Gustavo Ramos     M  <NA>   \n",
       "...                     ...  ...   ...   \n",
       "6297                   male    M  <NA>   \n",
       "6298                  Ahmun    M  <NA>   \n",
       "6299  Coast Guard personnel    M  <NA>   \n",
       "6300        Jules Patterson    M  <NA>   \n",
       "6301                   male    M    15   \n",
       "\n",
       "                                                 Injury Fatal (Y/N/U)  \\\n",
       "0     No injury to occupant, outrigger canoe and pad...             N   \n",
       "1                            Minor injury to left thigh             N   \n",
       "2          Injury to left lower leg from surfboard skeg             N   \n",
       "3                             Minor injury to lower leg             N   \n",
       "4     Lacerations to leg & hand shark PROVOKED INCIDENT             N   \n",
       "...                                                 ...           ...   \n",
       "6297                                              FATAL             Y   \n",
       "6298                                              FATAL             Y   \n",
       "6299                                              FATAL             Y   \n",
       "6300                                              FATAL             Y   \n",
       "6301  FATAL. \"Shark bit him in half, carrying away t...             Y   \n",
       "\n",
       "               Time         Species                  Investigator or Source  \n",
       "0             18h00      White shark                       R. Collier, GSAF  \n",
       "1     14h00  -15h00             <NA>         K.McMurray, TrackingSharks.com  \n",
       "2             07h45             <NA>         K.McMurray, TrackingSharks.com  \n",
       "3              <NA>        2 m shark                         B. Myatt, GSAF  \n",
       "4              <NA>  Tiger shark, 3m                              A .Kipper  \n",
       "...             ...              ...                                    ...  \n",
       "6297           <NA>             <NA>       H. Taunton; N. Bartlett,  p. 234  \n",
       "6298           <NA>             <NA>  H. Taunton; N. Bartlett,  pp. 233-234  \n",
       "6299           <NA>             <NA>   F. Schwartz, p.23; C. Creswell, GSAF  \n",
       "6300           <NA>             <NA>                    The Sun, 10/20/1938  \n",
       "6301           <NA>             <NA>                             S.W. Baker  \n",
       "\n",
       "[6302 rows x 16 columns]"
      ]
     },
     "execution_count": 298,
     "metadata": {},
     "output_type": "execute_result"
    }
   ],
   "source": [
    "df"
   ]
  },
  {
   "cell_type": "code",
   "execution_count": 299,
   "metadata": {
    "ExecuteTime": {
     "end_time": "2021-01-06T13:46:41.006484Z",
     "start_time": "2021-01-06T13:46:40.974488Z"
    }
   },
   "outputs": [
    {
     "name": "stdout",
     "output_type": "stream",
     "text": [
      "Case Number                0.015868\n",
      "Date                       0.000000\n",
      "Year                       2.015233\n",
      "Type                       0.063472\n",
      "Country                    0.793399\n",
      "Area                       7.219930\n",
      "Location                   8.568708\n",
      "Activity                   8.679784\n",
      "Name                       3.332275\n",
      "Sex                        8.981276\n",
      "Age                       44.922247\n",
      "Injury                     0.444303\n",
      "Fatal (Y/N/U)              0.000000\n",
      "Time                      53.300540\n",
      "Species                   45.033323\n",
      "Investigator or Source     0.269756\n",
      "dtype: float64\n"
     ]
    }
   ],
   "source": [
    "#percentual de informações faltantes\n",
    "null=(df.isnull().sum()/len(df['Fatal (Y/N/U)']))*100\n",
    "print(null)"
   ]
  },
  {
   "cell_type": "code",
   "execution_count": 300,
   "metadata": {
    "ExecuteTime": {
     "end_time": "2021-01-06T13:46:42.995393Z",
     "start_time": "2021-01-06T13:46:42.939398Z"
    }
   },
   "outputs": [
    {
     "name": "stdout",
     "output_type": "stream",
     "text": [
      "{'PALESTINIAN TERRITORIES', 'RED SEA?', 'DOMINICAN REPUBLIC', 'HONG KONG', 'ARGENTINA', 'RUSSIA', 'NEW GUINEA', 'TUNISIA', 'HAITI', 'BANGLADESH', 'SYRIA', 'KUWAIT', 'MALTA', 'COSTA RICA', 'ATLANTIC OCEAN', 'UNITED ARAB EMIRATES (UAE)', 'OKINAWA', 'PACIFIC OCEAN ', 'SOUTH PACIFIC OCEAN', 'Fiji', 'SUDAN', 'BERMUDA', 'DJIBOUTI', 'Seychelles', 'SAUDI ARABIA', 'EGYPT', 'JAMAICA', 'SOLOMON ISLANDS', 'NEW ZEALAND', 'NORTH SEA', ' TONGA', 'JAPAN', 'TANZANIA', 'TAIWAN', 'RED SEA / INDIAN OCEAN', 'KENYA', 'ST HELENA, British overseas territory', 'KIRIBATI', 'MICRONESIA', 'FRANCE', 'BRITISH VIRGIN ISLANDS', 'PARAGUAY', 'MALDIVES', 'PACIFIC OCEAN', 'INDONESIA', 'LIBERIA', 'ANDAMAN / NICOBAR ISLANDAS', 'NIGERIA', 'EGYPT / ISRAEL', 'LIBYA', 'THAILAND', 'TURKEY', 'FRENCH POLYNESIA', 'SOUTH AFRICA', 'SOUTH ATLANTIC OCEAN', 'ICELAND', 'PANAMA', 'CEYLON (SRI LANKA)', 'NEW BRITAIN', 'NETHERLANDS ANTILLES', 'ANGOLA', 'NORTH PACIFIC OCEAN', 'DIEGO GARCIA', 'YEMEN', 'FIJI', 'CANADA', 'IRAQ', 'ASIA?', 'CROATIA', 'TRINIDAD & TOBAGO', ' PHILIPPINES', 'MEDITERRANEAN SEA', 'TUVALU', 'AUSTRALIA', 'SENEGAL', 'MID-PACIFC OCEAN', 'RED SEA', 'COMOROS', 'NORTH ATLANTIC OCEAN ', 'AMERICAN SAMOA', 'EQUATORIAL GUINEA / CAMEROON', 'NICARAGUA ', 'NORTHERN MARIANA ISLANDS', 'CUBA', 'CRETE', 'INDIAN OCEAN', 'SAN DOMINGO', 'ALGERIA', 'AZORES', 'MARTINIQUE', 'ANTIGUA', 'BRITISH WEST INDIES', 'NICARAGUA', 'KOREA', 'CARIBBEAN SEA', 'ITALY / CROATIA', 'GUINEA', 'ITALY', 'CAPE VERDE', 'TASMAN SEA', 'SPAIN', 'ST. MAARTIN', 'IRAN', 'BURMA', 'FALKLAND ISLANDS', 'NORTH ATLANTIC OCEAN', 'SOLOMON ISLANDS / VANUATU', 'PORTUGAL', 'NAMIBIA', 'SINGAPORE', 'CYPRUS', 'BRAZIL', 'GREENLAND', 'GRAND CAYMAN', 'GRENADA', 'LEBANON', 'SCOTLAND', 'Sierra Leone', 'SUDAN?', 'REUNION', 'BELIZE', 'SOUTHWEST PACIFIC OCEAN', 'GUYANA', 'BRITISH ISLES', 'AFRICA', 'ARUBA', 'SEYCHELLES', 'MAYOTTE', 'WEST INDIES', 'NEVIS', 'URUGUAY', 'MONTENEGRO', 'ECUADOR', 'PERU', 'GHANA', 'BAHREIN', 'NORWAY', 'CENTRAL PACIFIC', 'THE BALKANS', 'Between PORTUGAL & INDIA', 'NORTHERN ARABIAN SEA', 'TONGA', 'BARBADOS', 'PAPUA NEW GUINEA', 'CURACAO', 'EL SALVADOR', 'INDIAN OCEAN?', 'USA', 'PHILIPPINES', 'VENEZUELA', 'MONACO', 'EGYPT ', 'PERSIAN GULF', 'ST. MARTIN', 'Coast of AFRICA', 'ISRAEL', 'SOMALIA', 'CHILE', 'JAVA', 'INDIA', 'UNITED KINGDOM', 'UNITED ARAB EMIRATES', 'PALAU', 'SLOVENIA', 'COOK ISLANDS', 'ROATAN', 'GULF OF ADEN', 'HONDURAS', 'SOUTH CHINA SEA', 'MOZAMBIQUE', 'CAYMAN ISLANDS', 'VANUATU', 'JOHNSTON ISLAND', 'TURKS & CAICOS', 'MAURITIUS', 'GEORGIA', 'BRITISH NEW GUINEA', 'SIERRA LEONE', 'SWEDEN', 'MEXICO', 'MADAGASCAR', 'MARSHALL ISLANDS', 'COLUMBIA', 'SRI LANKA', 'ENGLAND', 'GUATEMALA', 'REUNION ISLAND', 'ADMIRALTY ISLANDS', 'OCEAN', 'SOUTH KOREA', 'FEDERATED STATES OF MICRONESIA', 'TOBAGO', 'MALDIVE ISLANDS', 'ANDAMAN ISLANDS', 'IRAN / IRAQ', 'MID ATLANTIC OCEAN', 'YEMEN ', 'GABON', 'SAMOA', 'VIETNAM', 'CEYLON', 'BAHAMAS', 'PUERTO RICO', 'BAY OF BENGAL', 'IRELAND', 'GREECE', 'GUAM', 'CHINA', 'WESTERN SAMOA', 'MALAYSIA', 'NEW CALEDONIA', 'MEXICO ', <NA>}\n"
     ]
    }
   ],
   "source": [
    "print(set(df['Country']))"
   ]
  },
  {
   "cell_type": "code",
   "execution_count": 301,
   "metadata": {
    "ExecuteTime": {
     "end_time": "2021-01-06T13:46:45.281692Z",
     "start_time": "2021-01-06T13:46:45.265685Z"
    }
   },
   "outputs": [],
   "source": [
    "#transformei as informações NaN em UNKNOWN\n",
    "df['Country'].fillna('UNKNOWN', inplace=True)"
   ]
  },
  {
   "cell_type": "code",
   "execution_count": 302,
   "metadata": {
    "ExecuteTime": {
     "end_time": "2021-01-06T13:46:56.560339Z",
     "start_time": "2021-01-06T13:46:56.504320Z"
    }
   },
   "outputs": [
    {
     "name": "stdout",
     "output_type": "stream",
     "text": [
      "{'1995.00.00.e', '1898.04.13', '1894.08.21', '2001.05.04', '1953.12.13', '1956.00.00.f', '1915.00.00', '1994.01.31.b', '1963.01.14', '2001.09.16', '1981.05.20', '2014.12.28.c', '1929.07.17.R', '1897.00.00.a', '1988.10.14', '1950.07.10', '2005.11.16.R', '1853.00.00.a', '2015.06.27.a', '1970.01.23.d', 'ND.0018', '1845.11.04', '2015.07.04.a', '1935.03.11', '2008.11.09.a', '2002.05.10', '1991.07.30', '1940.12.28', '2004.12.26', '1999.11.15', '2015.06.26.a', '1987.04.19', '1903.03.20.R', '1939.11.11', '1930.02.20', '1990.04.06', '1957.04.13', '1908.12.16.R', '1983.12.30', '2005.09.23', '2005.06.07', '2008.04.19.R', '1974.02.00.b', '1962.01.11.c', '1947.11.08.a', '1970.06.15', '2000.12.00', '1963.12.08', '2015.12.19', '2001.05.00', '1965.07.26', '1994.12.18', '2017.01.05', '2008.08.16', '2009.01.11.b', '1990.10.27', '2003.06.19', '1975.07.30.b', '2009.10.29.R', '1997.01.20', '2009.02.11', '1825.00.00.b', '1913.09.21', '1965.08.26', '2013.04.04', '1999.08.05.a', '2012.12.25', '1911.00.00.a', '1958.10.00.a', '1966.10.30', '1877.09.15', '1996.07.10', '1970.01.00', '2007.10.06', '2015.07.26.b', '1961.04.21', '1933.02.14', '1959.10.07', '1842.07.06', '2007.04.26', '1934.08.27', '1950.02.18.R', '2009.05.31', '2004.08.21', '2014.12.28.a', '1943.12.12', '1847.02.12', '1956.00.00.g', '1904.10.11.R', '2013.04.13.b', 'ND.0093', 'ND.0052', '1885.04.16.R', '1839.04.14', '1967.10.26.R', '1992.00.00', '1955.05.08', '1962.06.10.b', '1931.03.15', '2009.10.28', '2002.06.16', '2001.05.11', '1968.02.26', '1944.05.24.R', '2001.03.09', '2003.02.11', '1965.09.08', '1935.05.12', '1988.04.28', '2006.06.07', '1958.11.23', '1959.07.03.a & b', '1931.06.04.R', '2001.09.07.a', '1948.09.17.R', '1955.04.12', '1997.09.09', '2001.07.24', '2012.09.25', '1962.06.21', '1964.08.26', '1878.10.24.R', '1983.10.17.a', '2010.11.30.b', '2000.09.25', '1975.07.26.b', '2015.07.02', '1963.09.29', '1987.04.15', '2017.01.22', '2005.08.14', '1988.06.01', '1999.12.06', '1883.07.05', '1994.05.31.a', '1946.00.00.c', '1948.09.22', '1948.00.00.c', '2016.06.07', '1929.02.09', '1995.04.09.b', '2006.08.27', '1950.08.06', '2014.05.23', '1987.08.15', '1962.07.07', '2007.07.19.a', '1945.00.00.c', '1921.11.27.b', '1888.01.22', '2016.01.24.b', '1999.10.30.b', '1974.12.10', '2013.09.01.c', '1962.02.04', '1931.09.21.b', '2015.03.31', '2009.01.23', '1984.09.15', '1978.08.05', '2012.07.24', '2009.06.01', '1997.07.21', '2009.04.17.', '1911.05.01.R', 'ND.0090', '1961.02.01.b', '1950.03.01', '1960.00.00.g', '1918.09.19', '1974.04.20', '2000.11.18', '1932.01.11', '2004.10.31', '2007.11.03', '1989.12.03', '1915.07.06.a.R', '1968.04.07', '1960.04.00.b', '1978.09.02.R', '1989.04.00', '1943.05.01.R', '1942.03.08', '1971.12.05', '1956.07.26', '2015.04.12', '2007.05.00', '1956.08.25', '1891.03.10', '1957.02.24', '1957.00.00.h', '1996.08.13', '2007.11.04', '2000.08.15', '1946.04.19', '1962.10.28', '2001.05.29', '2011.03.29.R', '2017.02.11', '2014.10.07', '1890.12.30', '2014.00.00', '1980.05.15', 'ND-0114', '2017.06.10.a', '2003.04.23.a', '1949.05.13', '1974.09.28', '1982.08.00', '1885.03.28', '1923.02.00', '2002.09.13', '1962.10.14', '2000.03.31', '1945.08.19', '2004.08.06', '1996.10.05.', '2015.07.22', '1944.05.31', '1933.02.12', '1875.01.20.R', '2017.07.29.c', '1992.05.00', '1967.11.30.a', 'ND.0006', '2005.11.25.c', '1992.10.11', '1924.01.29', '2012.09.10', '1969.05.22', '1961.03.14', '2006.12.11', '1987.03.30.a', '1957.00.00.b', '1942.09.12.b', '2000.05.07.b', '1995.00.00.b', '1984.11.30', '1986.02.17', '1983.07.26', '1919.09.12', '1885.07.26.c', '1986.07.26', '1864.01.16.R', '2012.08.26', '1916.12.08.b', '2014.10.17', '2003.04.23.b', '2002.04.30', '0000.0336', '2016.08.27', '1907.07.00', '2004.10.06', '1998.09.00', '1993.03.00', '2017.01.13.b', '1955.09.03', '1975.02.09', '2000.08.12', '2004.07.31', 'ND-0138', '2011.12.31', '1934.01.07', '2003.11.27', '2002.03.15.a', '1985.09.05', '1966.12.31', '1962.12.30', '1939.11.23', '1967.05.13', '2016.03.11', '1913.05.02', 'ND.0049', '1929.12.09.R', '1897.09.06', '2012.05.29', '2004.10.09.a', '2001.07.15.b', '2009.03.16.R', '1966.12.26', '1979.08.26', '2012.06.26.a', '2015.07.08', '1948.07.01', '2010.12.03.R', '1908.01.08', '1851.12.15.R', '1992.02.09', '1929.00.00.c', '2002.12.16', '1972.01.01.b', '1751.07.27', '1984.06.03', '2004.03.28', '2009.02.18', '2006.10.31', '2001.03.23', '1943.05.17.b', '2017.03.27', '1963.07.28', '1941.07.22', '2016.03.04', '1966.08.21.b', '1921.12.11', '1966.09.13', '1963.01.12', '1992.09.18', '1964.02.17.R', '1855.03.28', '1915.08.03', '1980.08.10', '2017.09.20', '1988.02.13', '2011.06.01', '1937.08.16', '1962.07.10', 'ND.0064', '1965.00.00.c', '1918.00.00', '2006.07.28', '2003.06.26', '1993.09.30', '1930.00.00.c', '2015.07-10', '1970.00.00.f', '1970.06.13.a', '1955.02.05', '1922.09.21.R', '1864.10.02', '2015.04.26', '1946.00.00.b', '2000.08.21', '2018.02.11', '2012.01.18.b', '1923.01.27.a', '2006.04.11', '1962.01.11.a', '2018.04.28.b', '2009.01.16', '2017.11.04', '1999.06.17', '2014.10.19', '1997.08.30', '1995.09.19.', '1888.08.01.R', '2005.06.25', '2005.06.16', '2001.01.06', '1969.01.27', '1932.05.00', '1966.09.27', '2015.06.23', '1991.06.29', '2016.02.05', '1880.00.00.a', '1952.08.06', '1960.06.04', '1968.12.09', '1911.09.23', '1907.00.00.a', '1995.07.28.a', 'ND-0113', '2004.12.11', '1892.06.20.R', '2009.12.22', '1967.08.10', '2015.05.29.b', '2010.09.13', '1942.00.00.g', '2018.04.09', '1928.07.11', '1994.04.02', '1981.08.10.a', '1931.08.27', '1986.10.03', '1976.06.01', '1877.12.15', '2000.10.09', '1999.03.05', '1862.07.13', '1996.08.11', '2006.10.00.b', '2016.06.21.b', '1999.08.16', '1923.10.17', '2002.01.01.a', '1996.09.06.a', '2013.08.08.R', '1972.12.25', '1851.00.00', '1962.06.04', '2000.06.13', '1992.11.29', '1914.02.03', '2012.06.20', '1874.11.14.R', '2017.01.13.a', '2016.10.10', 'ND.0019', '1960.11.00.b', '1954.01.22.a', '2007.03.20', '1916.07.12.c', '1977.12.00', '1965.12.19', '2005.07.27', '1968.11.02', '2004.10.30.a', '1967.10.17', '1959.09.26.a', '1913.00.00.a', '2012.03.24', '1962.08.30.a', '1993.09.03', '1971.09.25', '1961.06.24', '1910.02.16', '1998.10.01.b', '1954.01.15', '2013.05.23.b', '1970.01.23.b', '2001.08.26', '1975.12.06', '1893.10.20.R', '2003.12.13.b', '1876.05.14', '1991.08.26', '2009.01.27.R', '1784.12.12', '1872.11.30.R', '1966.08.00.a', '1944.12.02', '1956.01.05', '1993.09.26', '1961.06.18', '2015.08.18.b', '2000.02.01', '1970.12.03', '2013.02.09', 'ND-1940', '1893.01.18.R', '1999.00.00.a', '2016.01.28', '2007.09.22.b', '1989.09.17', '2009.03.17', '1946.05.09', '1995.07.28.c', '1978.02.28', '2012.06.12', '1999.01.13', '1904.07.27', '1959.09.02', '1969.11.30', '2018.03.09.b', '1970.03.31', '1960.08.10', '1991.07.07', '2014.12.23.R', '1988.03.31', '1993.06.10', '2014.10.22', '1953.07.15', '1986.12.06.b', '1989.01.26.b', '1941.11.19', '1993.06.01', '1946.01.24.b', '1938.01.14', '1895.02.23.R', '2010.07.23', '1935.03.20', '1939.01.12', '2010.09.27', '1907.10.16.R', '1871.00.00.a', '1959.08.13', '1933.02.15.R', '1981.12.13.a', '1991.11.19', '2015.08.29.a', '1976.09.17', '1871.08.00', '1941.00.00.h', '1998.04.26', '1958.06.26', '1954.09.04', '1975.07.26.a', '1888.10.23.R', '2007.09.27.b', '1984.12.03', '1947.10.10', '1915.11.10', '1842.07.13', '2013.11.07.b', '1958.11.05', '1959.02.28', '2000.12.11', '1989.07.19', '2015.01.19.b', '1930.07.19', '1961.10.27', '1921.10.12', '1887.00.00', '1959.11.15', '2012.10.02', '1917.00.00', '2014.03.29', '1837.09.03', '2017.10.01', '1960.08.22', 'ND.0037', '1959.11.16', '1972.05.28', '2005.09.02.a', '1887.09.06', '2003.12.31', '1942.09.30', '1956.03.00.b', '1902.07.06', '1976.07.21', '1975.08.12', '2017.10.18', '1998.11.02.b', '1936.03.22', '2013.06.25.b', '1998.12.24', '1928.08.24.R', '1943.11.21', '1989.08.13', '2016.04.25', '2009.11.16.a', '2017.04.29.a', '2008.03.28.c', '2018.05.21', '1815.10.00', '2001.06.12', '1962.04.20', '1894.06.25', '2011.11.28', '2010.08.07.a', '1863.07.09', '1942.11.00.b', '1963.01.28', '2010.11.12.R', '1911.09.17', '2009.07.24.b', '2007.12.15', '2006.07.08.a', '1960.00.00.f', '1866.07.09.R', '2008.12.27.b', '1983.11.10', '1923.01.13', '1882.11.12.b', '1847.00.00.b', '1863.12.14', '1955.09.04', '1964.01.01.b', '1954.06.00', 'ND.0046', '2010.09.02', '1995.09.03.a', '2014.02.20', '1994.07.09.a', '1888.07.13.R', '2015.04.29', '2005.06.05', '2007.03.12', '1993.10.00', '1997.10.21', '2016.11.28', 'ND.0073', '2014.12.03.R', '2002.04.01', '1982.02.14.b', '1852.00.00', '2004.04.07', '1965.01.25', '1993.09.16.a', 'ND.0068', '1983.08.15', '1860.04.00.b', '2013.07.29.b', '2016.05.29.b', '2016.08.29.b', '1988.11.08', '1981.02.19', '2003.01.02', '2002.03.15.b', '1904.11.02', '2003.11.12.b', '2013.05.08.a', '1989.02.02', '2017.03.18', '1948.01.25', '1984.00.00.a', '1916.12.08.a', '1899.07.08.R', '2007.08.26', '1925.09.03', '2003.09.17', '1952.07.05', '2007.09.22.a', '0000.0214', '1975.02.14.R', '1999.06.19', '2005.07.15', '1958.07.27.b', '1881.00.00.a', '1877.01.04', '1998.05.16.c', '1855.11.11', '1992.07.08.a', '2004.04.05', '1962.04.05', '1877.04.04.', '2005.04.07', '1938.07.17', '2010.01.22.a', '2015.07.01', '1994.04.06', '1968.02.02', '1969.04.22', '1926.08.24', '1988.08.19', '2001.01.09', '2007.01.25.a', '1959.03.00', '1899.05.04.R', '1959.12.29', '1999.04.01', '2013.03.16.b', '1947.04.06', '1974.05.26', '1944.10.26.b', '1994.05.15', '1961.02.12', '2008.04.08', '2014.11.16', '2011.08.11', '1963.03.30', '1926.04.07', '1946.07.18.b', '1875.03.03', '2003.10.05.a', '1961.03.12', '1889.11.16', '1914.09.26.R', '1930.00.00.a', '1826.08.28', '2015.12.08', '1963.06.01.b', '1924.10.31.R', '1933.10.25.R', '2014.07.20', '1980.01.05', '1840.04.09.R', '1894.06.15.b.R', '2013.07.02', '1970.12.17', '1983.00.00.c', '1966.07.31', '2015.11.16', '2004.01.23', '2008.02.06', '2013.07.29.a', '2007.09.20', '2013.01.26', '2010.11.27', '2012.11.04.a', '1924.04.20', '1964.08.22', '2000.09.18', '1945.09.06', '2016.06.05.a', '1955.00.00.f', '1899.08.15', '2002.11.28.a', '1946.11.20', '1906.01.20', '2007.11.07', '1982.01.29', '1932.02.08', '2013.01.16', '1738.04.06.R', '2009.04.21', '2001.09.24', '1986.12.31', '2003.05.00', '1864.08.12', '2009.10.24', '2011.08.16.b', '1959.08.25', '1960.12.27.b', '1933.06.08.R', '1950.03.26', '1870.01.09', 'ND-0106', '2008.08.30.a', '1959.08.31.R', '1936.07.00', '1977.08.05', '1983.10.13', '1855.00.00', '2006.06.24', '2010.09.03.b', '1959.10.05', '1953.08.00', '2018.01.14', '2012.03.01', '1971.09.07', '1934.08.21', '1916.07.13.b', '1961.12.28.b', '2011.06.29', '1979.12.01', '2006.02.01.a', '1877.00.00', '1977.03.17', '1939.10.25.R', '1979.03.11', '1973.08.25', '2011.12.25', '2001.05.23 ', '1867.01.26.R', '2013.12.02', '1982.07.24.a', '1970.00.00.a', '1933.02.26', '1993.05.00.b', '1970.09.05', '1968.08.08', '1808.06.01.R', '1851.03.08.R', '2006.09.18.R', '1936.09.11.R', '1926.00.00.d', '2011.02.17', '1940.06.30', '1962.01.07.b', '1933.06.16', '1940.03.20', '1877.03.16', '2014.05.22', '2003.12.26', '2013.11.23.a', '2017.06.18.b', '1922.02.04', '2013.10.26.b', '1960.01.21', '1895.11.16', '1958.12.12', '1959.04.09.b', '2009.10.14.R', '1874.06.00', '1931.08.06.R', '1554.00.00', '2013.03.29', '1928.11.15.R', '1997.08.14.a', '1966.03.12', '2018.05.12', '2013.09.21.b', '1994.05.23', '1960.08.30', '2005.05.27', '1861.03.00', '2015.11.20', '2017.04.29.d', '1946.01.07', '1967.12.21.R', '2002.04.02', '1964.02.05.b', '2014.03.18.c', '2006.07.31.R', '1999.07.15', '1997.08.05', '2011.10.28.R', '1968.03.10', '1993.08.19.R', '1992.06.00', '2015.08.29.b', '1987.12.20', '1994.07.24', '1942.06.08.R', '2014.06.09.a', '1974.08.16.c', '2004.00.00', 'ND.0005', '2001.02.26', '1933.08.28.b', '2011.06.15', '1981.03.24', '2009.05.16.b', '1951.11.29', '2005.08.21', '1956.07.12', '1944.09.03', '1993.06.11.a', '2017.11.24', '2001.09.07.b', '2016.11.14', '1872.08.07.R', '1973.06.13', '1964.06.23', '1960.08.04.b', '2013.11.22', '1963.02.06', '1943.00.00.f', '1847.07.03.R', '1966.06.11', '1983.04.19', '1963.12.04.R', '1863.04.00', '1906.10.10.c.R', '1962.07.20', '1831.08.24', '1908.07.18.R', '2014.10.02.b', '2005.01.19', '1895.04.23', '2006.05.04', '1934.12.23.a', '2014.10.05.a', '1945.09.19', '1932.07.14.R', '1996.01.12', '1999.07.04', '1898.00.00.c', '1982.02.27', '1951.08.17.a', '1865.00.00', '1995.08.07', '2011.09.30', '1949.12.00.b', '2017.08.29', '2007.05.26', '1907.02.05', '2016.04.08', '1915.01.01', '1931.11.26', '2005.05.28', '1961.01.06.b', '1899.10.12.b', 'ND.0104', '1947.07.15', '2006.02.27', '2003.07.00.a', '1997.08.02.b', '1964.07.27', '2017.02.17', '1970.06.22', '1965.11.03.a', '1937.01.27', '1886.08.00.b', '1994.09.11.R', '1936.06.06', '1967.09.06', '1942.01.18', '1992.06.19', '1972.08.17', '1949.08.28.a', '1968.03.25', '1916.03.19', '1985.00.00.f', '1995.04.13', '2006.10.10', '1953.07.31', '1891.12.22.R', '1922.02.22.R', '2008.12.00', '1967.10.00', '2007.04.09', '1942.11.28', '2003.11.12.a', '1959.02.01', '1904.00.00.c', '2011.01.31', '1935.06.00.a', '1972.06.10', '2003.03.10', '1995.08.21', '2010.05.01', '2011.12.06', '1989.04.03', '1764.00.00', '1883.00.00.a', '2014.03.22.a', '2011.03.10', '1977.06.06', '1985.07.25.a', '1984.03.17', '1817.06.24', '1927.10.25', '2003.07.05.b', '1886.04.26', '1877.01.28', '2010.10.01', '1992.05.31', '2012.01.03', '1961.02.00', '2015.09.20.a', '2000.07.06', '1948.12.26', '1988.04.24', '2002.01.30.a', '1983.06.15', '2012.06.22.b', '2007.07.00', '1993.11.00', '1860.12.26', '2016.09.05.b', '2005.12.21', '2002.06.13.R1', '2018.01.21', '1920.11.04', '1961.02.17.b', '1943.03.14', '1882.01.23.R', '1919.01.17', '2008.03.25', '1968.10.10', '2010.07.11', '2013.09.01.a', 'ND.0023', '1830.04.22.R', '2004.01.15.R', '1987.07.21', '2014.03.02', '1934.04.01.a', '1940.00.00.e', '1990.08.19.a', '1940.01.07', '1924.01.25', '1874.02.15', '2007.09.13', 'ND.0082', '1961.08.16', '1936.12.19', '1987.04.18', '2012.11.22', '1966.01.05', '1964.12.10.a', '1892.04.21.R', '2006.10.07', '1953.04.07', '2016.07.17', '1994.08.22', '1953.07.00', '2008.11.09.b', '2000.07.16.a', '2008.09.07', '2005.10.22', '1961.03.00', '1932.08.30.b', '2007.04.13.R', '1995.07.23', '2013.03.31', '1908.09.05', '1998.08.01.b', '1907.03.26', '1966.07.17.b', '1994.04.03', '2016.07.27', '2012.11.19', '1998.01.14', '1999.05.29', '2011.07.07.b', '1950.07.19', '1929.08.05', '2007.09.03.a', '2002.05.31.a', '1995.05.24', '1897.09.17', '2009.05.06', '2002.08.17', '1904.09.00', '2015.11.01.b', '1991.06.07.a', '2015.02.08', '1995.07.06', '2016.03.03.R', '1995.01.02', '1992.01.23', '1947.07.27.R', '1932.08.09', '1986.03.15', '1997.12.25.a', '1928.01.00', '2013.06.27', '2003.05.07', '1989.10.11', '1950.00.00.f', '1991.03.03', '2012.08.28', '2016.09.17.a', '1894.04.28.b.R', '1934.01.08.R', '1988.03.16', '1958.00.00.c', '2004.02.21', '2013.06.14.R', '1998.09.22', '2001.09.13', '2016.02.12', '1974.08.10', '2016.05.21.b', '1748.00.00', '1922.05.06', '1962.08.12', '1917.09.00', '2012.02.25', '1979.12.21', '2008.04.27', 'ND.0074', '1898.07.14', '2017.04.10.a', '1998.08.30', '2018.03.31', '2012.01.27', '1959.08.12', '1978.07.27', '1925.06.15', '2007.08.28.b', '1847.03.11', '1871.00.00.c', '2012.05.20', '1953.09.20.R', '1996.09.01.b', '1902.06.02', '1975.02.23', '1906.09.05.R', '1830.07.02.R', '2002.10.11', '1840.09.18.R', 'ND.0100', '2016.04.18.a', '1931.05.02', '2014.12.28.d', '2008.05.24.a', '2017.06.10.b', '2004.08.15', '1998.06.05', '1901.06.29.R', '1889.11.29.R', '1967.07.00', '2005.10.29', '1960.02.27.b', '1954.12.29', '1934.12.31.b', '1910.12.25.R', '2012.09.02.a', '1995.07.03', '1999.01.03', '1957.00.00.c', '2014.07.14', '1976.09.22', '2009.04.28', '1996.09.02.b', '2011.10.02', '1944.03.26.b', '2000.09.11', '1963.11.05.R', '1742.12.17', '1931.02.10', '2012.06.14.c', '1961.07.00.b', '2015.09.26', '2011.12.07.b', '2014.07.21', '1980.07.00', '2007.05.08', '1959.09.11', '2011.01.26', '1955.00.00.c', '1928.04.09', '1934.12.23.b', '1989.08.22.b', '1929.06.23', '1952.07.27.b', '1994.12.30', '2011.05.13.a', '1997.01.25', '1985.09.28', '1987.11.00', '1965.10.21', '1891.06.11', 'ND-0109', '1916.10.11', '1929.11.29', '1956.00.00.d', '2018.01.13', '1990.04.07', '1909.06.26.a.R', '1984.09.30.b', 'ND-0139', '1963.06.01.a', '1914.03.03', '2011.07.13.b', '1947.12.00', '1928.01.21.b', '1963.07.15', '2007.11.06', '2007.01.14', '1964.07.10', '2012.07.21', '2000.09.24', '2000.11.20', '1985.10.18', '1865.03.01.R', '1907.10.12', '1962.01.14.a', '2012.10.11.R', '1992.03.10', '2016.10.02', '1955.05.00', '1827.06.00.a', '1983.12.07', '1879.03.19', '2017.07.07', '1997.05.31.b', '1962.08.00.a', '1946.10.14', '2007.09.16.a', '1993.08.15.b', '2008.09.06.a', '2017.08.03', '2004.06.02', '2016.01.24.a', '1993.00.00.c', '2009.03.27', '1976.08.24', '1944.09.00', '1937.08.31', '2016.03.26', '1989.10.14', '1886.02.13.R', '1991.05.26', '1903.09.16.R', '1944.10.23.R', '2013.07.14', '2000.11.04', '1959.00.00.g', '1953.12.00', '1861.02.12.R', '1983.00.00.b', '2003.06.24.a', '1850.10.21', '1967.09.13', '1962.01.26', '1962.10.25', '1954.00.00 g', '1996.09.01.a', '1960.09.22', '1964.01.06.R', '2017.10.23.a', '1776.00.00.R', '2002.01.03', '1889.01.00', '1960.01.07', '1996.05.07', 'ND.0083', '1994.12.11', '1968.06.09', '2006.03.23', '1923.11.23', '1962.09.30', '1999.12.31.a', '2009.07.18', '1994.05.24', '2012.03.15', '1948.00.00.a', '1897.03.15.b.R', '1946.08.24', '1980.08.04', '1889.01.31.R', '1989.09.03', '1847.11.30', '1981.03.04', '2017.04.12.a', '1864.00.00', '2000.07.25', '1957.12.30', '1877.12.15.R', '1994.11.13', '2007.05.10', '1972.09.04', '1978.06.21.b', '2011.12.26.R', '1905.08.24', '2016.06.02.b', '1971.06.01', '1989.08.22.a', '2016.01.02', '2008.04.18', '2005.03.05', '1988.02.14', '1930.04.08', '2010.02.06.a', '1721.06.00', '1942.11.01', '1923.05.23.R', '2002.11.00.a', '1733.00.00', '2015.06.05', '1983.05.31', '1950.10.04', '1947.11.08.b', '1935.03.25.R', '2003.07.26.R', '2017.01.21', '1970.04.04', '1953.09.02', '1999.02.26.R', '1840.12.00', '1937.02.13', '1967.09.20', '1901.01.30', '1891.12.31.R', '1966.01.25', '1987.07.11', '1995.05.26', '1935.01.24.b', '2004.03.27.a', '2011.10.09', '1960.01.01', '2018.05.27', '2017.07.11', '1966.08.13', '1950.04.09.a', '2017.04.17.a', '1961.06.02', '1936.03.19', '1959.01.31', '2015.03.18', '1944.00.00.c', '1998.09.27', '1928.06.24.R', '1958.04.00', '1966.01.29', '2007.06.30.a', '1984.03.10', '2011.05.21.b', '1915.11.08', '1970.03.23', '1973.12.25', '1787.07.05', '1984.03.14', '1974.01.07.c', '1998.10.04', '2009.10.02', '2010.06.10', '2007.07.21', '1966.01.14', '2006.08.22.a', '1961.09.02.R', '1995.04.09.a', '1935.07.05', '2014.09.21', '1804.02.26.R', '1927.11.03', '2000.02.03', '2014.08.28', '1968.05.00', '1880.08.08', '1980.01.31', '2011.11.29', '1954.01.30', '1992.01.29.a', 'ND.0091', '1994.05.31.b', '1959.07.25.b', '1989.11.18', '1837.01.17', '2015.12.21.b', '1961.04.14', '1888.08.14', '2016.07.04', '2009.07.05', '1962.00.00.a', '1962.06.11.b', '2017.08.10', '1899.10.12.a', '1937.05.30', '1975.03.09', '1944.11.08', '2015.03.21', '2013.06.25.a', '1992.11.05.a', '2007.07.19.b', '1904.07.01.R', '1982.06.25', '1926.10.23.b', '1982.03.07', '1957.12.18', '1753.10.27.R', '1984.08.24', '1993.03.27', '2001.08.25', '2008.08.28', 'ND.0015', '1963.12.21', '1925.03.10', '1999.03.14.b', '1886.01.26', '1944.01.14', '1993.10.26', '1963.07.11', '1926.07.23', '1965.02.14', '1974.04.14', '1993.09.16.b', '1996.01.10', '1935.08.13', '1981.08.10.b', '2008.10.22', '1948.00.00.d', '1963.01.00', '1942.11.16', '1929.04.04', '2013.05.27.a', '1995.09.28', '1941.08.05', '2008.06.28.a', '1993.10.10', '2002.08.07', '2016.03.30', '2008.06.07', '2011.05.22', '2011.04.23', '1956.08.00.a', '1864.04.00', '1847.00.00.a', '2018.06.08', '2004.07.28', '1992.10.15', '1959.11.09', '1939.05.03', '2005.08.12', '1970.00.00.g', '2000.02.19', '1960.06.07', '2008.07.26.a', '1946.04.00', '1998.00.00.b', '2012.06.03', '1947.12.15.R', '1941.03.09', '1974.03.21', '1998.03.31', '1975.02.10', '1944.08.20', '1995.08.22.a', '1962.02.07', '2008.00.00.b', '1942.04.05', '2003.09.14.a', '2008.06.11', '1998.01.28.R ', '1935.06.18', '1955.09.20', '1969.07.22', '2010.02.06.R', '1991.07.27', '1899.01.28', '1836.07.26.R', '1975.05.20', '1845.00.00.R', '2006.05.28', '1935.12.23', '1916.04.25.R', '1976.03.12.b', '1966.10.29', '1995.06.02', '1932.01.27', '1960.04.30', '1981.05.19', '1999.09.18', '1984.07.00.a', '1964.03.28.b', '1989.04.23', '1965.04.25', '2004.03.27.b', '1974.09.02.a', '1980.07.23', '1928.11.04', '2004.09.10', '1976.08.26', '2014.05.01', '2017.04.27', '1945.07.30', '2013.04.02.R', '2001.07.21', '1879.09.22', '1949.08.28.b', '1992.06.17', '1938.12.27', '1961.12.19', '2017.04.14', '2005.05.14', '1902.11.10', '2009.04.11', '2014.00.00.b', '2002.03.25.a', '2002.12.20', '1966.09.00', '2017.07.20.c', '1983.07.15', '1969.08.22', '1992.04.24', '1942.00.00.e', '2006.07.29.b', '2017.03.09', '1990.10.12', '2010.01.06', '1853.09.28', '2007.03.31.a', '1971.08.21', '2012.06.26.c', '1957.00.00.k', '1995.09.13', '2002.04.12', '1967.08.07', '1966.09.18', '2009.12.18', '1935.04.12.R', '1952.05.27', '2013.12.10', '1931.03.22', '2012.10.16', '2014.04.22', '1642.00.00.b', '1956.12.24', '1964.05.00', '2013.01.25', '2015.04.25', '1871.03.24', '2013.05.08.b', '1981.02.07', '2000.12.12', '1995.08.25', '2017.07.02', '2008.07.19', '1910.06.25.R', '2011.08.31', '1990.10.30.a', '2006.02.12.a', '1994.10.05', '1965.04.10', '1958.07.08', '2012.09.06.b', '1888.06.24', '1993.06.05', '2007.12.09', 'ND.0040', '2005.05.02', '1978.11.23', '2018.05.13.a', '1876.06.18.R', '1988.10.22', '1839.00.00.a', '1933.09.27.R', '2013.12.05', '1880.00.00.d', '1947.02.06.R', '1931.08.30', '2011.06.06.R', '1960.08.29', '1902.08.28.R', '1941.03.24', '1880.10.10', '1980.07.26', '1991.11.00', '1958.04.30', '2005.02.04', '1990.10.30.b', '1995.10.01', '2008.05.26', '1966.04.08', '2001.04.11.d', '1853.00.00.b', '1967.03.12', '2010.07.02.a', '1878.00.00', '1945.00.00.d', '2013.10.20', '2018.05.09', '2011.04.22', '1959.01.25', '2009.01.24.c', '1946.12.28', '1970.01.16', '1929.01.06.R', '1952.12.21', '1961.02.16', '1967.11.00', '2014.08.08', '1984.02.11', '1967.08.00.a', '1942.11.25', '1959.11.22', '2004.04.13.b', '1914.09.09', '1908.05.13', '2004.06.26.b', '1872.00.00', '1986.03.05', '1960.08.21', '1955.08.08', '1954.12.09', '1916.11.09', '2001.08.22', '2017.11.30.b', '1976.11.27', '1950.00.00.h', '1995.08.19', '1943.08.00', '2004.06.10.b', '2010.09.07', '1946.10.26.R', '1909.01.00', '1996.12.00.b', '1996.05.18', '1992.05.22', '1915.02.06', '1962.11.00', '2016.02.04', '1930.05.11', '1928.02.00.b', '1966.08.14', '1977.01.00', '1949.07.29', '1922.09.29', '2009.09.18', '1883.00.00.c', '1968.10.29', '1923.00.00.a', '1972.12.01', '1967.11.04', '2016.09.05.a', '1929.07.29', '1991.04.24', '1968.06.25', '1959.12.11', '1880.05.14', '1906.09.27.R.a', '2001.08.18.b', '2013.12.25', '1882.05.12.R', '2007.08.25', '2008.01.27', '1933.11.18', '2009.12.20.b', '2009.01.12', '1961.04.03', '1960.00.00.a', '2017.12.09', '1905.12.29', '2017.03.19', '1942.03.04', '1956.07.20', '2009.03.17.R', '2001.11.14', '1932.10.31', '2011.08.24.a', '1992.11.12.R', '2014.10.03.b', '1959.05.16', '1964.02.14.b', '1910.03.00', '1943.04.05', '1887.02.08.R', '2009.02.07.a', '1930.02.03.R', '1962.11.25', '1903.05.04', '1996.06.25', '1877.12.12', '1898.10.28', '2008.10.08', '1767.00.00', '2011.09.11.b', '1999.07.29', '1974.07.26', '2005.10.21', '2015.11.15.a', '1929.12.26', '1960.10.24', '1946.06.28', '2006.05.24', '1853.07.13.R', '1998.09.16.R', '1959.08.14.b', '1961.12.28.c', '1887.01.20', '1890.06.26', '1971.00.00.a', '1948.11.18', '1960.08.25', '1900.08.21', '1986.10.05', 'ND-0151', '1985.07.25.b', '1992.03.08.a', '1894.08.01', '2016.04.09', '1862.12.22', '2016.09.01', '2000.10.14', '1802.04.13.R', '2001.04.12.b', '1975.08.04', '1958.07.27.a', '1944.01.04', '2017.09.10.b', '1988.08.22.a', '1988.07.11', '1863.00.00.R2', '1982.09.27', '2014.03.13', '1988.06.16', 'ND.0022', 'ND-0134', '1937.05.15', '1894.04.28.a.R', '1935.01.17', '2016.10.21', '2000.08.13', '1982.06.13', '1964.02.08', '2000.06.29', '2005.09.05', '1970.00.00.b', '1968.02.00', '1960.06.27.b', '1976.06.10', '1998.01.25.b', '1994.07.09.c', '1964.07.00.b', '1998.01.17', '1934.12.31.a', '1932.11.09', '2014.09.09', '2001.07.03', '1944.02.18', '2015.09.04', '2003.11.30.a', '1911.11.08', '1829.00.00', '1932.06.26', '1965.06.09', 'ND.0007', '1988.10.00', '1990.07.08', '2018.06.18', '1966.07.03', '1910.01.26', '1956.00.00.e', '1928.01.27', '1850.00.00', '1896.12.23', '1906.10.10.d.R', '2008.10.21', '1999.02.23', '1978.12.12', '1877.01.24.R', '1929.12.16', '2009.10.18', '2014.02.08', '2012.06.15', '2013.07.28.a', '1984.06.03.b', '1989.09.13', '1965.05.28', '1965.03.14', '2002.06.13.R2', '1926.01.00', '1984.10.17', '1968.12.00', 'ND.0054', '1885.11.26.R', '2015.09.03', '1928.03.28.R', '2016.07.29', '1906.07.05.R', '1986.11.30', '1974.02.00.a', '2014.11.13', '2005.04.09', '2007.01.09', '1893.05.17', '1964.07.16', '2005.10.13', '1947.04.11', '1996.08.29', '1975.06.15', '1830.07.26', '2015.12.26', 'ND-0135', '1967.05.09', '1899.09.11.R', '2000.07.10', '1935.03.02', '1971.12.16', '1862.12.04', '1952.08.03', '2001.04.10', '1922.01.15', '2009.02.12', '1989.10.29.R', '2009.11.16.b', '2018.04.15.b', '2008.04.25', '1972.02.20', '1991.02.24', '2008.08.24', '1842.00.00.b', '1990.09.08', '1916.04.03', '1994.02.13', '2008.06.26.b', '1992.10.01', '1973.08.16', '1992.01.06', '1994.03.23.b', '1970.01.23.a', '1862.00.00.b', '2015.09.00', '2010.08.10.b', '1964.01.04', '2015.12.23', '2011.02.28.R', '1900.11.14', '1962.01.07.a', '1939.11.06', '2010.06.25.b', '1927.02.00', '1953.12.30', '1882.12.03', '1937.10.24.a', '1929.12.03.R', '1939.00.00.e', '1948.08.00', '1919.00.00', '2009.03.19.b', '2011.09.28.b', '1783.03.02', '1973.12.18', '2005.07.23', '1911.05.09', '2011.09.11.a', '1959.01.02', '1991.11.14', '2004.04.22', '1910.03.08', '2010.10.02.b', '2001.03.08', '1999.12.31.b', '1981.05.16', '1896.01.11', '1988.07.04.b', '1915.03.29', '1872.10.22', '1998.11.02.a', '2015.10.09.a', '2000.07.09', '1968.08.21', '2017.08.01', '2001.04.11.a', '1967.11.30.b', '2003.09.00', '1963.09.26', '1919.05.29', '1975.06.00.c', '1922.04.26', '1983.03.30.a', '1986.05.18', '1913.11.27', '1995.08.13.a', '2000.06.09.a', '1959.06.26.R', '2002.05.31.b', '1923.10.20', '1983.08.13.a', '1827.00.00', '2000.05.13', '1942.00.00.k', '2008.12.30', '2011.07.30', '2008.10.11', '1935.07.27.b', '1898.07.00', '2017.01.09', '1921.10.04', '1935.07.27.a', '1983.03.00', '1973.00.00.c', '1997.09.06', '1899.00.00.b', '1952.08.04', '2006.05.19', '2007.04.22', '2015.06.26.c', '1934.07.11', '2006.07.23', '1981.02.16', '1952.10.12', '2013.11.29', '2006.06.27', '1894.09.01.R', '1989.11.22', '1926.00.00.a', '2002.08.11', '1942.00.00.j', '1950.11.29', 'ND.0084', '1968.08.13', '2006.09.03.b', '2012.10.07', '1911.07.31.R', '1974.08.23', '1947.06.27', '1960.04.20.R', '1906.04.16', '1987.02.19', '2001.09.18', '1981.11.30', '1983.04.02.a', '1977.12.19.b', '2018.01.05', '2007.12.14', '1920.03.08', '2010.10.09', '2013.06.16', '2015.05.24', '2017.05.12', '1954.08.19', '2006.08.20.b', '1951.08.17.b', '1944.06.23', '1930.03.07.R', '2009.02.22', '1947.11.00', '1960.06.05', '2006.07.10', '2013.09.02', '2011.06.19.b', '1977.02.26', '1962.04.07', '2016.10.29', '1950.00.00.m', '1968.05.18', '1887.07.30', '2002.03.19', '1993.01.04', '1983.03.22', '2015.04.24.c', '1938.08.29', '1990.12.26', '2005.11.24', '1999.07.06', '1977.12.19.a', '1919.08.10', '1879.12.24', '1861.01.15.R', '2008.08.20', '1904.00.00.R', '2002.10.30', '1893.10.16', '2012.12.19', '2009.08.01', '1836.08.19.R', '1998.08.13', '2001.05.20', '2007.05.09.R', '1836.00.00.a', '1984.01.04', '1755.00.00', '1960.10.00.c', '2016.04.07.a', '1942.00.00.c', '1949.01.14', '1989.07.20', '1999.11.13', '2015.01.08', '2007.10.15', '2016.06.15.b', '2014.06.01.a', '2007.05.04', '1984.02.12', '2004.10.30.x', '1962,08.30.b', '1993.01.02', '2018.04.14', '1958.01.09.R', '1989.08.09', '1993.08.14', '1993.06.11.b', '2014.09.02', '1983.04.02.b', '2011.01.15', '1894.09.06.R', '1972.01.01.c', '1972.00.00.b', '2007.10.29', '2004.06.26.a', '1956.09.23', '2006.04.13', '1891.11.29', '2004.07.02.a', '1959.09.27', '1977.03.13.b', '2017.04.29.b', '2015.06.07', '2005.07.17.a', '2016.02.19', '2001.07.00', '2007.10.13', '1998.07.06.b', '1980.01.13', '2018.04.24', '2016.10.01', '2017.02.06.b', '1999.11.00.b', '1933.11.20', '1948.09.15', '1939.07.18', '2013.06.06.a', '1995.03.21', '1959.08.02', '1941.00.00.c', '1950.00.00.g', '2009.05.17', '1907.08.12.b..R', '1982.09.30.b', '1876.00.00.b', '1963.04.12', '1973.09.00', '1979.05.00.b', '2009.08.06', '1858.01.14.R', '1963.11.28', '1985.02.18', '1982.02.14.a', '2011.08.16.a', '2004.09.08', '1848.07.00', '1959.08.05', '2011.12.05', '2011.08.17.c.', '2004.07.25', '1966.12.27.a', '1962.05.00.R', '1862.00.00.a', '2007.01.07', '1964.08.23', '1940.09.00', '1966.08.27.a', '1898.09.19.a.R', '1883.10.20.R', '1961.04.30', '2013.09.25', '1907.10.18.R', '1982.02.07.a', '1972.01.01.a', '2005.05.15', '1898.09.19.b.R', '1971.04.06', '1853.00.00.c', '1985.10.24', '1909.06.26.b.R', '1962.01.18', '1949.01.23', '1870.07.27', '2013.06.18', '1968.04.15', '1949.01.13', '1999.08.21', '1856.11.20.R', '2014.05.15', '2015.10.08', '1996.02.10.b', '1959.02.27', '1968.07.10', '1906.10.10.a.R', '1932.08.06', '2012.12.31', '1959.12.19.a', '1928.01.02', '2009.01.11.a', '1974.07.20', '1964.02.02', '1998.12.22', '1985.07.21', '2010.02.11', '2014.07.16', '1887.01.12', '1994.12.01', '2007.01.19', 'ND.0026', '1973.11.24', '1961.10.00.b', '2002.12.24', '1999.04.22', '2007.12.18', '2005.01.08', '2016.06.11', '1996.06.04', '1960.12.24', '1972.08.29', '2001.12.21', '1998.02.23', '2009.08.30', '1953.02.18', '2006.09.02', '2010.08.05', '1999.09.16', '1983.03.10', '1959.00.00.c', '1890.00.00.b', '2009.07.04', '1991.05.19', '1978.00.00.b', '1938.05.02.R', '1908.07.08.R', '1912.01.13.R', 'ND.0057', '1932.06.20', '2007.07.17.b', '1976.05.02', '1899.12.18', '1964.06.24', '2007.08.19.b', '1997.11.05.R', '1973.08.27', 'ND.0012', '1967.08.15', '1974.00.00.a', '1990.06.23', '1996.10.28.a', '2000.09.12', '1973.09.09', '2005.09.11', '1991.04.03', '1988.08.11', '2012.12.00', '2002.09.21.b', '1993.03.14', '1990.10.20', '1886.06.17', '1882.02.07.R', '2010.02.04', '1920.01.15', '1967.08.26', '1958.00.00.d', '2013.07.09', '1951.11.28.b', '1961.01.02.R', '2004.07.27.b', '1877.08.28.R', '2018.04.03', '1929.03.04.a', '2006.04.03', '1968.01.17', '1960.08.14', '1936.08.24', '1996.01.16', '1941.08.21.R', '1993.00.00.b', '1970.06.13.b', '1984.07.24.a', '1956.12.26', '1959.00.00.f', '1985.05.26', '1951.10.22', '2012.12.30', '1912.05.04', '2010.01.09.c', '1962.06.17', '2004.07.02.b', '1978.07.19', '2018.04.30.R', '1998.12.15', '2017.09.02.c', '2002.04.18', 'ND.0096', '2010.07.03', '1925.08.02', '1982.06.26.a', '2012.01.22.R', '2010.08.10', '1886.05.06', '2004.08.20', '2017.04.17.b', '1956.05.07', '1963.04.20', '1887.09.22', '2018.04.28.a', '2007.09.30.a', '1981.01.30', '2011.04.16', '1999.09.29', '1957.04.28', '1942.00.00.d', '1916.07.13', '2000.11.10', '2004.01.12', '2015.08.18.a', '1905.08.00.b', '2012.11.27', '1902.04.00', '1960.02.29', '2009.01.18', '1997.07.02.R', '1938.00.00.b', '2010.10.23.a', '1974.00.00.b', '1994.07.09.d', '1949.00.00.d', '1966.06.04', '2006.11.11', '2014.06.01.b', '2014.01.04', '1995.05.31', '2011.05.04', '2006.12.06', '1959.00.00.b', '1888.00.00', '1905.07.25.R', '2017.03.11', '2015.10.13', '2013.11.30', '2009.03.18.a', '1980.01.25', '2013.07.30', '1993.09.09', '1936.04.22', '1909.07.15', '2004.03.06', '1957.04.23', '1947.08.04', '2001.04.12.a', '1962.09.02', '2016.06.24', '1959.02.06', '2003.08.08', '2006.05.31', '1965.05.00.b', '1863.00.00.R3', '1912.02.22', '2002.07.20', '2010.05.30', '1896.11.01', '1938.00.00.d', '1899.00.00.c', '2015.11.10', '1953.01.08', '1859.03.16', '1868.05.13', '1964.12.10.b', '1912.01.26', '2016.09.18.a', 'ND-0116', '1967.03.10', '1955.02.00', '1996.10.09', '1991.11.26.a', '1940.00.00.b', '1935.08.24', '1924.02.08', '1897.06.09', '1964.01.11', '1963.12.25', '2008.07.25.a', '2005.05.25', '2015.06.01', '1962.01.10', '2015.11.03', '1996.05.24', '2005.03.12', 'ND.0020', '2006.05.27', '1953.04.04', '1979.00.00', '1948.12.14.a', '2010.05.18.b', '1998.05.29.a', '1999.01.07', '2005.04.13', '1975.08.17', '1982.07.01', '1987.09.18', 'ND.0041', '2006.07.09.b', '2016.10.24', '1988.10.10', '1985.01.00.a', '1913.07.12', '2017.10.28', '1881.06.13', '2007.09.27.a', '1880.05.07.R', '1984.09.17', '2015.10.07', '2007.09.05', '2008.08.27', '1952.07.27.a', '1990.04.01', '1963.01.06', '1965.01.10', '1890.05.14', '2010.09.03.a', '2000.08.27.R', '1965.08.30', '1995.06.23', '2003.08.19', '1981.05.24', '1972.12.24', '1991.06.07.b', '1961.04.16.b', '1941.01.29', '1961.00.00.a', '2017.09.06.R', '2006.08.00.b', '1925.00.00', '1969.09.06', '1924.07.04', '1963.00.00.b', '1962.09.13', '2014.06.27.R', '2008.03.28.b', '1947.12.21', '1943.00.00.c', '2006.01.25', '1962.03.25.b', '2018.04.15.c', '1987.05.25', '1930.07.11', '1985.12.22', '2011.09.28.a', '1879.03.10', '1995.09.03.b', '1929.00.00.d', '2003.10.05.e', '2011.08.17.a', '2015.04.03', '1952.00.00.b', '1987.07.12.a', '2002.10.14', '1958.01.09', '1951.12.06', '2006.08.29.a', '1910.03.31', '1987.09.13', '2005.12.20', '1975.03.00', '1975.07.04', '1964.09.07', '1942.11.21', '1999.11.06', '1988.08.22.b', '1926.01.26', '1870.00.00', '1984.09.22.a', '1994.06.24', '1978.04.00', '1952.12.14', '2011.09.20', '1966.07.17.a', '1896.12.20', '1923.08.08', '1995.09.30.a', '2006.09.04', '1900.12.27', 'ND.0094', '2011.08.18', '1909.07.24', '1852.08.07', '1954.07.02.R', '2009.01.26.R', '1985.11.05', '1945.09.23', '2003.02.15.b', '1977.02.00', '2005.11.12', '1950.00.00.e', '1944.03.14', '1967.04.00', '1884.01.16', '1968.07.27', '2016.04.22', 'ND.0010', '1982.09.04', '1938.00.00.e.R', '1923.00.00.b', '2009.11.24', '1950.06.25', '1940.01.15', '1903.00.00.b', '1964.09.20', '1955.04.13.R', 'ND.0011', '2011.05.29', '2009.09.07', '1986.08.19', '1871.05.13.R', 'ND.0066', '2007.01.25.b', '2008.07.26.b', '2001.08.18.c', '2017.07.23.a', '2000.07.02.b', '1928.11.12', '1954.08.12.a', '1852.05.24', '2012.01.19', '2011.02.02', '2016.08.29.a', '1929.01.27', '2009.02.07.b', '1808.12.25.R', '2005.06.18', '1957.02.05', '1935.03.13', '2006.10.05', '1951.03.26', '2003.08.12', '1958.00.00.h', '2009.01.24.a', '2015.07.28', '1961.04.00', '1952.12.24', '1913.08.26.R', '1904.00.00.b', '2017.09.15.a', '2015.08.20', '2006.02.23', '1967.02.06', '1954.09.15', '1966.09.19', '1997.09.16', '1818.05.22.R', '1959.07.30', '2007.07.17.a', '1954.04.00', '2008.02.07', '1957.12.26', '1996.11.29.a', '2007.08.15', '2015.10.25', '1976.01.02', '2015.01.19.a', '1974.04.25.R', '2014.10.11', '1771.07.12.R', '1990.10.15', '1943.00.00.e', '1965.02.04', '2007.06.24', '2000.05.09', '1920.06.27', '1938.01.02', '2008.10.06', '1966.04.00', '2003.07.00.b', '1975.07.05', '1853,94.29', '1907.08.12.a..R', '1956.00.00.h', '1969.05.24', '2007.08.12', '1900.00.00.a', '2017.09.16.b', '1959.08.20', '1983.07.25.b', '2003.06.30', '2017.07.07.R', '2015.09.06', '1959.08.14.a', '1985.03.03', '1943.01.26', '1981.10.01', '1930.02.15', '1913.11.21', '1950.03.08', '1883.12.18.R', '1981.07.18', '2015.01.06', '2010.06.06', '1914.10.17', '1981.09.28', '1987.10.11', '2010.11.14', '2011.05.13.b', '2013.10.08', '1890.08.09', '1957.05.11', '2002.06.20.a', '1969.08.01', '1828.00.00', '1987.02.28', '2016.05.31', 'ND.0065', '1950.00.00.j', '1867.00.00', '1942.00.00.a', '1969.07.20', '2000.03.24', '1922.01.28.R', '1936.00.00', '1951.07.19.R', '1905.04.06', '1980.10.17', '1989.04.12', '1936.02.20..R', '2002.05.22.b', '1956.03.04', '2014.04.15', '1986.04.20', '1989.00.00.b', '1902.07.15', '1962.01.16', '2016.07.24', '1939.03.24', '2002.11.17', '1979.05.27', '1991.06.26', '1968.02.04', '1801.12.18.R', '2012.07.07.a', '1995.11.17', '2005.06.02', '1963.09.10', '2014.03.22.b', '2014.02.07.b', '1961.12.18.b', '2009.11.25', '1858.08.23', '1982.03.00', '1970.00.00.h', '1949.07.16', '1892.00.00', '2018.02.01', '1956.00.00.c', '1803.05.17', '1973.09.10.R', '1860.10.00', '1977.12.31', '1914.03.10.R', '2004.06.14', '2004.05.29', '2016.09.00', '1949.05.16', '2008.05.14', '1958.02.19', '2012.03.06.b', '1949.00.00.c', '2008.12.10', '1998.06.08', '1952.05.00', '1874.07.15.R', '2013.03.03', '1981.08.29', '2017.04.06', '2006.09.11', '2006.11.25', '1964.02.05.a', '1962.02.05', '1963.12.26.b', '2005.06.22', 'ND.0021', '1965.01.23', '1951.12.21', '2009.12.12', '1887.10.18', '1878.06.10', '1916.06.23', '2014.06.01.c', '1902.01.19', '2018.05.26.b', '1962.03.25.a', '2007.09.04', '1948.09.02', '1984.06.15', '1996.07.26', '1975.03.18', '1934.04.01.c', '2013.10.11', '1952.00.00.d', '2014.09.00', '1996.01.23', '1962.02.18', '2013.08.13', '1975.07.23', '1963.11.16.R', '2005.03.10', '1972.12.22', '2013.08.31.b', '1954.07.28', '1997.07.12', '2009.10.30', '1967.12.18', '1963.02.08', '1984.09.11', '2003.07.00.c', '1998.04.00', '2011.02.23', '1883.12.19', '1941.00.00.f', '1922.01.04', '1986.12.11', '1829.07.03.R', '1995.03.05', '1968.11.06', '1864.00.00.R', '2008.05.24.b', '1890.06.14.R', '1989.09.10', '1825.00.00', '2007.05.12', '1935.04.08.R', '1932.09.26.R', '2003.04.15', '2017.04.29.c', '2003.02.27', '1996.10.28.b', '1906.01.28', '1908.08.28.R', '1942.09.12.a', '1963.02.24', '1988.03.25', '1963.12.22.a', '2014.08.29.b', '1958.04.19', '1993.05.00.a', '2011.02.19', '1916.07.07', '1939.08.01', '2012.06.10', '2016.12.19', '1966.09.10', '1977.04.26', '2005.09.07', '1807.01.12', '2011.04.12', '1978.12.29', '2015.06.24.a', '2017.05.27', '1922.09.28', '1983.11.21', '1888.06.18.R', '1984.07.01', '1926.07.08', '2010.08.29', '1984.09.19', '2003.11.30.b', '1975.11.19.a', '2003.10.05.d', '2006.01.15', '1958.04.03', '1955.08.30.a', '1960.00.00.h', '1930.12.02', '1898.00.00 g', '1968.00.00.b', '1946.07.18.a', '1998.04.21', '1992.11.05.b', '1986.05.15', '2007.03.22', '1947.01.14', '1923.00.00.c', '1997.02.03', '2009.06.14.R', '2012.03.14.b', '1992.01.03', '1979.11.12', '1992.09.13', '2015.06.26.b', '1914.06.10', '1966.03.20', '1999.01.29', '1956.08.00.c', '2011.05.21.a', '1960.05.29', '1942.11.13.b', '1880.00.00.c', '2005.11.21', '1953.06.00', '1955.08.00.c', '2005.07.22', '2016.05.03', '2007.12.07', '2015.11.01.a', '1943.07.00.b', '1942.07.06', '1976.12.29', '1988.04.10', '1916.12.30', '1963.01.22', '1961.01.03.b', '2000.10.20', '1997.02.28.a', '1953.07.09', '1952.01.07', '1988.07.19', '2017.02.24', '1981.05.07', '1960.04.14', '1990.05.06', '2017.07.26.R', '1914.12.04.R', '2016.12.11.b', '2011.10.05', '1929.01.12', '1897.00.00.b', '1958.09.06', '1947.02.23', '1921.11.15.R', '1927.10.00', '1956.02.10.R', '2002.06.03', '2002.12.29', '2011.06.28', '2016.12.24', '2009.07.24.a', '2017.01.03', '2016.09.18.b', '1992.07.23', '2004.05.01', '1963.11.25', '1970.09.02', '1852.10.09.R', '1960.00.00.j', '1991.09.19', '1914.07.08.R', '1954.10.02.a', '1997.12.25.b', '1922.07.19', '2003.07.15', '1959.08.15.a', '1855.07.28', '1883.01.21', '2007.07.22', '2013.06.30', '1958.07.04.a', '1977.03.13.c', '1961.01.15', '1914.05.14', 'ND.0078', '1975.03.16', '1936.01.22', '1998.05.16.a', '1971.10.02', '2010.09.06.R', '1923.03.18', '1982.00.00.c', '1974.09.00', '1906.04.10.R.a & b', '1960.07.03', '1920.11.29', '1977.08.23', '1985.08.22', '2001.01.21 ', '2007.03.21', '1954.07.30', '1964.01.22', '1989.04.09', '1997.06.24', '2001.08.19.b', '2012.04.03', '2006.04.23.R', '1972.09.09', '1956.00.00.b', '2018.06.25', '2013.10.19', '1975.09.00', '2010.02.01', '1948.02.13', '1860.04.00.a', '1992.08.21', '1899.10.28', '2002.09.16.b', '1974.02.13.a', '1951.00.00', '2005.12.24', '2017.07.14.a', '2017.06.18.a', '1941.12.03', '1926.11.17', '2011.07.15', '1879.00.00', '1959.08.11', '1887.10.00', '1964.11.18', '1968.07.00', '1929.12.21', '2007.09.30.b', '1942.06.11.R', '2006.06.15', '1895.05.03', '1999.12.26', '1997.05.31.c', '2001.08.19.a', '2014.04.04.a', '2003.05.14', '1942.07.12', '1978.01.17', '1963.12.26.a', '1884.12.13', '2015.05.20', '2003.04.20.c', '1992.10.22', '1976.11.26', '1996.02.05', '1940.07.13.b', '2009.08.11', '2004.10.21', '2015.09.24', '1976.09.12.a', '1917.09.21', '1898.00.00.b', '1980.04.25', '1931.08.25', '1954.07.27', '1966.02.27', '1959.08.30', '2012.03.06.a', '1932.06.28', '1986.07.00.a', '1932.08.30.a', '1888.12.09', '1963.04.13', '1993.03.12', '1973.01.21', '1892.06.24', '2011.06.12', '1973.00.00.a', '1901.07.17', 'ND.0044', '1905.03.25', '1922.09.26.R', '1950.07.14', '1958.07.02', '1905.07.29', '2018.06.03.a', '1980.11.17', '1975.07.15', '2004.01.07', '1993.00.00.a', '1989.02.19', '2008.08.30.b', '2000.10.18', '1958.01.27', '2003.04.21.a', '1929.04.26.R', '1927.01.03', '1998.08.26', '1834.07.15.R', '1960.02.03', '1975.06.02.R', '1960.12.20', '1990.00.00', '1983.01.10', '1961.08.04', '1906.04.14', '1896.12.17.R', '1936.03.30', '1992.08.18', '1917.05.31', '2017.09.10.a', '1959.01.00', '1927.01.08.R', '1937.06.15.b', '2004.07.19.R', '2016.06.02.a', '1976.09.19', '1960.10.25', '2005.04.17.R', '1992.08.25', '1953.02.00', '2002.10.05.b', '2005.10.06', '2015.07.06', '2002.01.04', '2000.08.30', '1944.04.00', '1938.07.12', '2000.12.05', '1992.08.29', '1909.09.04.R', '1955.08.30.b', '1904.01.23', '2010.01.22.b', '2008.06.01.b', '2005.10.25', 'ND.0056', '1965.12.10', '1937.02.11', '1991.08.30', '2008.06.01.a', '1997.10.28.a', '1939.00.00.c', '1988.01.21', '1938.08.18', '1966.05.20.a', '1910.06.08.R', '2014.10.03.a', '1961.03.18', '1829.06.10', '1988.01.27', '1999.04.11', '1998.05.29.b', '1883.02.25.R', '2017.02.25', '1980.11.18', '1999.07.03', '1960.12.01', '2002.03.25.b', '1845.12.26', '2017.09.16.a', '1936.09.04', '1940.12.20', '1992.12.28', '1969.05.25', '1913.08.27.R', '1969.01.00', '1974.06.20', '1983.09.04', '1986.04.00', '2012.06.02.a', '1947.04.20', '1956.12.09', '1995.07.28.b', '2017.09.14', '2016.10.30', '1928.04.04', '2009.10.17', '1934.04.01.b', '1883.09.14.R', '2013.03.21', '1933.05.23', '1951.01.21', '1960.05.16', '1927.02.09', '1975.02.07', '1983.07.05', '1982.07.24.b', '1923.01.27.b', '1928.12.21', '1887.03.12', 'ND.0086', '1964.12.06', '1952.04.00', '1857.05.05', '1951.10.05', '1889.07.19', '2001.08.21', '1987.11.21', '1931.06.13', '1823.12.30.R', '2003.07.20', '1930.01.16', '2000.07.12', '1700.00.00.c', '1962.01.06', '1890.00.00.c', '2007.05.07.b', '1967.01.27', '1966.08.16', '1949.07.28', '2009.09.02', '1962.01.15', '1959.12.00', '1956.06.20', '1927.05.29', '2013.12.11', '2012.05.06', '1960.02.07', '1992.06.28.b', '2000.09.16.b', '2011.12.21.b', '1959.05.07', '1948.08.03', '1991.07.00', '2009.04.03', '2003.10.24', '1950.08.00', '2018.04.10.R', '1996.07.23.b', '1973.11.25', '2013.08.05', '1992.09.00', '1890.06.02.R', '2002.08.05', '1984.05.31', '2016.05.15', '1998.05.16.b', '1943.00.00.a', '1957.05.00', '2010.12.01.b', '1959.06.14.a', '2013.12.16', '2016.12.06', '1895.09.00', '1946.02.10.a', '2015.10.17.c', '1998.10.01.a', '1982.09.30.a', '2014.11.08', '2015.01.23', '1872.01.28', '2006.03.19', '1937.02.03', '1997.11.09', '1947.07.24.R', '2011.01.20', '1994.10.17', '1999.06.09', '1962.10.06', '1936.12.30', '1856.06.21.R', '2001.10.07', '1993.10.30', '1961.05.21', '1932.10.11', '2013.08.14', '2015.05.25', '2016.07.06', '2002.05.07', '2003.06.24.c', '1962.01.14.c', '1976.07.16', '2008.04.15', '1959.01.17.a', '1991.08.09', '1996.04.28.b', '1963.12.20.a', '1960.06.29', '2017.04.26', '1958.00.00.a', '2003.11.06.a', '1895.02.27', '1909.04.27.R', 'ND.0033', '1967.03.01', '1905.01.01', '1937.06.28.R', '1990.09.15', '1983.08.20.a', '2006.08.29.b', '1949.08.16', '1903.00.00.a', '1926.03.17', '1911.10.25', '2017.07.20.b', '1976.03.12.a', '1917.06.03', '1981.10.19.b', '2015.04.11', '2008.06.20', '2002.01.30.b', '1894.11.28', '1880.11.25', '2009.01.10.R', '1994.09.05', '1985.02.03', '2003.09.28', '1858.01.09.R', '2012.03.03', 'ND-0108', '2011.08.23', '2017.10.21', '2010.04.28', '1927.00.00.b', '1923.10.16', '1998.07.11', '1938.07.18', '2013.03.10.a', '1931.00.00.a', '2008.07.24.a', '2015.10.05.b', '2014.05.14', '2000.06.30', '1890.10.25.R', '2014.04.04.b', '2002.07.26', '1930.01.22', '2008.05.23', '2016.05.29.a', '1932.08.10', '1959.03.08', '1963.05.18', '2013.09.07.a', '1955.11.16', '1955.11.00', '1996.00.00.a', '1912.02.19', '1970.12.13', '1983.00.00.d', '1990.11.28', '2017.07.22', '2006.08.15', '1965.11.21.a', '1930.12.00', '2002.02.11', '1870.05.11', '2006.01.23', '1779.00.00', '1994.02.19', '1954.11.20', '1931.09.27', '1996.07.04.a', '1983.12.25', '1966.08.28', '2016.06.05.b', 'ND-0136', '1991.01.19', '2010.07.16.a', '1931.04.27.R', '1918.11.00.b', '1993.03.22', '1969.02.00', '1995.08.00', '1913.05.21', '1951.09.02-R', '2003.09.19', '2004.05.22.c', '1908.06.02.R', '1972.02.12', '1995.08.31.b', '1971.11.25.R', '1868.09.01', '1868.00.00.a', '2016.10.12', '1953.09.18', '2015.12.22', '2013.09.12', '1986.01.12', '1961.04.17', '1999.03.18.a', '1957.00.00.i', '2009.03.01.a', '2003.05.25', '1950.07.27.R', '1897.03.15.a.R', '2010.08.14', '2008.04.03', 'ND.0075', '1967.12.14', '1972.00.00.a', '1955.00.00.d', '2009.12.20.a', '1954.12.04', '1984.10.21.b', '2005.09.22', '1967.12.17', '1999.09.24', '1993.07.30', '1955.00.00.a', '1986.12.22', '1964.07.08', '1932.05.12', '1972.03.16', '1964.10.04', '1985.01.18', '2015.06.17', '1962.01.08', '1929.03.12', '2004.10.09.b', '1906.08.04', '1964.01.23', '2012.07.08', '2015.06.25.R', '1939.00.00.b', '2005.06.13', '1848.08.31', '2012.07.31.b', '2002.11.28.b', '2010.01.12', 'ND.0048', '1944.00.00.a', 'ND.0014', '1952.00.00.a', '1997.02.20', '2000.09.08.c', '1954.05.00', '1912.07.23', '1997.08.10', '1989.06.00', '1966.05.20.b', '2012.05.23', '2008.01.19.R', '2015.10.21', '1998.08.12', '1992.09.10', 'ND.0035', '2008.04.17', '2014.04.24', '1962.11.29', '1957.00.00.g', '2006.05.10', '1960.08.00', '1884.12.08.R', '1999.03.18.R', '1997.08.24', '1961.04.09', '1936.01.00', '2018.03.09.a', '1982.00.00.a', '1950.05.24', '2015.11.15.b', '1961.06.06.R', 'ND-0132', '1959.12.03', '1993.09.14', '1952.07.27.c', '1914.07.15.R', '1947.05.13.R', '2007.02.00', '2006.03.15', '1966.01.22', '2016.03.31', '1996.04.25.b', '2011.10.11', '2012.03.14.a', '1961.12.18.a', '1958.12.27', '1914.00.00', '1915.05.15.R', '1950.01.12.R', '1959.06.14.b', '1856.11.25.R', '2012.07.07.c', '1954.04.08', '1994.00.00.b', '2015.02.14', '2007.09.17', '2017.09.24.a', '2013.03.21.R', '1981.00.00.a', '1917.09.09', '1912.11.30.R', '2003.10.06', '2017.02.06.a', '1927.01.20', '1907.09.18.R', '2016.07.08', '2009.06.16', '1960.02.27.a', '2015.10.19', '2008.11.24', '1934.08.26.R', '1950.00.00.d', '1885.07.26.a', '2016.09.26', '1937.03.09', '1845.09.16.R', '1962.05.12', '1935.02.14', '1974.02.13.b', '1985.11.03', '1951.06.25', '1887.12.22.R', '1960.07.05', '1959.10.00', '1930.08.31', '2006.04.21', '1976.11.25', '2014.05.13', '1837.07.00', '1963.07.10.R', '2016.07.28', '2000.09.29', '1961.08.01', '1979.03.24', '2009.03.01.b', '2008.08.18', '1988.10.06', '1867.06.26', '1946.01.17', '1944.03.26.a', '2008.12.20', '1955.02.06', '1959.12.07', '1959.06.13', '1948.03.00', '2002.07.10', '1898.00.00.f', '1984.09.22.b', '1958.00.00.j', '1990.01.12', '1974.01.09', '2001.04.12.c', '1997.07.14', '1986.02.06', '1993.06.00', '1982.10.13', '2011.01.03', '1950.06.06', 'ND.0039', '1852.12.19', '1962.11.10', '1997.12.28.b', '1864.05', '1844.07.16.R', '1946.02.16', '1862.08.02.R', '1958.07.00.b', '1966.12.27.b', '1967.09.01', '2013.07.17.R', '1935.05.19', '2014.10.31', '1988.01.05.R', '1917.12.15', '1965.10.16.a', '2001.10.02', '1894.12.11', '2003.12.08', '2014.08.09.R', '2016.07.16.a', '1959.11.12.R', '1958.00.00.b', '1932.01.06', '1986.10.00', '2017.05.28', '1972.06.26.a', '1989.08.29', '2007.08.09.a', '2017.07.31', '1908.09.21', '1967.09.07.b', '2016.05.02', '2014.08.02', '1937.11.06.R', '2005.12.11', 'ND.0110', '1909.03.06', '2008.12.27.a', '1914.05.31', '2013.06.25.c', '1904.02.04', '1951.07.11', '1893.05.23.R', '2011.07.19', '1936.03.04.', '2010.08.17', '1963.11.12', '1956.03.25', '2011.08.17.b.', '2009.01.00', '2018.02.17', '2013.05.27.b', '1960.01.30', '1947.07.00', '1971.01.02', '2008.04.28.a', '2017.11.30.a', '2009.12.29', '1984.09.23', '1905.07.02', '1933.06.13', '1907.10.08', '1995.06.13', '1975.12.29', '1898.07.15', '1961.07.16', '1878.02.13', '1936.01.05', '1937.11.13', '2014.06.09.b', '1970.07.05', '1965.06.00', '1926.09.06.R', '1543.00.00', '1960.12.27.a.', '1987.07.12.b', '1959.05.30', '1925.11.22', '2003.04.19', '2000.09.00.b', '1995.04.16', '1998.12.20.R', '1844.07.20.', '1995.12.18', '2009.08.25', '1881.08.12', '2001.04.11.c', '1888.02.17', '1893.00.00', '1985.01.17', '1957.10.23', '2017.09.02.a', '2017.04.02.a', '2013.08.11', '1928.05.17', '2006.06.30.a', '1961.06.01', '1886.08.00.c', '2009.05.25', '2009.07.24.R', '2006.07.12', 'ND.0055', '2001.04.13.b', '1862.08.15.R', '1988.02.15', '1966.05.16.b', '2009.07.22.a', '1953.07.26', '1987.01.28', '1990.08.19.b', '1968.09.15', '1805.09.00', '1993.02.18', '1963.01.04', '1700.00.00.b', '2000.06.19', '2014.07.05.b', '2006.01.18', '1993.07.07', '1856.02.06', '2014.08.29.a', '1892.05.19.R', '1863.09.13.R', '1958.06.24', '2008.04.26.a', '1991.07.18', '1891.08.30.R', '1976.01.12', '1879.11.10', '1977.03.13.a', '1957.02.02', '1990.08.30', '1819.07.08.R', '1967.07.29', '1912.00.00', '2000.07.04.a', '1882.09.00', '2004.06.10.a', '1970.09.00.c', '1962.08.29', '1972.12.08', '1923.07.02.R', '2001.04.28', '2005.10.15', '2013.02.21.b', '1994.03.07', '1975.06.23.b', '1962.06.03', 'ND.0030', '2012.09.06.a', '1986.08.10', '1941.11.27.a', '1960.09.02', '1997.06.02', '2014.07.05.a', '2015.07.27', '1959.12.28', '2018.01.28', '1638.00.00.R', '2013.09.01.b', '2018.05.00', '1937.11.11', '1931.08.01', '1887.02.08', '1874.01.09', '1961.00.00.d', '1983.08.20.b', '2009.11.11', '1934.09.08', '1920.01.24.R.b', '1907.02.03', '1938.00.00.a', '1847.07.19', '1962.01.27', '2002.05.13', '1953.09.27', '2006.06.20', '2009.01.25', '2006.03.22', '1963.11.30.a', '1982.08.29.b', '2000.07.22', '1882.01.05.R', '1963.01.26', '1996.04.07', '2013.09.07.b', '1953.00.00.a', '1916.07.12.a', '1984.10.21', '1969.10.14', '1894.07.15.R', '1960.05.19', '1965.04.29', '1986.08.03', '1997.05.17', '1984.07.24.b', '1977.08.14', '2015.03.29', '1996.01.22', '1934.01.27', '1913.09.03', '2003.01.03', '1956.10.20', '1893.07.03', '2009.03.02', '2015.06.30.b', '1871.00.00.b', '1960.10.02', '2017.08.26.a', '1922.05.24', '1904.07.28', '1921.07.21', '1906.08.20', '1950.05.01', '1991.12.04', '1960.11.00.c', '2008.03.21', '1957.07.24', '1893.04.04', '1959.01.27', '1797.05.28.R', '1976.10.06', '1994.07.08.a', '2013.04.13.a', '1864.01.27.R', '1971.09.05', 'ND.0009', '1874.04.20.R', '2013.09.29.a', '1946.12.24.R', '2009.06.27', '1960.05.01', '1827.06.00.b', '2013.11.12', '1965.04.04.b', '2016.07.15.a', '1888.07.20.R', '1964.02.14.a', '1916.11.15', '1941.11.27.b', '1959.03.29', '1902.11.01.R', '1966.01.10', '1902.08.24.R', '2013.08.17', '1939.00.00.a', '2018.04.19', '1870.05.26.R', '1995.00.00.d', 'ND.0058', '1812.07.00', '1957.00.00.a', '1904.00.00.a', '1885.04.09', '1999.09.10', '1985.12.10', '1907.10.14', '2008.01.29', '2009.04.20', '1960.05.24', '1966.11.14', '2001.05.03', '1955.07.25', '2000.10.29', '2007.03.14.R', '1968.12.29', '1907.09.11', '1928.09.00', '2010.12.26', '1900.09.13', '1958.12.28', '2009.12.06', '1996.02.04', '1997.11.05', '2010.09.21', 'ND.0028', '1890.08.08', '1937.07.06', '2011.07.07.a', '1959.10.04', '2006.03.28.R', '2014.08.10', '2006.09.16', '1974.08.16.a', '1896.00.00.a', '1900.07.14', '2016.03.02', '2001.08.31', '1910.12.23.R', '2014.06.17.R', '2007.09.28', '1989.06.03', '1910.00.00.a', '2002.09.27.c', '2012.07.30.b', '1937.06.15', '2008.06.21', '1826.08.15.R', '1997.10.04', '1968.11.04', '2012.11.04.b', '2013.07.19', '1951.08.00', '1941.02.13.', '1944.11.01', '2018.06.04', '1961.05.07', '1928.02.20', '2017.07.29.a', '2000.08.11', '1920.06.29', '1968.04.11.R', '1921.08.22', '1865.07.14.R', '2016.04.18.b', '1898.01.24', '1995.09.16', 'ND.0008', '1844.05.24', '2011.09.19', '2017.01.08.R', '1934.06.20', '1855.04.09.R', '2011.09.04.a', '1948.12.05', '1949.04.17', '2002.08.06.R', '1975.11.07', '2015.10.09.b', '1971.04.16R', '1961.01.06.c', '1996.11.18', '1869.04.10', '1995.08.22.c', '1973.12.19.R', '2014.06.25', '2015.03.11', '1952.03.30', '2011.09.04.b', '1989.01.20.b', '1936.12.12', '2017.05.30', '2008.07.00', '1995.10.21', '2003.11.22', '1987.10.06', '2010.04.13', '2011.06.21', '1957.11.08', '1957.01.05', '1975.03.13', '2000.09.15', '1835.02.21.R', '2012.08.31', '2001.08.05', '2013.10.28', '1983.07.12.b', '1966.07.14', '2013.08.31.a', '1979.05.03', '1960.04.12', '1943.07.00.a', '1959.09.26.b', '2005.09.20', '1886.08.00.a', '2005.03.19', '1960.04.00.a', '1972.04.16', '1964.05.30', '1881.06.25', '2009.12.26', '1955.08.04.R', '2005.10.19', '2001.09.30.b', '1909.11.14', '2005.09.02.b', '1982.11.00', '1884.08.18', '2004.04.26', '1998.08.27', '1870.05.18', '1928.11.18', '1942.00.00.h', '1791.00.00', '1948.12.27', '1913.01.00', '2008.09.01', '2003.10.05.c', '1922.06.17', '1999.09.04.b', '1985.07.19', '1992.11.23', '2005.10.03', '1987.04.01', '1964.10.31', '1996.02.26', '2017.06.19', '1986.09.22.R', '1983.01.24', '1965.09.12', '1909.06.18', '1942.05.09', '1971.04.05.b', '1943.11.11', '2015.05.09', '1957.06.21', '2016.08.07', '1919.01.09', '1901.07.30', '1986.11.19', '1917.11.00', '2018.02.23', '1977.11.12', '2005.10.11', '1964.01.00', '1913.03.27', 'ND.0004', '2006.09.30', '1956.03.11', '1981.02.02', '1995.06.30', '2008.10.12', '1989.01.26.a', '1852.07.28', '2003.09.13.b', '1984.08.07', '1942.00.00.i', '1975.04.05', '2008.07.25.b', '1967.11.15', '2013.06.15', '2009.03.19.a', '1953.04.00.b', '2008.05.01', '2002.11.14', '1996.09.02.a', '1976.06.02.R', '1956.08.20', '1956.07.17', 'ND-0122', '1993.01.23', '2004.07.15', '1960.04.01', '2010.08.02.a', '1970.01.23.c', '1937.07.16.R', '1966.09.08.b', '2012.07.30.a', '1961.04.16.a', '2000.05.07.a', '2011.06.14.R', '2008.07.23', '2015.07.03', '2009.09.26', '2012.10.19', '2006.08.20.a', '1964.06.28', '1906.04.27.R', '1963.02.27', '1897.10.05.R', '1921.11.27.a', '1964.03.00', '1943.03.21', '1994.12.13', '1960.11.27', '1961.12.13', '1950.00.00.i', '2011.06.26', '1944.10.25.b', '2006.07.17.R', '1974.08.16.b', '1943.09.23', '2006.06.18', '1989.07.14', '1963.12.22.b', '2013.09.08', '1962.01.01', '1932.04.16.b', '2001.11.07', '1952.00.00.c', '2008.08.22', 'ND-0152', '1945.00.00.b', '2010.06.15', '1963.10.16', '1800.00.00', '1999.08.05', '2012.04.11', '1998.11.14', '2016.12.11.a', 'ND.0047', '2017.12.21', '1960.07.27', '1997.05.31.a', '2007.07.29', '1907.08.08.R', '2014.01.25', 'ND.0088', 'ND.0027', '1970.09.00.a', '2007.06.12', '2001.07.15.a', '2012.08.15', '1916.07.12.b', '1953.07.04', '1909.04.10', '1939.00.00.d', '1928.00.00', '1988.04.14.b', '2005.08.01', '1982.02.07..b', '1997.08.27', '1981.01.01', '2002.06.09.a', '2013.05.14', '2012.04.00', '1961.09.24.a', '1849.12.01', '2012.05.12', '1959.08.10', '1919.01.05', '2000.10.06.b', '1985.00.00.a', '1962.08.01', '2001.07.26', '1988.06.09', '1863.00.00.R', '1988.09.13.a', '2006.01.11', '1967.07.05', '1946.00.00.a', '2013.03.12', '2010.03.27', '2006.12.10', '2004.03.31.b', '1888.12.00', '1985.05.08', '1999.11.23', '2017.11.13', '1862.12.19.R', 'ND-0127', '1985.08.17', '1940.12.19.R', '1960.11.11', '1986.00.00', '1890.00.00.e', '1979.03.00', '2015.12.25', '1926.10.29.R', '2017.11.18', '1955.09.23.b', '2008.02.24', '2001.04.08.a', '1941.01.00', '2013.11.10', '1948.09.19.a', '1894.09.12.R', '2004.09.20', '2012.07.23', '1915.12.09.R', '2012.11.30', '2018.04.15.d', '2006.07.09.a', '2005.08.24.b', '1974.04.12', '1961.01.25', '1996.03.05', '1951.09.03.R', '2008.01.10', '1926.00.00.b', '1969.02.17.R', '1983.04.12', '1929.03.04.b', '1969.08.02', '1878.03.30.R', '1862.07.25', '2011.05.10', '2017.11.13.R', '2008.09.06.b', '1983.06.20', '1974.04.04', '2000.04.09', '2017.12.30', '1960.11.22', '1989.11.02', '2001.11.23', '1959.11.10', '1961.05.17', '1920.11.22', '2013.01.05', '1932.00.00', '2002.09.27.b', '1931.00.00.b', '2015.08.19', '1895.09.18', '1964.11.29', '1902.06.00', '1880.00.00.e', '1985.03.16', '1944.10.26.a', '1862.07.14', '2015.09.19', '2000.07.02.a', '1992.04.09', '1968.04.29', '1935.06.00.b', '2016.08.25', '2016.06.27', '2013.09.21.a', '2005.08.22', '1914.03.14.R', '1962.08.31.R', '1955.01.17', '1988.04.15.b', '1940.02.04', '1997.01.01', '1952.07.27.d', '2010.02.03', '1871.05.22.R', '1898.07.26.R', '2006.06.30.b', '1996.06.06', '1866.04.24.R', '2014.10.18', '2012.07.06', '2008.09.08', '1942.06.00', '1940.07.13.a', '1958.00.00.e', '2016.10.14', '2018.05.13.b', '1642.00.00', '2012.06.02.b', '1979.10.22', '1943.05.27', '2000.07.17', '1951.03.24', '2016.03.10', '2014.06.07', '1872.11.24', '1995.01.24', '1994.03.01', '1988.02.02', '1934.03.00', '1959.08.15.b', '2001.06.10', '1930.08.16', '1946.01.24.a', '1989.10.22', '2010.02.15', '2014.11.19', '1997.07.27', '1926.07.12', '1969.05.14', '1959.01.12', '2003.09.14.b', '1955.12.31', '2014.02.07', '1956.10.00', '2018.04.05', '1935.01.24.a', '2011.07.13.a', '2012.01.18.a', '1898.09.07.R', '2010.11.30.a', '1921.08.28', '1989.10.01', '2012.12.28', '1983.12.22', '2002.09.09', '2004.11.15', '1918.11.00.a', '1963.07.00', '2012.01.13', 'ND.0063', '1932.04.16.a', '1965.07.02.R', '2006.05.02', '1965.06.18', '1997.06.09', '1880.05.15', '1991.10.12', '1968.07.16', '2010.10.25', '1894.06.29', '1961.08.20', '2012.07.14', '1959.07.28', '1966.06.22', '2005.03.28', '1958.02.01', '1975.03.29', '2001.06.09', '1994.09.21', 'ND-0107', '1937.03.26', '2012.08.04', '2005.05.02.R', '1906.09.00', '2016.07.28.R', '2007.07.28', '2013.04.10', '1964.03.28.a', '1961.10.09', '2005.11.25.a', '2001.05.08', '1849.06.08.b', '1991.04.16.b', '1962.01.11.b', '1888.12.25.R', '1958.07.04.b', '1993.01.05', '1981.09.03.b', '2000.03.03.R', '2008.11.25', '1897.12.04.R', '1860.03.11', '1941.12.07', '1993.12.00', '1937.09.12', '1952.05.07.R', '1935.09.21', '1953.03.22', '2010.07.16.b', '2012.06.14.b', '1924.04.25', '1987.00.00.a', '1849.06.08.a', '1926.07.03', '1875.11.27.R', '2013.03.16.a', '1920.07.14', '2011.08.15', '1874.06.15.a.R', '2011.02.04.R', '1926.04.22', '2013.08.25', '2014.08.01', '1992.07.08.b', '1832.01.23.R', '1875.00.00', '2003.07.04', '1968.12.02', '1996.12.29', '1830.04.30', '2008.08.11', '2009.01.10.a', '1969.03.09', '2005.09.04.a', '2015.07.31', '2013.11.07.a', '1885.11.26', '1925.01.08', '1916.07.01', '1962.02.02', '2012.08.11', '2001.09.15.a', 'ND-0119', '1993.06.29', '1958.08.31', '2011.07.06', '1960.00.00.c', '2003.06.22', '1954.06.27', '1891.01.08.R', '1942.11.13.c', '1994.04.16', '1953.10.00', '1988.10.11', '1961.12.27', '1934.10.08', '1931.07.28.R', '1961.11.14', '2017.10.31.R', '2009.06.02.a', '1929.04.09', '1996.10.03.b', '1786.08.10.R', '1999.03.14.a', '1993.08.19', '1903.03.12', '2008.02.15', '2017.05.06', '2017.08.27', '2005.01.14', '1935.03.09', '1981.06.12', '2011.03.16', '2007.05.17.R', '1884.04.38.R', '1955.08.26', '2006.02.13', '1938.03.08', '1993.08.12', '1997.08.09', '1990.11.01', '2016.05.22', '1966.05.16.a', '2018.04.25.b', '2000.12.24', '1785.09.26.R', '1949.00.00.g', '2018.04.25.a', '2017.08.23', '1945.08.06', '1885.08.17', '1959.07.00.b', '1964.07.00.a', 'ND.0043', '1997.12.28.a', '1911.01.04', '2013.04.24', '1928.02.00.a', '1930.01.00', '1882.11.12.a', '1960.04.22', '1958.10.00.b', '1994.00.00.a', '2015.12.13', '2002.04.21', '2008.04.20.a', '1895.08.11', '2010.06.25.a', '2012.03.22', '1882.00.00.b', '1996.10.00', '1943.05.14', '1860.03.27', 'ND-0115', '2015.07.19', '1936.08.04', '1981.07.01', '1949.11.20', '0005.00.00', '1954.07.01.R', '1989.12.19', '1968.09.22', '1954.00.00.b', '1995.06.16', '1955.02.01.', '1989.01.03', '1911.04.08.R', '1899.08.23.R', '1971.06.30', '1946.03.20', '2014.09.13.R', '1991.02.12', '1982.02.17', '2006.06.17', '2003.04.09', '2008.06.24', '1936.08.00', '2016.01.23', '2014.08.00', '1950.10.08', '1922.03.20', '2008.01.30', '2013.08.29', '1953.12.22', '1911.03.29.R', '1984.11.08', '2015.03.16', '2004.01.03.b', '1826.05.20.R', '1922.03.02', '1943.10.26', '2017.04.22', '2001.04.05', '2018.04.23', '1994.05.28', '1934.10.09', '1988.02.12', '2008.00.00.a', '1951.12.16', '1942.11.00.a', '1858.03.14', '1864.07.25', '1999.08.23', '1982.05.00', '2017.05.06.R', '1981.07.07', '2007.04.20', '1960.04.00.c', '1886.03.06.R', '1965.01.16', '1994.01.09', '1962.00.00.b', '1988.07.17', '2017.07.09', '1994.02.00', '1995.02.19', '2013.10.31', '2008.12.06', '1995.07.28.e', '1972.05.06', '1949.08.10.R', '1954.10.06', '1942.00.00.f', '1924.03.28.R', '1916.06.24.R', '1921.08.29.R', '1973.12.00', '1935.01.21.R', 'ND.0001', '1974.09.02.b', '1954.06.29', '1960.03.28', '1867.08.22.R', '2015.06.24.b', '1965.00.00.g', '1967.08.14.R', '2017.06.17', '1973.11.03', '1989.00.00.a', '2011.10.10', '2003.10.31.b', '2007.02.03', '1959.07.23.a', '2006.12.02', '1987.06.13', '1959.00.00.a', '2005.05.03', '1966.08.21.a', '2003.05.10', '1912.01.01', '2015.05.15', '2015.04.13', '1991.04.16.a', '2003.01.17', '1951.02.03', '1964.02.00.b', '1950.11.12', '1985.01.16', '2016.03.28.b', '1942.06.04', '1979.03.01', '2011.01.12.R', '2016.07.15.b', '1960.06.27.a', '1912.03.18', '2012.01.15', '1957.00.00.f', '1898.08.22', '1919.11.18', '1964.03.05', '2014.05.06', '2016.06.15.a', '1892.03.02', '2007.06.17', '1970.01.09.R', '1895.05.21', '1958.09.01', '2011.09.02', '1929.00.00.e.R', '1987.01.06', '2011.12.02', 'ND.0034', '1939.11.02.R', '2004.05.23.b', '2008.07.18', '2000.02.14', '2015.01.01', '1993.00.00.d', '2017.09.02.b', '1961.02.01.a', '1948.08.19', '1994.12.09.a', '1939.09.27.R', '2008.09.09', '1955.12.11', '2007.08.07', '2005.02.13', '1994.11.06.a', '1909.12.05', '2002.09.30', '2005.07.01', '2000.03.26', '1996.03.00', '1951.08.16.R', '1957.02.00', '1949.03.00', '1939.12.28', '2004.05.23.a', '1989.01.08', '1978.01.06', '1976.01.11', '1952.07.13', '1977.06.26', '1981.03.25', '1917.05.05', '1965.01.09', '2016.02.10', '1929.00.00.b', '1927.03.01', '1962.04.09', '2008.08.12', '2013.07.22', '2014.09.13', '2017.07.23.b', '1937.02.02', '1981.05.10', '2009.07.31', '1985.11.11', '1957.04.07.a', '1958.00.00.f', '2017.04.05', '1835.01.06', '1995.09.17', '1956.08.01', '1874.07.15', '2016.04.07.b', '1832.06.04', '1923.11.02', '2001.07.06.a', '1881.00.00.b', '2011.12.07.a', '1903.01.10', '2005.08.19', '1985.10.05', '1962.02.23', '1928.01.21.a', '1952.08.05', '1977.10.30', '2015.09.01', '2008.09.28.b', '1941.06.00', '1970.10.00', '1956.07.28', '1930.09.12.R', '2005.11.20', '1998.03.15', '1962.11.11', '1996.02.19.R', '1979.12.00', '2004.11.11.a', '1983.06.22', '2017.08.18', '2004.03.24', '2008.06.26.R', '1959.12.19.b', '1965.11.21.b', '1955.01.15', '2017.12.31', '1964.08.08', '1934.10.02', '1952.04.06', '2007.07.10', '1943.03.02.a', '1959.05.00', '1989.08.06.R', '2014.06.09.c', '2003.07.09', '1990.09.05', '1989.03.04', '1996.02.10.a', '2000.00.00', '2002.06.20.b', '2009.04.12', 'ND-0111', '1998.09.14', '1968.00.00.a', '1904.08.00', '1890.02.25', '2002.05.22.a', '1966.01.08', '1978.11.26', '1878.09.14.R', '1949.04.18', '1983.01.08', '1965.00.00.f', '1983.06.00', '1895.06.13.R', '1963.01.11', '1967.01.06', '2006.07.17', '1979.04.08.a', '2011.09.16', '2002.10.03', '2013.10.24', '1997.10.11.R', '1998.00.00.a', '1963.04.08', '2014.05.04', 'ND.0017', '2013.08.18', '1900.07.31', '2002.04.09', 'ND.0025', '1987.08.20', '1964.08.21', '1918.03.22', '2002.09.05', '1895.03.29.R', '2015.05.03', '2002.07.04', '1948.04.10', '1990.08.28', '1964.01.01.a', '2013.04.28', '1938.07.17.R', '1962.08.23', '2011.04.26', '2005.03.09', '1942.00.00.b', '2015.01.03', '1960.10.00.a', '1934.08.26', '2001.08.19.c', '2015.07.25', '2011.04.08', '1949.06.13', '1943.05.17.a', '1877.04.07', '1924.04.22', '1997.02.21', '1985.10.22', '2015.01.27', '1950.12.19.R', '1910.11.28', '2007.05.07.a', '1954.07.15', '2007.07.18.b', '2016.07.23.b', '1958.06.02.R', '1990.06.24', '1862.05.05', '2013.04.17', '1960.04.24', '1947.06.16', '2007.07.04', '2011.02.12', '1959.04.11', '2008.07.11', '1958.11.07.R', '1879.08.30.R', '1953.03.00.a', '2008.12.27.d', '1958.08.01', '1941.07.01', '1899.08.08.b', '2016.06.21.a', '1961.02.17.a', '2011.12.21.a', '1935.09.04.R', '1846.09.30.R', '1874.11.21', '2017.06.02', '1941.08.01', '1884.01.14', '1896.06.21.R', '2005.11.29.R', '1935.11.13', '1960.01.26', '2015.01.30', '1981.10.17', '1944.02.27', '1861.11.10', '1895.04.29', '1947.11.14.a', '2007.01.05', '1957.04.22', '1954.10.02.b', '1997.04.20', '1811.03.01', '1935.04.25', '2016.08.04', '2015.02.05', '2009.09.12', '2002.03.24', '1963.11.14', '1878.11.17', '1998.06.28.a', '2005.09.27.R', '2017.10.26', '1868.01.04.R', '2011.12.23', '1999.09.05', '1909.12.26.R', '1999.06.12', '1889.07.08', '2002.08.14', '2012.03.31', '2014.06.18.a', '2004.01.03.a', '2004.10.02', '1932.02.13', '2016.12.01', '2009.10.09', '2000.11.21', '2011.10.29.', '1980.11.24', '1968.12.25', '1924.11.24', '2012.06.26.b', '1975.12.02', '1928.04.14.R', '2015.09.18', '1991.11.26.b', '2001.09.15.b', '1959.09.00', '1973.09.14', '1957.12.20', '2010.12.11', '0500.00.00', '2004.08.03', '2016.09.15', '1953.00.00.b', '1931.01.14', '2014.07.03', '1949.00.00.e', '2012.10.30', '2016.09.11', '2017.09.25.a', '1970.09.13', '1981.09.03.a', '1950.01.16', '2008.12.27.c', '2004.10.10', '1907.00.00.b', '2008.04.28.b', '1945.00.00.a', '1964.11.05', '1955.03.00.b', '1922.01.13', '2003.02.15.a', '1995.08.01', '1864.08.00', '1994.04.15', '2002.09.29', '2008.11.28', '2018.01.12', '1956.09.00.b', '1982.07.00', '1905.08.00.a', '2015.12.11', '2014.07.22', '2010.02.06.b', '2000.02.21', '1971.03.30', '1982.02.13', '1948.03.11', '1875.08.10', '1977.07.02', '1986.10.01', '2010.07.04', '1941.00.00.a', '2006.02.01.b', '1970.06.00', '1941.09.25', '2013.02.01', '2009.04.19', '1995.07.24', '1969.06.12', '2007.06.25', '2001.04.12.d', '1947.03.12', '2015.05.29.a', '2006.11.09', '1886.03.00', '1980.03.15', '1817.02.22', '1886.00.00', '1997.08.02.a', '1923.12.02', '1963.01.30', '1909.12.15.R', '1988.05.04', '1905.00.00.b', '2004.02.29', '2001.04.08.b', '1980.07.27', '2004.02.16', '1982.07.19', '1959.11.01', '1960.02.10.', '1891.08.29', '2007.09.03.b', '2008.01.14', '1961.01.06.a', '2014.04.03', '1946.08.18', '1998.01.25.a', '2006.08.22.b', '2007.05.24', '1980.01.10', '2008.07.30', '2017.06.21', '1932.02.16', '1999.01.03.R', '1994.10.08', '1925.05.00', '1898.00.00.R', '1962.08.26', '2004.05.04', '2011.10.20', '1960.08.22.R.', '1925.11.00.a', '2017.10.09', '1912.08.30', '1939.11.09', '1975.05.25', '2012.09.04', '1980.03.29', '1990.05.10', '1817.05.11', '1991.08.12', '2017.05.03', '1991.07.01.b', '1910.05.16.R', '2000.12.03', '1995.02.00', '2010.02.19', '2006.01.28.R', '2017.07.14.b', '1899.08.08.c', '1960.04.10', '2006.06.26', '1848.07.17.R', '2011.10.01', '1989.10.08', '2003.10.31.c', '1956.00.00.a', '1957.12.23', '1920.00.00.b', '0077.00.00', '1967.06.13', '0000.0493', '1940.01.29', '1947.04.00', '1961.03.09', '1962.12.09', '2011.11.20.R', '1964.02.01', '1960.07.02.a', '2013.08.26', '1964.02.00.a', '2015.08.22.b', '1962.06.11.a', '1960.11.00.d', '2012.04.19.a', '1963.09.13', '1900.01.28', '2015.07.23.b', '1931.03.06', '1980.00.00.b', '1949.00.00.a', '2006.01.04', '2004.11.11.b', '1995.03.11', '2010.10.30', '2003.02.08', '2003.04.11', '1964.09.27', '1950.11.25', '2015.06.19', '1995.06.17.a', '1992.03.08.b', '1933.05.03', '1941.02.01', '1849.01.27', '1996.07.04.b', '2013.05.04.a', '2015.09.08', '2001.03.03', '1956.12.15.R', '1902.12.22.R', '1930.05.27', '2011.05.30', '1911.09.20', '1922.03.13', '2013.08.25.b', '2014.05.11', '1979.08.03', '2001.08.04', '1958.04.05', '1884.08.28.R.', '1894.06.15.a.R', '1934.06.21', '1970.12.07', '2002.07.09.b', '1999.10.30.a', '1961.01.22', '1951.05.22', '2004.03.16', '2004.11.00', '2003.12.13.a', '1975.07.30.a', '1864.04.09', '1870.06.01', '1975.04.25', '1962.02.15', '1993.06.09', '1929.03.16', '1998.00.00.c', '2012.10.27', '1980.06.26', '2015.10.05.a', '1975.10.12', '1919.03.16', '1933.04.10', '1919.04.06', '2011.09.24.b', '1901.10.00', '1955.08.00.a', '1847.00.00.c', '2013.07.28.b', '1831.01.22.R', '1892.11.06', '1956.06.28', '2004.11.27', '1980.00.00.a', '1982.06.29', '2011.10.28.', '2011.03.23', '2012.06.18', '1874.06.15.b.R', '2018.02.24', '2017.06.07.R', '1862.06.03', '1962.05.29', '1956.05.26.R', '2016.01.11.R', '1986.08.00', '2015.06.11', '1962.08.19', '2015.10.28.a', '1995.08.10.b', '1905.03.26', '2015.08.22.a', '1942.12.26', '1890.03.03.R', '1950.00.00.k', '1977.04.21', '1995.08.31.a', '1998.05.25', '1942.08.08', '1978.10.21', '1905.05.22', '2009.03.06', '1989.07.07', '1993.02.19', '1986.12.00', '1972.10.21', '1885.07.26.b', '1981.12.13.b', '2015.02.09', '1976.03.09', '1975.07.19', '2006.04.19', '1943.03.02.b', '2004.02.14', '1994.11.25.a', '2006.07.13', '1981.03.08', '2008.05.07.b', '2000.07.00', '1974.01.07.b', '1945.07.00', '2010.10.23.b', '1956.09.13', '2002.09.16.a', '1950.00.00.a', '2006.08.13', '1924.11.21', '1982.09.19', 'ND.0062', '1940.01.23', 'ND-0130', '2004.01.22', '1988.07.00', '2000.07.04.b', 'ND.0059', '2010.05.18.a', '1899.11.20', '1961.09.23', '1846.12.08', '2014.03.21', '2012.06.14.a', '1976.01.13', '2016.07.20', '1950.00.00.c', '2009.12.13', '1967.08.00.b', '1965.00.00.a', '2016.12.27', '1957.04.07.b', '1971.12.23', '1927.12.28', '2007.12.10', '1965.05.00.c', '2005.09.24', '2002.06.11.a', '1975.04.18', '1955.07.15', '1941.06.15', '2009.04.25.R', '1998.04.01', '1897.10.15', '1936.04.08', '1980.12.30', '1943.06.16', '1937.08.02', '1986.11.04', '2008.03.15', '2014.08.27.a', '1967.08.25', '1985.07.00', '2012.09.08.b', '2013.06.06.b', '2009.07.22.b', '2015.03.26', '1898.00.00.a', 'ND-0124', '1957.08.00', '1966.01.09', 'ND-0118', '2003.08.29', '1881.08.16.R', '1976.12.18', '2011.06.06.b', '1956.02.26', '1995.11.25.b', '1864.09.00', '1921.01.11.R', '1931.01.07', '1954.01.22.b', '2016.07.26', '1954.00.00.c', '1905.07.00', '1806.04.24', '2013.07.15', '1959.07.23.b', '1963.11.04', '1977.08.19', '2005.06.27', '2004.09.25', '1988.12.15', '1876.06.04.R', '1978.04.02.a', '1957.12.31', '2012.09.09', '2000.07.07', '1962.08.00.b', '2014.05.10.R', '1934.03.12', '2003.07.05.a', '1987.05.08', '1990.04.09', '1953.09.03.R', '1996.09.18', '2014.11.17', '1940.00.00.f', '1873.01.09.R', '1968.04.20', '1965.06.19', '1959.07.25.a', '1937.09.26.R', '1580.01.10.R', '1961.03.30', '1949.12.00.a', '1939.12.14', '1992.12.23', '2008.09.00', '2014.08.12', '2001.04.02.a', '2015.03.10', '2017.11.25.R', '1981.09.27', '2014.10.20', '1981.05.23', '1937.10.24.c', '1996.04.25.a', '2000.09.08.b', '1954.07.03', '1868.01.17', '1957.07.15', '1886.04.11', '2014.03.18', '2005.08.24.a', '1959.07.00.a', '1953.01.20', '1959.07.02', '1915.01.13', '2012.02.06', '1928.04.06', '1981.10.19.a', '2006.07.31.a', '1998.08.23.R', '1703.03.26', '1955.02.04', '1910.11.24', '2017.08.26.b', '2014.04.12', '2012.09.24', '1980.03.28', '1880.05.02.b', '1903.07.00', '1907.03.07', '1997.01.03.a', 'ND.0087', '1913.07.10.R', '1957.05.07', 'ND-0123', '1951.09.29', '1971.11.27', '2005.11.25.b', '1935.03.30', '1981.09.15', '1988.04.15a', '1902.01.25.R', '1945.06.15', '2002.11.11', '1965.10.00', '1998.11.21', '2011.08.16.c', '1942.10.12', '1944.10.24', '1855.09.30', '1929.01.14', 'ND.0051', '1869.04.15.R', '1955.00.00.e', '1958.12.13', '1927.04.08', 'ND.0097', '2002.09.21.a', '1988.03.14', '2008.07.09', '1945.02.05', '1992.03.28', '2003.11.00', '1999.02.03', '1960.03.31', '2001.01.24', '1980.01.15', '1995.05.12', '1976.07.24', '1995.10.11', '1952.00.00.e', '1951.02.01', '1929.09.01', '1963.04.17', '1910.00.00.b', '1960.09.24', '2012.03.04', '1996.02.10.c', '1989.11.12', '2014.10.05.b', '1988.07.04.a', '2001.09.02', '2002.01.01.b', '1929.00.00.a', '2008.03.23', '2014.08.31', '2015.07.26.a', '1980.04.00', '1974.01.07.a', '2011.03.21.a', '1925.01.27.R', '1776.00.00.b', 'ND.0042', '1956.08.15.R', '2016.02.10.R', '2014.07.12', '2015.10.17.a', '2008.05.10', '1962.06.25', '1954.00.00.e', '2011.12.11', '1895.03.15', '1974.08.05', '1972.12.26', '2011.11.12', '1940.02.20', '1900.00.00.b', '1911.07.16.R', '2009.11.05', '2004.02.11', '1955.03.00.a', '1931.09.21.a', '1973.01.09', '2004.04.13.a', '1897.07.21', '1908.06.08', '1998.07.25', '1956.10.07', '1960.01.16', '1873.07.28', '1975.08.09', '1931.08.31', '2007.09.08', '1960.00.00.d', '1916.07.26', '1981.08.07', '2016.07.16.b', '2010.04.19', '1841.03.27', '2010.10.22', '1927.05.09.R', '1997.06.15', '2005.07.13', '1920.01.24.R.a', '2017.04.20', '1936.07.25', '1969.00.00', '1895.08.02', '1955.09.23.a', '1999.11.00.a', '1924.11.25', '1948.00.00.b', '1954.12.11', '1911.10.26', '1965.06.00.b', '2014.08.24', '1893.04.15', '1999.07.21', '2008.07.27', '1954.07.04.R', '2013.01.13', '2016.07.23.a', '2012.03.20', '1863.00.00.R4', '1928.04.14', '2000.09.10.b', '1940.02.22', '2012.05.16', '1925.03.27', '2017.04.11', '1945.05.08', '2000.03.10', '2018.03.14', '1947.02.00', '2007.08.11', '1956.08.00.e', '2008.03.28.a', '2016.04.19', '1959.09.10.R', '1995.09.30.b', '2005.04.16.b', '1960.00.00.b', '1975.00.00.b', '2017.02.01.a', '1971.04.11', '2017.09.13', '2011.06.24', '1845.09.10.R', '1933.07.07.R', '2016.07.08.R', '2009.04.06.a', '2004.04.04', '2012.09.02.b', '1808.02.07.R', '2000.03.14', '2017.06.29', '1960.11.06', '1950.04.09.b', '2009.05.12', '1853.11.08', '1980.00.00.d', '2010.01.09.b', '1971.00.00.c', '1989.06.05', '1933.05.24', '1913.12.26.R', '2009.07.30', '1960.10.00.d', '1876.10.13.R', '2010.10.20', '1985.09.08.a', '1937.00.00', '1973.03.26', 'ND-0150', '2000.09.08.a', '1961.09.07', '2007.01.23', '1983.07.12.a', '1968.03.00', '1971.00.00.b', '2003.11.06.b', '1998.12.18', '1929.02.18', '1940.12.10', '2006.04.09.b', '1792.09.12', '1963.08.00', '1956.08.00.b', '1990.03.24', '1988.09.28', '1929.05.31', '1923.06.06', '1967.03.19', '1965.11.03.b', '2017.10.23.c', '2014.08.16', '2005.11.15', '1981.08.24.b', '1895.09.14.R', '2007.06.30.b', '1958.00.00.i', '2017.07.20.a', '1995.08.10.a', '1955.00.00.b', '2016.10.15', '1898.06.22', '1998.07.06.a', '2009.01.13.R', '2005.03.25', '1974.09.14', '1994.07.08.b', '1860.08.01', '2008.09.28.a', '1958.10.05', '1902.08.08', '1961.07.00.a', '1895.06.03.R', '1911.05.01', '1989.02.15', '1939.07.14', '2010.07.17.a', '1998.05.30', '2002.04.20', '1965.05.00.a', '2010.08.07.b', '1984.00.00.b', '1958.06.17', '1900.09.05', '1965.00.00.b', '1955.10.16', '2012.09.16', '1949.08.17', '1700.00.00.a', '2017.09.25.b', '1900.07.00', '1988.00.00.c', '1989.03.09', '2015.07.04.b', '1942.09.11', '1899.06.02', '1979.04.08.b', '1899.06.07', '1971.07.26', '1976.03.02', '1966.08.27.b', '1927.00.00.a', '2014.10.30', '1971.04.05.a', '2008.08.30.c', '2003.09.14.c', '1976.09.12.b', '1958.06.15', 'ND.0024', '1964.04.07', '1958.01.19', '2018.06.03.b', '2007.07.18.a', '1986.09.00.b', '1987.10.25', '2004.08.29', '1940.00.00.a', '1907.04.20', '1919.01.15', '1981.11.09', '1899.08.08.a', '1931.07.15', '1981.08.24.a', '2016.06.25', '1996.07.23.a', '2018.05.26.a', '1965.00.00.e', '1962.09.22', '1964.08.00', '1907.12.21', '2014.08.09', '1968.08.24', '1953.07.16', '2009.11.08', '1992.01.29.b', '1995.05.18', '1980.10.27', '1960.00.00.e', '1923.05.22', '1758.00.00', '2015.03.07', '2005.04.25', '2000.11.06.b', '1947.10.28', '1997.08.11.b', '2013.12.13', '1916.07.06', '1990.03.05', '1905.12.31', '1999.08.26', '1976.11.06', '2001.09.01', '1944.07.22', '1881.10.16', 'ND-0129', '2014.03.18.b', '1937.02.04', '1555.00.00', '1852.01.22', '2016.06.23', '1837.00.00.a', '2011.07.05', '1922.10.29', 'ND.0038', '2015.09.29', '2010.05.03', '1865.09.02', '1999.10.20', '2007.04.01', '1975.02.01', '1924.02.13', '1978.02.19', '2012.02.20', '1914.02.09.R', '1891.09.14.R', '2015.01.17', '2008.09.15', '2014.07.09', '1920.07.05.R', '2000.03.15', '2017.07.24', '2016.09.04', '1902.02.22.R', '2002.02.07', '2000.07.16.b', '2009.11.13', 'ND.0031', '1930.12.25', '1877.02.17.R', '1954.00.00 f', '2010.01.09.d', '1949.07.25', '1956.08.15.b', '2006.07.29.a', '1906.10.10.b.R', '2003.06.00', '2006.10.16', '2004.05.28', '1992.01.08', '2016.07.14.R', '1995.08.26/b', '2002.05.21.R', '1972.10.10.R', '1966.01.11', '2003.10.14', '1948.02.12', '1940.03.31', '2012.10.18.b', '1995.07.00', '2003.09.29', '1925.09.04', '1963.12.20.b', '1996.09.06.b', '2013.03.10.b', '1970.11.00', '2006.09.14', '1998.07.26', '2009.10.19', '2016.09.17.b', '2012.06.22.a', '1916.07.08', '1969.03.25', '1936.07.07', '1900.00.00.R', '1984.07.22', '1980.03.11', '1928.07.00', '1995.06.24', '2007.03.11', '2008.11.06', '1982.08.29.c', '1913.12.30.R', '1994.12.10', '2012.12.02', '1828.09.28', '1941.11.24', '2001.08.16', '1933.08.26.R', '1964.06.02', '1955.07.07', '1998.06.22', '2017.01.24', '1938.01.21', '2013.10.26.a', '1965.05.29', '1878.09.02.b', '1945.03.06', '1997.08.11.a', '1977.05.16', '1982.00.00.b', '1969.11.05', '1961.09.06', '1966.01.15', '1954.02.27', '1967.12.30', '2017.06.14.R', '1964.01.27', '1637.00.00.R', '1931.06.14', '1968.07.23', '1881.11.13', '1954.08.12.b', '2012.02.26', '1964.05.08', '2015.06.13', '1870.06.19', '1948.09.19.b', '1896.11.29', '2001.08.03', '1951.05.09.R', '1994.07.09.b', '1883.00.00.b', '1995.09.11', '2017.09.03.a', '1963.00.00.a', '2010.09.24', '2003.06.24.b', '1952.01.23', '1973.12.21.b', '2013.04.21', '1948.12.14.b', '2011.11.22', '1967.06.00', '1983.12.24', '1893.01.30.R', '2010.07.17.b', '2016.12.14', '1983.05.21', '2012.10.23', '1962.00.00.c', '2005.06.21', '1999.10.01', '1984.11.04', '2007.08.22', '1976.06.23', '2000.09.10.a', '1991.07.01.a', '2007.03.31.b', '2008.06.28.c', '1901.12.01', '1982.02.28', '2006.09.29', '1944.05.04', '2015.09.20.b', '2011.02.13', '1967.03.20', '1983.12.21', '1961.07.07.b', '1956.01.16', '1886.01.01', '2016.04.13', '1992.11.11', '2012.04.19.b', '1966.07.19', '1852.08.00', '2016.07.07.a', '2000.03.00', '2010.02.16', '2014.06.18.b', '2016.02.22', '2003.10.05.b', '2016.01.25', '1902.01.19.R', '1905.09.29', '1980.08.22.R', '2017.06.11', '1788.05.10', '1981.02.00', '2006.07.08.b', '1901.06.24', '1940.00.00.c', '1989.09.09.a', '1997.09.08', '2008.04.08.R', '2011.09.17', '2010.08.08', '1898.00.00.d', '2005.02.22', '1993.11.28', '1938.05.15', 'ND-0133', '2014.09.06', '1927.04.10', '1997.08.04', '1986.09.00.a', '1912.07.06.R', '1994.09.26', '2014.07.13', '2014.02.17', '1963.05.14', '2010.11.15', '1997.06.07', '1952.12.07', '1882.04.15', '1982.07.31', '1878.08.08', '1958.09.13', '1989.07.27', '1883.02.26.R', '2010.12.05', '1957.11.04.R', '1954.05.26.R', '1976.09.06', '1998.11.05', '1959.00.00.d', '1839.11.17', '1880.01.03', '2011.05.25', '1920.02.03', '1965.09.21', '1989.06.29', '1852.02.26', '2001.09.03.a', '1895.00.00.b', '1964.12.25', '1849.12.09', '2007.12.19', '2012.03.05', '1961.08.02', '1936.08.11', '2005.02.16', '2013.09.29.b', '2018.05.24', '1989.01.20.a', '1996.00.00.b', '2014.12.15', '1968.06.00', '2004.05.18', '1960.08.24', '1946.01.05', '1957.07.09', '2010.01.05', '1970.00.00.e', '1958.07.01', '1929.02.08', '1617.00.00.R', '1858.08.17', '1924.07.14', '1969.06.00', '1971.07.19', '2017.04.13', '2013.07.11', '2001.09.03.b', '1978.06.21.a', '1909.01.17', '1991.06.28', '1996.10.03.a', '1981.12.19', '2015.06.25', '2008.04.26.b', '1941.00.00.e', '1957.00.00.e', '1898.00.00.e', 'ND-0154', '1989.09.09.b', '2005.07.17.b', '1852.10.23.R', '2010.10.28', '2005.07.15.R', '1975.10.04', '1991.01.09', '1948.03.13.R', '2015.09.17', '2000.09.16.a', '1990.07.22', '1970.00.00.c', '2005.04.06', '2003.04.25', '2006.08.00.a', '2002.03.03', '1993.11.21', '1959.04.05', '1979.11.27', '1906.09.27.R.b', '2016.08.06', '2000.07.15.b', '1883.10.19.R', '2004.03.29', '1908.05.10', '1940.01.01', '2007.10.07', '2010.01.30', '2006.04.09.a', '1901.09.23.R', '1961.07.29', '2002.06.11.b', '1937.10.27.b', '2012.06.19', '1959.09.30', '1963.11.30.b', '1932.12.09.R', '1974.07.02', '1890.00.00.d', '1995.10.28.R', '1960.02.24', '1946.01.01', '1924.10.18', '2006.06.05', '2003.04.26', '1888.02.00', '2010.06.27', 'ND.0053', '1958.10.12', '1933.07.03', '2013.07.29.c', '1977.05.26', '1959.05.03', '2014.10.02.a', '2001.01.24.R', '1960.04.03.b', '1975.11.02', '2014.11.10', '1980.00.00.c', '1949.11.12', '1975.01.19', '2001.05.18', '1978.09.16', '1959.10.02', '1922.12.05', '1997.10.24', '1962.07.19', '1994.10.18', '1973.02.27', '1993.08.21', 'ND-0148', '1912.02.03', '1961.01.01', '1962.01.14.b', '1868.00.00.b', '2007.06.05', '1974.11.01', '1962.03.24', '2003.04.21.b', '2010.10.02.a', '1845.07.31.R', '1896.09.11.R', '1969.08.29', '1936.06.26', '1988.09.13.b', '1983.02.20', '2015.06.27.b', '2003.10.27', '2013.10.23', '1914.07.07', '1907.07.04.R', '1936.11.27', '1972.07.05', '1986.10.17', '2010.07.19', '2008.05.07.a', '2017.07.27', '2012.01.02', '1988.07.23', '1942.01.00', '1994.03.23.a', '1911.00.00.b', '2011.05.07.R', '1905.02.10', '2011.03.10.R', '2011.01.28', '1960.09.01', '1998.10.24', '1959.01.17.b', '1996.12.00.a', '1995.11.29', '2014.12.28.b', '2013.09.14', '1962.12.00', '1853.00.00.d', '1968.12.26', '1999.12.14', '2010.08.18', '1976.00.00.b', '2001.02.04', '1967.08.19', '2010.05.18.c', '1916.07.11', '1933.08.28.a', '2002.08.28', '1993.08.00.a', '1992.06.28.a', '1944.01.20', '2016.04.23', '1924.01.19', '1992.01.00', '2011.07.25', '1886.01.28', '1967.01.22', '1992.11.14', '1913.00.00.c', '1873.06.09.R', '1942.01.04', '1921.09.00', '1872.02.26', '2004.01.21.b', '1998.10.10', '1975.00.00.a', '1878.10.13', '2005.11.27', '1998.11.11', '1976.10.27', '1970.04.00.b', '2015.06.30.a', '2017.06.05', '1972.12.31', '1931.09.02', '2005.04.16.a', '1960.09.18', '1972.04.01.b', '1961.05.15', '1847.09.10', '2006.12.18', '2013.10.05', '1966.06.02', '2004.03.31.a', '1912.01.06', '2016.09.07', '1974.01.13', '2005.02.26', '2014.06.08', '2013.06.17', '1936.07.12', '1880.05.02.a', '1984.03.01', '1968.08.11', '1871.08.29.R', '2004.07.10', '2018.06.09', '1972.10.14.a', '1934.02.24', '1994.12.09.b', '2012.08.05', '1969.11.11', '1982.09.25', '1958.07.31.R', '1951.03.15', '1929.01.05', '2007.03.05.R', '2000.08.10', '1958.11.14', '2011.08.26', '2016.01.29', '2008.04.09.R', '2012.10.18.a', '2000.07.15.a', '1892.12.15', '1974.03.00', '2007.07.05', '1962.01.02', '1916.06.30', '2011.08.28.a', '1984.11.11', '1849.09.19', '1988.01.06', '1958.07.00.a', '1997.10.28.b', '2014.12.29.b', '1938.00.00.c', '1993.04.00', '1932.07.02', '2011.06.30', '1978.06.07', '0000.0725', '1982.06.26.b', '1961.09.24.b', '1826.12.00', '2014.11.20', '2009.01.06', '2001.08.27', '1962.07.28', '1959.01.15', '1978.00.00.a', '1934.08.05', '1965.04.04.a', '1995.08.27', '2001.07.25', '1960.04.03.a', '2016.03.28.a', '1925.03.12', '2015.05.02', '1981.03.00', '1963.12.29', 'ND.0060', '1962.10.00', '2008.02.21.R', '1956.08.00.d', '2009.01.24.b', '2008.03.07', '2010.12.01.a', '2001.04.12.e', '1985.10.12', '2016.03.13', '2015.09.20.c', '2016.06.04', '1963.04.22', '1995.00.00.c', '1992.11.25.a', '2014.03.12', '1953.00.00.c', '2012.05.31', '1953.03.19.R', '1595.00.00', '2017.10.05', '1983.08.13.b', '1995.08.15', '2014.11.29', '1976.07.12', '1997.07.17', '2001.08.29', '2007.08.20', '2014.08.25', '1971.04.00', '2010.12.17', '1984.02.18', '1938.06.17', '2004.05.22.a', '1986.02.18', '1947.01.05', '2011.09.24.a', '1873.00.00', 'ND.0016', '1982.08.29.a', '2011.06.19.a', '1955.02.10', '1817.06.15', '1851.06.16.R', '2014.12.29.a', '2018.04.15.a', '1969.07.27', '2000.06.10', '1992.09.11', '1970.10.24', '1990.02.17', '1938.01.18', '2008.09.14', '1967.08.27', '1855.02.12.R', '1926.00.00.c', '1974.09.07', '2009.05.16.a', '1929.04.17.R', '2001.09.30.a', '2011.10.22', '2008.07.13', '1993.06.30', '1930.08.06', '1935.06.05.R', '1983.07.25.a', '1962.07.03.R', '2001.03.00', '1917.07.15', '1996.07.14', '1987.12.17', '1919.12.07', '2003.09.13.a', '1966.11.00', '1994.01.03', '2015.01.24', '1966.08.00.b', '1893.04.14', '1963.09.22', '2001.02.11', '1981.06.15.R', '2009.07.07', '2017.10.23.b', '1822.04.15', '1880.07.25', '1951.11.23.R', 'ND.0002', '1961.01.03.a', '1992.08.00', '1955.04.00', '1956.01.16.R', '1943.00.00.d', '1990.04.08', '1991.01.00', '1956.06.22', '1959.04.09..a', '1954.00.00.d', '1957.00.00.j', '1988.11.07', '1961.12.28.a', '1929.11.21', '1909.00.00', '1916.08.24', '1864.09.18.R', '1842.00.00.a', '2016.06.14', '1999.11.30', '2003.11.01', '1990.10.25', '1936.02.23', '1973.04.04', '1982.03.10', '1810.09.15', '2003.05.03', '1978.09.27', '2004.12.16', '1993.08.15.a', '1939.04.12.R', '1938.05.26', '1979.02.21', '2000.01.28.R', '1998.08.15', '1961.09.26', '2001.08.18.a', 'ND.0085', '2003.10.31.a', '1998.10.18', '1973.03.05', '1967.03.09', '1878.09.02.a', '1979.05.05', '2000.11.06.a', '1953.07.11', '2002.02.16', '2001.09.08', 'ND.0095', '1982.07.11', '2003.04.20.a', '1989.06.06', '1922.12.14', '2000.08.31', '2008.07.24.b', '1964.06.17', '1876.00.00.c', '1970.00.00.d', '2004.01.25', '2017.09.03.b', '1903.06.21', '2001.08.12', '2006.02.08', '1887.12.04', '1992.10.29', 'ND.0089', 'ND.0102', '1959.04.27', '1906.02.14.R', '2003.09.12', '1961.04.08', '1890.00.00.a', '1876.00.00.a', '1888.07.04', '2000.03.09', 'ND.0013', '1898.12.28.R', '1988.05.27', '1962.06.07', '1882.00.00.a', '1889.10.03.R', '2007.09.30.c', '1992.08.17', '1970.08.02', '1964.02.11', '1780.08.08', '1995.06.17.b', '1967.01.21', '2011.07.31', '1960.02.19', '1987.03.30.b', '1996.05.10', '1996.07.21', '1930.11.30', '1996.01.14.b', '1999.08.24', '1931.08.18', '1954.09.21', '2012.06.14.d', '1933.01.04', '1953.04.00.a', '2007.08.19.c', '1861.09.25.R', '2001.04.13.a', '2000.01.05', '1990.04.14', '1968.00.00.c', '1950.00.00.l', '1947.11.23', '1995.07.07', '1987.12.13', '1948.06.06.R', '1882.05.14', '1979.05.00.c', '2000.04.14', '1930.09.26.R', '1906.04.02.R', '2009.09.01', '2016.07.07.b', '1936.12.01', '1878.02.02', '2009.07.11.b', '2014.08.27.c', '1949.01.05', '1878.08.09', '1964.01.18', '1964.08.03', '1999.03.18.b', '1991.10.05', '1970.01.10', '1986.02.01', '1961.01.05', 'ND.0003', '2000.03.02', '1999.09.04.a', '1988.06.19', '1826.11.00', '1950.07.21', '1949.04.13', '2015.09.05', '1930.12.13', '1913.00.00.d', '1951.02.19', '1981.05.05', '1972.08.08', '2004.10.01', '2012.06.28.R', '1923.12.12', '1961.00.00.b', '1950.07.00', '1946.02.10.b', '2017.09.15.b', '2012.07.19', '1990.02.05', '2011.06.06.a', '1892.11.09.R', '1749.00.00', '1936.08.13', '1970.04.00.a', '1988.04.14.a', '1971.10.23', '1987.07.09', '2007.08.28.a', '2004.07.27.a', '2011.11.11', '1936.02.04', '1986.12.06.a', '2009.06.21', '1889.11.22', '2018.02.15', '2013.02.21.a', '2014.08.06', '1980.12.26', '2015.05.07', '2010.01.27', '2016.09.15.R', '2004.05.22.b', '1927.07.03', '2010.11.19', 'ND.0032', '1988.01.14', '2008.06.02.R', '2009.12.16', '1941.00.00.d', '1943.00.00.b', '1849.10.04', '1972.04.01.a', '2016.09.06', '1988.05.10', '1970.02.05', '1980.11.11.', '1966.00.00', '1997.08.11.c', '1943.07.18', '1909.08.13', '1986.07.09', '1876.02.06', '1995.06.14', '2000.06.00', '1984.10.14.a', '2015.08.10', '1995.07.28.d', '1938.03.21.R', '2014.08.27.b', '1889.07.21', '1980.04.22', '2000.06.02', '2009.07.29', '1892.03.25.R', '1951.06.00', '1926.10.23.a', '1934.02.22', '1901.00.00', '2004.01.21.a', '1880.01.22', '1976.10.18', '2007.08.19.a.', '1894.10.06.R', '2010.10.28.R', '2004.08.00', '2016.05.21.a', '2012.07.31.a', '1954.10.07', '2008.07.30.R', '1979.08.28', '1896.00.00.b', '1929.04.11', '2003.06.08', '1957.10.24', '1960.10.00.e', '1906.07.00', '2010.06.00', '1976.11.23', '1858.04.04', '2005.11.02.a', '1978.04.02.b', '1943.12.04', '2000.10.06.a', '1999.05.01', '2009.04.06.b', '2009.08.29', '1985.09.08.b', '1939.10.04', '1987.05.06', '1906.11.16', '1920.00.00.a', '1886.06.02', '1990.11.03', '1932.12.11.R', '1989.06.17', '1978.08.01.R', '1963.02.04', '2017.04.12.b', '2004.09.04', '1979.09.14', 'ND.0081', '1876.00.00.d', '1945.09.16', '1992.02.14', '1919.12.30.R', '2016.02.02', '2006.07.25', '1964.01.21', '1976.01.08', '1959.02.02', '1960.08.04.a', '2009.07.11.a', '2014.08.05', '1976.04.28', '2009.03.20', '1989.12.02', '1987.07.00', '1998.04.17', '1964.02.10', '1969.06.27', '2011.08.24.b', '1953.02.15', '2011.08.28.b', '2007.11.08', '1893.06.22.R', '1944.01.16', '1944.12.18', '2010.04.04', '2012.09.08.a', '2014.01.26', '2009.02.08', '1997.05.26', '2003.04.20.b', '1962.02.00', '2009.09.15', '1955.03.09', '1998.08.01.a', '1964.10.25', '2013.02.10', '1977.02.04', '1972.03.21', '2011.07.22', '1896.07.25', '1944.10.25.a', '1948.12.10', '2002.10.05.a', '1975.11.19.b', '2016.05.18', '2014.09.03', 'ND.0036', '1846.08.20.R', '1986.03.18', '1967.09.07.a', '2017.10.22', '1972.06.26.b', '1900.09.15', '1970.09.28', '1941.00.00.b', '1998.01.28.a', '2008.12.14', '2018.02.03', '2015.06.14.a', '2014.07.27', '1917.07.18', '2007.11.18', '2008.06.26.a', '2005.03.27.R', '2017.09.24.b', '1874.07.23', '1877.03.11', '1950.00.00.b', '1996.05.28', '1925.11.00.b', '1909.04.09.R', '1994.02.12', '1985.08.20', '2003.09.21', '2014.10.14', '1997.02.28.b', '1948.05.10', '2013.07.31', '1964.07.15', '1996.12.10', '1994.01.30', '1950.02.11', '2000.10.02', '1938.10.05', '1965.03.23', '1969.08.00', '2007.05.16', '1899.05.28', '2010.07.25', '2012.12.05', '2015.01.16', '2010.11.27.R', '1975.06.23.a', '2017.06.04', '1962.01.21', '1976.02.03', '2010.07.02.b', '1956.08.15.a', '1937.09.11', '2006.01.01', '1971.10.14', '2010.01.09.a', '2007.12.21', '1907.02.09', '1840.07.22.R', '2006.05.21', '1959.12.26', '1895.12.09', '1972.10.22', '1950.07.09', '1939.02.26.b', '1999.07.26', '2010.02.13', '1981.00.00.b', '2007.02.04', '1890.12.27.R', '2015.12.21.a', '1968.10.13', '1997.08.14.b', '1999.12.02', '2006.01.07', '2014.10.12', '2011.03.21.b', '1969.04.19', '1983.08.06', '2013.04.02.a', '1983.06.29', '1993.08.00.b', '1961.03.07', '1903.10.04', '2012.07.07.b', '2009.03.21', '1844.00.00', '1947.11.14.b', '1879.07.03', '1951.01.03', '2017.08.05', '1994.02.27', '1965.00.00.d', '2013.01.21.R', '1985.01.04', '1981.10.16', '1988.10.24', '2013.04.14', '2018.02.14', '2011.03.24', '1979.08.05', '1892.09.16.R', '1966.07.02', '2009.06.02.b', '2014.05.27.R', '1926.12.02.R', '2005.12.05.R', '2016.10.13.R', '1940.00.00.d', '1935.07.01', '2001.04.02.b', '1872.04.03.R', '1895.07.16.R', '2003.04.18', '1864.01.02', '1961.00.00.e', '2005.08.06', '1914.06.12', '2015.10.30', '1984.01.05', '1908.12.31', '1991.09.08', '1944.00.00.b', '1973.00.00.b', '2005.06.04', '1908.06.18', '1983.05.24', '1949.00.00.f', '1960.06.24', '1876.09.07.R', '2015.10.04', '1979.06.19', '1923.06.16', '1999.03.08', '1895.11.21.R', '1962.06.10.a', '2002.09.27.a', '2011.08.01', '1929.10.02', '1992.03.08.c', '1935.08.26', '2016.09.18.c', '1950.12.31', '1929.10.20', '2017.04.10.b', '1929.12.13', '1924.06.18', '1959.11.29', '2004.07.30', 'ND-0153', '1950.12.16', '2016.01.05', '1960.00.00.i', '2006.10.00.a', '2008.06.28.b', '2015.09.20.d', '1988.06.05', '1994.01.31.a', '1952.12.03', '1968.02.20', '1996.07.20', '1956.05.00', '1914.01.17.R', '2001.07.06.b', '1977.08.31', '2007.08.09.b', '1927.10.12', '1981.07.20', '2002.12.21', '1964.12.09', '1993.03.17', '2002.12.01', '1930.05.11.R', '1993.11.12', '2002.07.09.a', '2013.02.27', '1990.05.13', '1953.03.00.c', 'ND.0076', 'ND.0069', '1956.09.00.a', '1992.07.21', '1958.07.10', '1937.10.27.a', '1957.09.02', '1723.00.00', '1994.01.12.R', '1956.10.27', '2018.04.22', '2011.10.19', '1966.05.20.c', '1965.10.10', '1968.02.18', '1867.08.00', '1975.10.21', '1907.07.14.R', '1936.12.15', '2012.08.09', '1984.02.17', '1816.09.03.R', '2010.08.02.b', '1965.12.28', '1988.10.23', '1863.01.10', '2014.04.12.R', '2002.11.02', '1931.01.24', '1959.11.28', '1933.06.21', '2012.05.09', '1998.03.08.a', '1883.00.00.d', '2015.02.15', '1965.07.30', '1957.00.00.d', '1916.11.10', '1965.10.16.b', '1995.11.25.a', '1934.04.15', '2006.02.12.b', '1960.01.13', '1930.06.04', '2013.05.23.a', '1839.00.00.b', '1960.10.00.b', '2009.08.10', '2000.08.00', '1939.02.26.a', 'ND-0149', '2005.10.01', '1863.02.05', '1963.10.15', '2004.11.26', '2001.06.03', '1938.06.08', '1927.02.14', '2004.03.22', '2005.01.20', '2006.09.03.a', '1904.02.07', '1973.09.29', '1899.00.00.a', '1803.03.00', '1978.03.05', '1986.12.04', '2017.02.21', '1961.10.00.a', '2008.04.20.b', '2004.02.26', '2007.11.00', '1931.08.23', '1924.03.24', '2010.09.04', '1959.00.00.e', '1983.01.15', '1961.04.25', '1924.07.31', '2015.06.14.b', '1995.08.26.a', '1871.12.11.R', '1983.11.10.R', '2015.07.23.a', '2015.10.17.b', '1958.12.23', '1926.05.18', '2017.04.02.b', '1947.03.09', '1954.00.00.a', '1992.02.19', '1890.08.17.R', '1985.01.27', '1972.10.14.b', '2000.06.09.b', '1900.10.27', '1999.00.00.b', '1949.00.00.b', '1893.06.22', '2005.11.02.b', '1962.10.15', '1974.09.01', '2000.03.30', '1973.03.00', '1964.11.13', '1881.09.05', '1939.07.16', '2009.09.13', '1987.10.26', '2003.04.04', '1984.09.30.a', '2002.05.21', '1942.11.13.a', '2007.09.16.b', '2002.06.09.b', '2002.02.23', '1840.02.00', '1985.01.00.b', '1986.02.07', '1999.12.31.c', '1964.06.29.a', '2008.07.05', '1937.09.01', '1993.02.04', '1955.07.23', '1863.03.05', '2017.02.01.b', '1951.11.28.a', '1987.00.00.b', <NA>}\n"
     ]
    }
   ],
   "source": [
    "print(set(df['Case Number']))"
   ]
  },
  {
   "cell_type": "code",
   "execution_count": 303,
   "metadata": {
    "ExecuteTime": {
     "end_time": "2021-01-06T13:47:00.123452Z",
     "start_time": "2021-01-06T13:47:00.099456Z"
    },
    "scrolled": true
   },
   "outputs": [],
   "source": [
    "# removi da coluna CASE NUMBER apenas o ano, pois contia mais informações que a própria coluna Year\n",
    "\n",
    "df['Novo_Campo'] = df['Case Number'].str[:4]\n",
    "\n",
    "# deletei a coluna na sequencia:\n",
    "df = df.drop(['Case Number'], axis=1)\n"
   ]
  },
  {
   "cell_type": "code",
   "execution_count": 304,
   "metadata": {
    "ExecuteTime": {
     "end_time": "2021-01-06T13:47:02.888221Z",
     "start_time": "2021-01-06T13:47:02.872284Z"
    }
   },
   "outputs": [
    {
     "data": {
      "text/plain": [
       "6302"
      ]
     },
     "execution_count": 304,
     "metadata": {},
     "output_type": "execute_result"
    }
   ],
   "source": [
    "len(df['Novo_Campo'])"
   ]
  },
  {
   "cell_type": "code",
   "execution_count": 306,
   "metadata": {
    "ExecuteTime": {
     "end_time": "2021-01-06T13:47:09.854743Z",
     "start_time": "2021-01-06T13:47:09.806750Z"
    }
   },
   "outputs": [
    {
     "name": "stdout",
     "output_type": "stream",
     "text": [
      "{'1881', '1784', '1895', '1848', '1897', '1787', '1932', '1957', '2014', '1944', '1915', '1903', '1827', '1989', '1967', '1815', '1800', '1952', '1964', '1748', '1858', '1823', '1886', '1961', '1936', '1914', '1925', '1898', '1876', '1987', '1972', '1930', '1924', '1894', '1960', '1978', '1998', '1977', '1904', '1956', '1853', '1723', '1865', '2002', '1864', '1863', '1642', '1852', '1543', '2007', '1738', '2005', '1966', '1912', '1856', '1867', '1803', '1841', '1637', '1751', '1955', '1997', '1940', '1883', '1779', '1965', '1923', '1988', '1893', '1859', '1931', '1828', '1982', '1807', '1976', '1826', '1974', '1771', '1742', '1938', '1617', '2016', '1764', '1892', '1849', '0077', '1991', '1916', '1958', '1975', '1918', '1929', '1830', '0005', '1880', '1943', '0000', '1851', '1926', '1986', '1919', '1920', '1908', '1928', '1907', '1822', '1810', '1786', '2006', '1937', '1785', '1767', '1879', '1993', '1638', '1861', '1910', '1555', '1913', '1992', '1837', '1891', '1917', '2009', '1875', '1946', '1906', '1868', '1808', '1580', '1857', '1866', '1949', '1829', '1980', '1941', '1842', '1825', '1847', '1948', '1817', '1832', '1901', '1801', '1797', '1703', '2010', '1959', 'ND.0', '1983', '1816', '1791', '1839', 'ND-1', '1776', '1840', '1899', '1951', '1554', '1950', '1922', '1834', '1780', '0500', '1783', '1878', '1902', '1911', '1927', '1871', '1984', '1733', '1905', '1755', '1819', '1804', '1753', '2018', '1700', '1845', '1963', '1979', '1970', '1802', '1990', '1873', '1855', '1811', '1971', '1945', '2003', '1953', '1792', '1889', '1909', '1846', '1850', '1985', '1942', '1844', '1831', '1870', '2012', '1721', '1935', '1869', '1835', '1758', '2017', '1749', '2004', '1805', '1888', '1862', '2001', '1973', '1872', '2015', '1874', '1836', '1884', '1860', '1595', 'ND-0', '1954', '2008', '1933', '2013', '1877', '1968', '1939', '1900', '1969', '1812', '1921', '1896', '1788', '2011', '1995', '1934', '1885', '1996', '1890', '1981', '1882', '1999', '1818', '1962', '1887', '1947', '1994', '2000', '1806', <NA>}\n"
     ]
    }
   ],
   "source": [
    "print(set(df['Novo_Campo']))"
   ]
  },
  {
   "cell_type": "code",
   "execution_count": 308,
   "metadata": {
    "ExecuteTime": {
     "end_time": "2021-01-06T13:51:09.179662Z",
     "start_time": "2021-01-06T13:51:09.091600Z"
    }
   },
   "outputs": [],
   "source": [
    "df['Novo_Campo'] = df['Novo_Campo'].str.strip()\n",
    "df['Novo_Campo'] = df['Novo_Campo'].fillna('0000')\n",
    "df['Novo_Campo'] = df['Novo_Campo'].str.replace('0005','0000')\n",
    "df['Novo_Campo'] = df['Novo_Campo'].str.replace('ND.0','0000')\n",
    "df['Novo_Campo'] = df['Novo_Campo'].str.replace('ND-1','0000')\n",
    "df['Novo_Campo'] = df['Novo_Campo'].str.replace('ND-0','0000')\n",
    "df['Novo_Campo'] = df['Novo_Campo'].str.replace('0500','0000')\n",
    "df['Novo_Campo'] = df['Novo_Campo'].str.replace('0077','0000')"
   ]
  },
  {
   "cell_type": "code",
   "execution_count": 309,
   "metadata": {
    "ExecuteTime": {
     "end_time": "2021-01-06T13:51:13.727939Z",
     "start_time": "2021-01-06T13:51:13.667418Z"
    },
    "scrolled": false
   },
   "outputs": [
    {
     "name": "stdout",
     "output_type": "stream",
     "text": [
      "{'1881', '1784', '1895', '1848', '1897', '1787', '1932', '1957', '2014', '1944', '1915', '1903', '1827', '1989', '1967', '1815', '1800', '1952', '1964', '1748', '1858', '1823', '1886', '1961', '1936', '1914', '1925', '1898', '1876', '1987', '1972', '1930', '1924', '1894', '1960', '1978', '1998', '1977', '1904', '1956', '1853', '1723', '1865', '2002', '1864', '1863', '1642', '1852', '1543', '2007', '1738', '2005', '1966', '1912', '1856', '1867', '1803', '1841', '1637', '1751', '1955', '1997', '1940', '1883', '1779', '1965', '1923', '1988', '1893', '1859', '1931', '1828', '1982', '1807', '1976', '1826', '1974', '1771', '1742', '1938', '1617', '2016', '1764', '1892', '1849', '1991', '1916', '1958', '1975', '1918', '1929', '1830', '1880', '1943', '0000', '1851', '1926', '1986', '1919', '1920', '1908', '1928', '1907', '1822', '1810', '1786', '2006', '1937', '1785', '1767', '1879', '1993', '1638', '1861', '1910', '1555', '1913', '1992', '1837', '1891', '1917', '2009', '1875', '1946', '1906', '1868', '1808', '1580', '1857', '1866', '1949', '1829', '1980', '1941', '1842', '1825', '1847', '1948', '1817', '1832', '1901', '1801', '1797', '1703', '2010', '1959', '1983', '1816', '1791', '1839', '1776', '1840', '1899', '1951', '1554', '1950', '1922', '1834', '1780', '1783', '1878', '1902', '1911', '1927', '1871', '1984', '1733', '1905', '1755', '1819', '1804', '1753', '2018', '1700', '1845', '1963', '1979', '1970', '1802', '1990', '1873', '1855', '1811', '1971', '1945', '2003', '1953', '1792', '1889', '1909', '1846', '1850', '1985', '1942', '1844', '1831', '1870', '2012', '1721', '1935', '1869', '1835', '1758', '2017', '1749', '2004', '1805', '1888', '1862', '2001', '1973', '1872', '2015', '1874', '1836', '1884', '1860', '1595', '1954', '2008', '1933', '2013', '1877', '1968', '1939', '1900', '1969', '1812', '1921', '1896', '1788', '2011', '1995', '1934', '1885', '1996', '1890', '1981', '1882', '1999', '1818', '1962', '1887', '1947', '1994', '2000', '1806'}\n"
     ]
    }
   ],
   "source": [
    "df.rename(columns={'Novo_Campo': 'Year_1'}, inplace=True)\n",
    "\n",
    "print(set(df['Year_1']))"
   ]
  },
  {
   "cell_type": "code",
   "execution_count": 313,
   "metadata": {
    "ExecuteTime": {
     "end_time": "2021-01-06T15:26:17.433800Z",
     "start_time": "2021-01-06T15:26:08.446703Z"
    }
   },
   "outputs": [],
   "source": [
    "df.to_excel('../PROJETO2/attacks.xlsx', encoding='latin-1',index=False)\n"
   ]
  }
 ],
 "metadata": {
  "kernelspec": {
   "display_name": "Python 3",
   "language": "python",
   "name": "python3"
  },
  "language_info": {
   "codemirror_mode": {
    "name": "ipython",
    "version": 3
   },
   "file_extension": ".py",
   "mimetype": "text/x-python",
   "name": "python",
   "nbconvert_exporter": "python",
   "pygments_lexer": "ipython3",
   "version": "3.8.3"
  },
  "toc": {
   "base_numbering": 1,
   "nav_menu": {},
   "number_sections": true,
   "sideBar": true,
   "skip_h1_title": false,
   "title_cell": "Table of Contents",
   "title_sidebar": "Contents",
   "toc_cell": false,
   "toc_position": {},
   "toc_section_display": true,
   "toc_window_display": false
  },
  "varInspector": {
   "cols": {
    "lenName": 16,
    "lenType": 16,
    "lenVar": 40
   },
   "kernels_config": {
    "python": {
     "delete_cmd_postfix": "",
     "delete_cmd_prefix": "del ",
     "library": "var_list.py",
     "varRefreshCmd": "print(var_dic_list())"
    },
    "r": {
     "delete_cmd_postfix": ") ",
     "delete_cmd_prefix": "rm(",
     "library": "var_list.r",
     "varRefreshCmd": "cat(var_dic_list()) "
    }
   },
   "types_to_exclude": [
    "module",
    "function",
    "builtin_function_or_method",
    "instance",
    "_Feature"
   ],
   "window_display": false
  }
 },
 "nbformat": 4,
 "nbformat_minor": 4
}
